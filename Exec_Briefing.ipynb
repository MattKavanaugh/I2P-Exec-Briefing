{
 "cells": [
  {
   "cell_type": "markdown",
   "metadata": {},
   "source": [
    "<h1 style=\"width:750px\">Airbnb and the Prevalence of Ghost Hotels in London</h1>"
   ]
  },
  {
   "cell_type": "markdown",
   "metadata": {},
   "source": [
    "---"
   ]
  },
  {
   "cell_type": "markdown",
   "metadata": {},
   "source": [
    "| CASA0013 | Introduction to Programming for Spatial Analysts | \n",
    "|----|----|\n",
    "| Programme | MSc Smart Cities and Urban Analytics |\n",
    "| Bartlett | Centre for Advanced Spatial Analytics |\n",
    "| Word Count | 2,500 |\n",
    "| Student ID | 19140941 |\n",
    "| Date | 21-01-13 |"
   ]
  },
  {
   "cell_type": "markdown",
   "metadata": {},
   "source": [
    "---"
   ]
  },
  {
   "cell_type": "markdown",
   "metadata": {},
   "source": [
    "## Part 1 - Reproducible Analysis"
   ]
  },
  {
   "cell_type": "markdown",
   "metadata": {},
   "source": [
    "Data for this analysis was downloaded from the Inside Airbnb website at http://insideairbnb.com/get-the-data.html.\n",
    "\n",
    "| | | | |\n",
    "|----|----|----|----|\n",
    "|  09 August, 2019  |  London  |  listings.csv.gz  |  Detailed Listings data for London  |\n",
    "\n",
    "**Note:** With a filesize of 318 MB, the original .csv file was too large for GitHub to upload. Consequently, as only 9 of the 106 original columns were used in this analysis, a .csv file (19-08_ab_london.csv) containing only these 9 columns can be downloaded from GitHub at https://github.com/MattKavanaugh/I2P-Exec-Briefing. The original code used to remove the 97 other columns has been left in the reproducible analysis code below (see \"Clean\"), but hashed out so it does not run."
   ]
  },
  {
   "cell_type": "markdown",
   "metadata": {},
   "source": [
    "### Load"
   ]
  },
  {
   "cell_type": "code",
   "execution_count": 64,
   "metadata": {},
   "outputs": [],
   "source": [
    "#Load libraries\n",
    "\n",
    "import pandas as pd\n",
    "import geopandas as gpd\n",
    "import json\n",
    "import numpy as np\n",
    "import matplotlib\n",
    "import matplotlib.pyplot as plt\n",
    "import matplotlib.image as mpimg\n",
    "import seaborn as sns"
   ]
  },
  {
   "cell_type": "code",
   "execution_count": 26,
   "metadata": {},
   "outputs": [
    {
     "data": {
      "text/html": [
       "<div>\n",
       "<style scoped>\n",
       "    .dataframe tbody tr th:only-of-type {\n",
       "        vertical-align: middle;\n",
       "    }\n",
       "\n",
       "    .dataframe tbody tr th {\n",
       "        vertical-align: top;\n",
       "    }\n",
       "\n",
       "    .dataframe thead th {\n",
       "        text-align: right;\n",
       "    }\n",
       "</style>\n",
       "<table border=\"1\" class=\"dataframe\">\n",
       "  <thead>\n",
       "    <tr style=\"text-align: right;\">\n",
       "      <th></th>\n",
       "      <th>id</th>\n",
       "      <th>host_id</th>\n",
       "      <th>host_about</th>\n",
       "      <th>host_neighbourhood</th>\n",
       "      <th>neighbourhood_cleansed</th>\n",
       "      <th>latitude</th>\n",
       "      <th>longitude</th>\n",
       "      <th>property_type</th>\n",
       "      <th>room_type</th>\n",
       "    </tr>\n",
       "  </thead>\n",
       "  <tbody>\n",
       "    <tr>\n",
       "      <th>0</th>\n",
       "      <td>32722203</td>\n",
       "      <td>2697</td>\n",
       "      <td>37 years old from France. Living with my wife,...</td>\n",
       "      <td>LB of Islington</td>\n",
       "      <td>Islington</td>\n",
       "      <td>51.55416</td>\n",
       "      <td>-0.10358</td>\n",
       "      <td>Apartment</td>\n",
       "      <td>Entire home/apt</td>\n",
       "    </tr>\n",
       "    <tr>\n",
       "      <th>1</th>\n",
       "      <td>32722192</td>\n",
       "      <td>4775</td>\n",
       "      <td>Hi\\r\\n\\r\\nI expect you'd like to know somethin...</td>\n",
       "      <td>St. Luke's</td>\n",
       "      <td>Islington</td>\n",
       "      <td>51.52603</td>\n",
       "      <td>-0.08835</td>\n",
       "      <td>Apartment</td>\n",
       "      <td>Private room</td>\n",
       "    </tr>\n",
       "    <tr>\n",
       "      <th>2</th>\n",
       "      <td>35913421</td>\n",
       "      <td>4775</td>\n",
       "      <td>Hi\\r\\n\\r\\nI expect you'd like to know somethin...</td>\n",
       "      <td>St. Luke's</td>\n",
       "      <td>Islington</td>\n",
       "      <td>51.52605</td>\n",
       "      <td>-0.08856</td>\n",
       "      <td>Apartment</td>\n",
       "      <td>Private room</td>\n",
       "    </tr>\n",
       "    <tr>\n",
       "      <th>3</th>\n",
       "      <td>32191740</td>\n",
       "      <td>4775</td>\n",
       "      <td>Hi\\r\\n\\r\\nI expect you'd like to know somethin...</td>\n",
       "      <td>St. Luke's</td>\n",
       "      <td>Islington</td>\n",
       "      <td>51.52517</td>\n",
       "      <td>-0.08842</td>\n",
       "      <td>Apartment</td>\n",
       "      <td>Private room</td>\n",
       "    </tr>\n",
       "    <tr>\n",
       "      <th>4</th>\n",
       "      <td>15267243</td>\n",
       "      <td>4775</td>\n",
       "      <td>Hi\\r\\n\\r\\nI expect you'd like to know somethin...</td>\n",
       "      <td>St. Luke's</td>\n",
       "      <td>Islington</td>\n",
       "      <td>51.52603</td>\n",
       "      <td>-0.08909</td>\n",
       "      <td>Apartment</td>\n",
       "      <td>Entire home/apt</td>\n",
       "    </tr>\n",
       "  </tbody>\n",
       "</table>\n",
       "</div>"
      ],
      "text/plain": [
       "         id  host_id                                         host_about  \\\n",
       "0  32722203     2697  37 years old from France. Living with my wife,...   \n",
       "1  32722192     4775  Hi\\r\\n\\r\\nI expect you'd like to know somethin...   \n",
       "2  35913421     4775  Hi\\r\\n\\r\\nI expect you'd like to know somethin...   \n",
       "3  32191740     4775  Hi\\r\\n\\r\\nI expect you'd like to know somethin...   \n",
       "4  15267243     4775  Hi\\r\\n\\r\\nI expect you'd like to know somethin...   \n",
       "\n",
       "  host_neighbourhood neighbourhood_cleansed  latitude  longitude  \\\n",
       "0    LB of Islington              Islington  51.55416   -0.10358   \n",
       "1         St. Luke's              Islington  51.52603   -0.08835   \n",
       "2         St. Luke's              Islington  51.52605   -0.08856   \n",
       "3         St. Luke's              Islington  51.52517   -0.08842   \n",
       "4         St. Luke's              Islington  51.52603   -0.08909   \n",
       "\n",
       "  property_type        room_type  \n",
       "0     Apartment  Entire home/apt  \n",
       "1     Apartment     Private room  \n",
       "2     Apartment     Private room  \n",
       "3     Apartment     Private room  \n",
       "4     Apartment  Entire home/apt  "
      ]
     },
     "execution_count": 26,
     "metadata": {},
     "output_type": "execute_result"
    }
   ],
   "source": [
    "#Load data\n",
    "#The orginal data set had 106 columns, the code below will only read the reduced file containing 9 columns\n",
    "#The original code would have read airbnb1 = pd.read_csv('listings.csv')\n",
    "\n",
    "airbnb2 = pd.read_csv('19-08_ab_london.csv',encoding = \"Latin-1\")\n",
    "airbnb2.head()"
   ]
  },
  {
   "cell_type": "markdown",
   "metadata": {},
   "source": [
    "#### Review"
   ]
  },
  {
   "cell_type": "code",
   "execution_count": 27,
   "metadata": {},
   "outputs": [
    {
     "data": {
      "text/plain": [
       "(85918, 9)"
      ]
     },
     "execution_count": 27,
     "metadata": {},
     "output_type": "execute_result"
    }
   ],
   "source": [
    "#Check number of rows and number of columns\n",
    "airbnb2.shape"
   ]
  },
  {
   "cell_type": "code",
   "execution_count": 28,
   "metadata": {},
   "outputs": [
    {
     "data": {
      "text/plain": [
       "id                          int64\n",
       "host_id                     int64\n",
       "host_about                 object\n",
       "host_neighbourhood         object\n",
       "neighbourhood_cleansed     object\n",
       "latitude                  float64\n",
       "longitude                 float64\n",
       "property_type              object\n",
       "room_type                  object\n",
       "dtype: object"
      ]
     },
     "execution_count": 28,
     "metadata": {},
     "output_type": "execute_result"
    }
   ],
   "source": [
    "#Check data type of every column\n",
    "airbnb2.dtypes"
   ]
  },
  {
   "cell_type": "code",
   "execution_count": 31,
   "metadata": {},
   "outputs": [
    {
     "data": {
      "text/plain": [
       "id                        85918\n",
       "host_id                   85918\n",
       "host_about                49399\n",
       "host_neighbourhood        66720\n",
       "neighbourhood_cleansed    85918\n",
       "latitude                  85918\n",
       "longitude                 85918\n",
       "property_type             85918\n",
       "room_type                 85918\n",
       "dtype: int64"
      ]
     },
     "execution_count": 31,
     "metadata": {},
     "output_type": "execute_result"
    }
   ],
   "source": [
    "#Check counts of every column\n",
    "airbnb2.count()"
   ]
  },
  {
   "cell_type": "markdown",
   "metadata": {},
   "source": [
    "### Clean"
   ]
  },
  {
   "cell_type": "code",
   "execution_count": 39,
   "metadata": {},
   "outputs": [],
   "source": [
    "#Create a new dataframe containing only the columns needed for analysis\n",
    "#The following two lines of code deliberately hashed out - see note at beginning of this section\n",
    "\n",
    "#airbnb1 = pd.read_csv('listings.csv')\n",
    "#airbnb2 = airbnb1.loc[:, ['id', 'host_id', 'host_about', 'host_neighbourhood', 'neighbourhood_cleansed', 'latitude', 'longitude', 'property_type', 'room_type']]\n",
    "#airbnb2.head()"
   ]
  },
  {
   "cell_type": "code",
   "execution_count": 40,
   "metadata": {},
   "outputs": [
    {
     "data": {
      "text/plain": [
       "id                            0\n",
       "host_id                       0\n",
       "host_about                36519\n",
       "host_neighbourhood        19198\n",
       "neighbourhood_cleansed        0\n",
       "latitude                      0\n",
       "longitude                     0\n",
       "property_type                 0\n",
       "room_type                     0\n",
       "dtype: int64"
      ]
     },
     "execution_count": 40,
     "metadata": {},
     "output_type": "execute_result"
    }
   ],
   "source": [
    "#Check for missing values and compare to counts\n",
    "airbnb2.isnull().sum()"
   ]
  },
  {
   "cell_type": "code",
   "execution_count": 52,
   "metadata": {},
   "outputs": [
    {
     "data": {
      "text/plain": [
       "0        37 years old from France. Living with my wife,...\n",
       "1        Hi\\r\\n\\r\\nI expect you'd like to know somethin...\n",
       "2        Hi\\r\\n\\r\\nI expect you'd like to know somethin...\n",
       "3        Hi\\r\\n\\r\\nI expect you'd like to know somethin...\n",
       "4        Hi\\r\\n\\r\\nI expect you'd like to know somethin...\n",
       "                               ...                        \n",
       "85913                                              Unknown\n",
       "85914                                              Unknown\n",
       "85915                                              Unknown\n",
       "85916    Hi I'm Rosi! \\nI've grown up in sunny Brasil, ...\n",
       "85917                                              Unknown\n",
       "Name: host_about, Length: 85918, dtype: object"
      ]
     },
     "execution_count": 52,
     "metadata": {},
     "output_type": "execute_result"
    }
   ],
   "source": [
    "#Replace missing values in 'host_about' column with \"Unknown\"\n",
    "airbnb2.host_about.fillna(\"Unknown\")"
   ]
  },
  {
   "cell_type": "code",
   "execution_count": 53,
   "metadata": {},
   "outputs": [
    {
     "data": {
      "text/plain": [
       "0        LB of Islington\n",
       "1             St. Luke's\n",
       "2             St. Luke's\n",
       "3             St. Luke's\n",
       "4             St. Luke's\n",
       "              ...       \n",
       "85913       Canning Town\n",
       "85914     LB of Haringey\n",
       "85915         Grove Park\n",
       "85916             Putney\n",
       "85917      LB of Croydon\n",
       "Name: host_neighbourhood, Length: 85918, dtype: object"
      ]
     },
     "execution_count": 53,
     "metadata": {},
     "output_type": "execute_result"
    }
   ],
   "source": [
    "#Replace missing values in 'host_neighbourhood' column with \"Unknown\"\n",
    "airbnb2.host_neighbourhood.fillna(\"Unknown\")"
   ]
  },
  {
   "cell_type": "markdown",
   "metadata": {},
   "source": [
    "### Explore and Analyze"
   ]
  },
  {
   "cell_type": "markdown",
   "metadata": {},
   "source": [
    "##### How many Airbnb listings in London are not the primary residence of the host?"
   ]
  },
  {
   "cell_type": "code",
   "execution_count": null,
   "metadata": {},
   "outputs": [],
   "source": [
    "H) Room type details from London FIGURE\n",
    "\n",
    "#Setting up the color pallete\n",
    "color_dict = {'Private room': '#cc5a49', 'Entire home/apt' : '#4586ac', 'Shared room' : '#21908d', 'Hotel room' : '#C0C0C0' }\n",
    "\n",
    "#Group the room type using 'neighbourhood_group' as an index\n",
    "airbnb2_types=airbnb2.groupby(['neighbourhood_group', 'room_type']).size()\n",
    "\n",
    "#Create function to plot room type proportion on all region area\n",
    "for region in airbnb.neighbourhood_group.unique():\n",
    "    \n",
    "    plt.figure(figsize=(24,12))\n",
    "    \n",
    "    airbnb2_reg=airbnb2_types[region]\n",
    "    labels = airbnb2_reg.index\n",
    "    sizes = airbnb2_reg.values\n",
    "              \n",
    "    colors = [color_dict[x] for x in labels]\n",
    "    \n",
    "    plot_num = 321\n",
    "    plt.subplot(plot_num)\n",
    "    reg_ch = go.Figure(data = [go.Pie(labels = labels, values = sizes, hole = 0.6)])\n",
    "    reg_ch.update_traces(title = reg, marker=dict(colors=colors))\n",
    "    reg_ch.show()\n",
    "    \n",
    "    plot_num += 1"
   ]
  },
  {
   "cell_type": "code",
   "execution_count": null,
   "metadata": {},
   "outputs": [],
   "source": [
    "Host_neighbourhood / neighbourhood_cleansed – comparison  – where hosts live vs. listing\n",
    "Of the entire, how many hosts are in the same neighbourhood\n",
    "\n",
    "d. Listing Map London example\n",
    "host_neighoburhood / neighbourhood cleansesd MAP\n",
    "\n",
    "airbnb2['neighbourhood'].unique()\n",
    "plt.style.use('fivethirtyeight')\n",
    "plt.figure(figsize=(13,7))\n",
    "plt.title(\"Neighbourhood Group\")\n",
    "g = plt.pie(airbnb2.neighbourhood_group.value_counts(), labels=airbnb2_df.neighbourhood_group.value_counts().index,autopct='%1.1f%%', startangle=180)\n",
    "plt.show()"
   ]
  },
  {
   "cell_type": "markdown",
   "metadata": {},
   "source": [
    "##### How many Airbnb listings in London can be attributed to hosts with multiple listings?"
   ]
  },
  {
   "cell_type": "code",
   "execution_count": 58,
   "metadata": {},
   "outputs": [
    {
     "data": {
      "text/plain": [
       "[Text(0, 0, '33889201'),\n",
       " Text(1, 0, '156158778'),\n",
       " Text(2, 0, '28820321'),\n",
       " Text(3, 0, '48165024'),\n",
       " Text(4, 0, '137094377'),\n",
       " Text(5, 0, '1432477'),\n",
       " Text(6, 0, '224866971'),\n",
       " Text(7, 0, '27572615'),\n",
       " Text(8, 0, '13557337'),\n",
       " Text(9, 0, '50291093')]"
      ]
     },
     "execution_count": 58,
     "metadata": {},
     "output_type": "execute_result"
    },
    {
     "data": {
      "image/png": "[encoded data removed]",
      "text/plain": [
       "<Figure size 720x576 with 1 Axes>"
      ]
     },
     "metadata": {},
     "output_type": "display_data"
    }
   ],
   "source": [
    "top_host_id = airbnb2['host_id'].value_counts().head(10)\n",
    "\n",
    "sns.set(rc={'figure.figsize':(10,8)})\n",
    "\n",
    "viz_bar = top_host_id.plot(kind='bar')\n",
    "viz_bar.set_title('Hosts with the most listings in London')\n",
    "viz_bar.set_xlabel('Host IDs')\n",
    "viz_bar.set_ylabel('Count of listings')\n",
    "viz_bar.set_xticklabels(viz_bar.get_xticklabels(), rotation=45)"
   ]
  },
  {
   "cell_type": "code",
   "execution_count": null,
   "metadata": {},
   "outputs": [],
   "source": [
    "#D. Differentiate prices among available room types - London\n",
    "\n",
    "Bar chart - entire home, by host id (x), number of listings (y)\n",
    "Show multiple listings that are entire home, but with same host id\n",
    "\n",
    "airbnb2['room_type'].unique()\n",
    "\n",
    "# 4 - Bar plot with price to location distribution\n",
    "loc_price = data.groupby(['neighbourhood_group','room_type'])['price'].mean().reset_index()\n",
    "locations = loc_price.neighbourhood_group.unique()\n",
    "x_rooms1 = [0.8, 3.8, 6.8, 9.8, 12.8]\n",
    "x_rooms2 = [1.6, 4.6, 7.6, 10.6, 13.6]\n",
    "x_rooms3 = [2.4, 5.4, 8.4, 11.4, 14.4]\n",
    "y_values1 = loc_price[loc_price['room_type'] == 'Entire home/apt']['price'].values\n",
    "y_values2 = loc_price[loc_price['room_type'] == 'Private room']['price'].values\n",
    "y_values3 = loc_price[loc_price['room_type'] == 'Shared room']['price'].values\n",
    "fig3,ax2 = plt.subplots(figsize=(16,11))\n",
    "fig3.patch.set_facecolor('lightgray')\n",
    "ax2.set_facecolor('lightgray')\n",
    "plt.bar(x_rooms1, y_values1, color='purple', edgecolor='b')\n",
    "plt.bar(x_rooms2, y_values2, color='b', edgecolor='b')\n",
    "plt.bar(x_rooms3, y_values3, color='yellowgreen', edgecolor='b')\n",
    "ax2.set_xticks(range(1,16,3))\n",
    "ax2.set_xticklabels(locations, fontsize='12')\n",
    "for tick in ax2.get_xticklabels():\n",
    "tick.set_rotation(45)\n",
    "plt.xlabel('Location/Room-type',fontsize='15')\n",
    "plt.ylabel('Prices', fontsize='15')\n",
    "plt.legend(labels=loc_price.room_type.unique(), loc='best')\n",
    "plt.title('London Price-Rental Distribution by Location and Room-type',fontsize='15')\n",
    "plt.show()"
   ]
  },
  {
   "cell_type": "code",
   "execution_count": null,
   "metadata": {},
   "outputs": [],
   "source": [
    "Listing id / unique host id vs. listing id / more than one host id \n",
    "multiple listings vs. unique listings – heat MAP\n",
    "\n",
    "plt.style.use('fivethirtyeight')\n",
    "plt.figure(figsize=(13,7))\n",
    "plt.title(\"Neighbourhood Group\")\n",
    "g = plt.pie(airbnb2_df.neighbourhood_group.value_counts(), labels=airbnb2_df.neighbourhood_group.value_counts().index,autopct='%1.1f%%', startangle=180)\n",
    "plt.show()"
   ]
  },
  {
   "cell_type": "markdown",
   "metadata": {},
   "source": [
    "##### How many Airbnb listings in London are operated by management companies?"
   ]
  },
  {
   "cell_type": "code",
   "execution_count": null,
   "metadata": {},
   "outputs": [],
   "source": [
    "g. Top listing words example from London – but in host_about\n",
    "\n",
    "#Crete empty list where we are going to put the name strings\n",
    "names=[]\n",
    "#Getting name string from 'name' column and appending it to the empty list\n",
    "for name in airbnb2.name:\n",
    "    names.append(name)\n",
    "\n",
    "#Setting a function to split name strings into seperate words\n",
    "def split_name(name):\n",
    "    s = str(name).split()\n",
    "    return s\n",
    "\n",
    "#Create empty list where we are going to count the words\n",
    "names_count = []\n",
    "#Getting name string to appending it to the names_count list\n",
    "for n in names:\n",
    "    for word in split_name(n):\n",
    "        word = word.lower()\n",
    "        names_count.append(word)\n",
    "\n",
    "        \n",
    "from collections import Counter\n",
    "top_25 = Counter(names_count).most_common()\n",
    "top_25 = top_25[:25]\n",
    "\n",
    "word_count_data = pd.DataFrame(top_25)\n",
    "word_count_data.rename(columns={0:'Words',1:'Counts'},inplace=True)\n",
    "viz_count = sns.barplot(x='Words',y='Counts', data = word_count_data)\n",
    "viz_count.set_title('Top 25 used words for listing names')\n",
    "viz_count.set_ylabel('Count of words')\n",
    "viz_count.set_xlabel('Words')\n",
    "viz_count.set_xticklabels(viz_count.get_xticklabels(),rotation = 90)"
   ]
  },
  {
   "cell_type": "markdown",
   "metadata": {},
   "source": [
    "##### Is the problem of 'ghost hotels' concentrated in certain areas of London or spread throughout?"
   ]
  },
  {
   "cell_type": "code",
   "execution_count": 62,
   "metadata": {},
   "outputs": [
    {
     "ename": "FileNotFoundError",
     "evalue": "[Errno 2] No such file or directory: 'map_bnw.png'",
     "output_type": "error",
     "traceback": [
      "\u001b[0;31m---------------------------------------------------------------------------\u001b[0m",
      "\u001b[0;31mFileNotFoundError\u001b[0m                         Traceback (most recent call last)",
      "\u001b[0;32m<ipython-input-62-19a58ed37aaf>\u001b[0m in \u001b[0;36m<module>\u001b[0;34m\u001b[0m\n\u001b[1;32m      5\u001b[0m \u001b[0mplt\u001b[0m\u001b[0;34m.\u001b[0m\u001b[0mstyle\u001b[0m\u001b[0;34m.\u001b[0m\u001b[0muse\u001b[0m\u001b[0;34m(\u001b[0m\u001b[0;34m'fivethirtyeight'\u001b[0m\u001b[0;34m)\u001b[0m\u001b[0;34m\u001b[0m\u001b[0;34m\u001b[0m\u001b[0m\n\u001b[1;32m      6\u001b[0m \u001b[0mBBox\u001b[0m \u001b[0;34m=\u001b[0m \u001b[0;34m(\u001b[0m\u001b[0;34m-\u001b[0m\u001b[0;36m0.489\u001b[0m\u001b[0;34m,\u001b[0m \u001b[0;36m51.28\u001b[0m\u001b[0;34m,\u001b[0m \u001b[0;36m0.236\u001b[0m\u001b[0;34m,\u001b[0m \u001b[0;36m51.686\u001b[0m\u001b[0;34m)\u001b[0m\u001b[0;34m\u001b[0m\u001b[0;34m\u001b[0m\u001b[0m\n\u001b[0;32m----> 7\u001b[0;31m \u001b[0msg_map\u001b[0m \u001b[0;34m=\u001b[0m \u001b[0mplt\u001b[0m\u001b[0;34m.\u001b[0m\u001b[0mimread\u001b[0m\u001b[0;34m(\u001b[0m\u001b[0;34m'map_bnw.png'\u001b[0m\u001b[0;34m)\u001b[0m\u001b[0;34m\u001b[0m\u001b[0;34m\u001b[0m\u001b[0m\n\u001b[0m\u001b[1;32m      8\u001b[0m \u001b[0mplt\u001b[0m\u001b[0;34m.\u001b[0m\u001b[0mimshow\u001b[0m\u001b[0;34m(\u001b[0m\u001b[0msg_map\u001b[0m\u001b[0;34m,\u001b[0m\u001b[0mzorder\u001b[0m\u001b[0;34m=\u001b[0m\u001b[0;36m0\u001b[0m\u001b[0;34m,\u001b[0m\u001b[0mextent\u001b[0m\u001b[0;34m=\u001b[0m\u001b[0mBBox\u001b[0m\u001b[0;34m)\u001b[0m\u001b[0;34m\u001b[0m\u001b[0;34m\u001b[0m\u001b[0m\n\u001b[1;32m      9\u001b[0m \u001b[0max\u001b[0m \u001b[0;34m=\u001b[0m \u001b[0mplt\u001b[0m\u001b[0;34m.\u001b[0m\u001b[0mgca\u001b[0m\u001b[0;34m(\u001b[0m\u001b[0;34m)\u001b[0m\u001b[0;34m\u001b[0m\u001b[0;34m\u001b[0m\u001b[0m\n",
      "\u001b[0;32m/opt/conda/envs/sds2020/lib/python3.7/site-packages/matplotlib/pyplot.py\u001b[0m in \u001b[0;36mimread\u001b[0;34m(fname, format)\u001b[0m\n\u001b[1;32m   2228\u001b[0m \u001b[0;34m@\u001b[0m\u001b[0m_copy_docstring_and_deprecators\u001b[0m\u001b[0;34m(\u001b[0m\u001b[0mmatplotlib\u001b[0m\u001b[0;34m.\u001b[0m\u001b[0mimage\u001b[0m\u001b[0;34m.\u001b[0m\u001b[0mimread\u001b[0m\u001b[0;34m)\u001b[0m\u001b[0;34m\u001b[0m\u001b[0;34m\u001b[0m\u001b[0m\n\u001b[1;32m   2229\u001b[0m \u001b[0;32mdef\u001b[0m \u001b[0mimread\u001b[0m\u001b[0;34m(\u001b[0m\u001b[0mfname\u001b[0m\u001b[0;34m,\u001b[0m \u001b[0mformat\u001b[0m\u001b[0;34m=\u001b[0m\u001b[0;32mNone\u001b[0m\u001b[0;34m)\u001b[0m\u001b[0;34m:\u001b[0m\u001b[0;34m\u001b[0m\u001b[0;34m\u001b[0m\u001b[0m\n\u001b[0;32m-> 2230\u001b[0;31m     \u001b[0;32mreturn\u001b[0m \u001b[0mmatplotlib\u001b[0m\u001b[0;34m.\u001b[0m\u001b[0mimage\u001b[0m\u001b[0;34m.\u001b[0m\u001b[0mimread\u001b[0m\u001b[0;34m(\u001b[0m\u001b[0mfname\u001b[0m\u001b[0;34m,\u001b[0m \u001b[0mformat\u001b[0m\u001b[0;34m)\u001b[0m\u001b[0;34m\u001b[0m\u001b[0;34m\u001b[0m\u001b[0m\n\u001b[0m\u001b[1;32m   2231\u001b[0m \u001b[0;34m\u001b[0m\u001b[0m\n\u001b[1;32m   2232\u001b[0m \u001b[0;34m\u001b[0m\u001b[0m\n",
      "\u001b[0;32m/opt/conda/envs/sds2020/lib/python3.7/site-packages/matplotlib/image.py\u001b[0m in \u001b[0;36mimread\u001b[0;34m(fname, format)\u001b[0m\n\u001b[1;32m   1484\u001b[0m                     \u001b[0mresponse\u001b[0m \u001b[0;34m=\u001b[0m \u001b[0mio\u001b[0m\u001b[0;34m.\u001b[0m\u001b[0mBytesIO\u001b[0m\u001b[0;34m(\u001b[0m\u001b[0mresponse\u001b[0m\u001b[0;34m.\u001b[0m\u001b[0mread\u001b[0m\u001b[0;34m(\u001b[0m\u001b[0;34m)\u001b[0m\u001b[0;34m)\u001b[0m\u001b[0;34m\u001b[0m\u001b[0;34m\u001b[0m\u001b[0m\n\u001b[1;32m   1485\u001b[0m                 \u001b[0;32mreturn\u001b[0m \u001b[0mimread\u001b[0m\u001b[0;34m(\u001b[0m\u001b[0mresponse\u001b[0m\u001b[0;34m,\u001b[0m \u001b[0mformat\u001b[0m\u001b[0;34m=\u001b[0m\u001b[0mext\u001b[0m\u001b[0;34m)\u001b[0m\u001b[0;34m\u001b[0m\u001b[0;34m\u001b[0m\u001b[0m\n\u001b[0;32m-> 1486\u001b[0;31m     \u001b[0;32mwith\u001b[0m \u001b[0mimg_open\u001b[0m\u001b[0;34m(\u001b[0m\u001b[0mfname\u001b[0m\u001b[0;34m)\u001b[0m \u001b[0;32mas\u001b[0m \u001b[0mimage\u001b[0m\u001b[0;34m:\u001b[0m\u001b[0;34m\u001b[0m\u001b[0;34m\u001b[0m\u001b[0m\n\u001b[0m\u001b[1;32m   1487\u001b[0m         return (_pil_png_to_float_array(image)\n\u001b[1;32m   1488\u001b[0m                 \u001b[0;32mif\u001b[0m \u001b[0misinstance\u001b[0m\u001b[0;34m(\u001b[0m\u001b[0mimage\u001b[0m\u001b[0;34m,\u001b[0m \u001b[0mPIL\u001b[0m\u001b[0;34m.\u001b[0m\u001b[0mPngImagePlugin\u001b[0m\u001b[0;34m.\u001b[0m\u001b[0mPngImageFile\u001b[0m\u001b[0;34m)\u001b[0m \u001b[0;32melse\u001b[0m\u001b[0;34m\u001b[0m\u001b[0;34m\u001b[0m\u001b[0m\n",
      "\u001b[0;32m/opt/conda/envs/sds2020/lib/python3.7/site-packages/PIL/ImageFile.py\u001b[0m in \u001b[0;36m__init__\u001b[0;34m(self, fp, filename)\u001b[0m\n\u001b[1;32m    103\u001b[0m         \u001b[0;32mif\u001b[0m \u001b[0misPath\u001b[0m\u001b[0;34m(\u001b[0m\u001b[0mfp\u001b[0m\u001b[0;34m)\u001b[0m\u001b[0;34m:\u001b[0m\u001b[0;34m\u001b[0m\u001b[0;34m\u001b[0m\u001b[0m\n\u001b[1;32m    104\u001b[0m             \u001b[0;31m# filename\u001b[0m\u001b[0;34m\u001b[0m\u001b[0;34m\u001b[0m\u001b[0;34m\u001b[0m\u001b[0m\n\u001b[0;32m--> 105\u001b[0;31m             \u001b[0mself\u001b[0m\u001b[0;34m.\u001b[0m\u001b[0mfp\u001b[0m \u001b[0;34m=\u001b[0m \u001b[0mopen\u001b[0m\u001b[0;34m(\u001b[0m\u001b[0mfp\u001b[0m\u001b[0;34m,\u001b[0m \u001b[0;34m\"rb\"\u001b[0m\u001b[0;34m)\u001b[0m\u001b[0;34m\u001b[0m\u001b[0;34m\u001b[0m\u001b[0m\n\u001b[0m\u001b[1;32m    106\u001b[0m             \u001b[0mself\u001b[0m\u001b[0;34m.\u001b[0m\u001b[0mfilename\u001b[0m \u001b[0;34m=\u001b[0m \u001b[0mfp\u001b[0m\u001b[0;34m\u001b[0m\u001b[0;34m\u001b[0m\u001b[0m\n\u001b[1;32m    107\u001b[0m             \u001b[0mself\u001b[0m\u001b[0;34m.\u001b[0m\u001b[0m_exclusive_fp\u001b[0m \u001b[0;34m=\u001b[0m \u001b[0;32mTrue\u001b[0m\u001b[0;34m\u001b[0m\u001b[0;34m\u001b[0m\u001b[0m\n",
      "\u001b[0;31mFileNotFoundError\u001b[0m: [Errno 2] No such file or directory: 'map_bnw.png'"
     ]
    },
    {
     "data": {
      "text/plain": [
       "<Figure size 1296x864 with 0 Axes>"
      ]
     },
     "metadata": {},
     "output_type": "display_data"
    }
   ],
   "source": [
    "coord = airbnb2.loc[:,['longitude','latitude']]\n",
    "coord.describe()\n",
    "\n",
    "plt.figure(figsize=(18,12))\n",
    "plt.style.use('fivethirtyeight')\n",
    "BBox = (-0.489, 51.28, 0.236, 51.686)\n",
    "sg_map = plt.imread('map_bnw.png')\n",
    "plt.imshow(sg_map,zorder=0,extent=BBox)\n",
    "ax = plt.gca()\n",
    "groups = airbnb2.groupby('neighbourhood_group')\n",
    "for name,group in groups :\n",
    "    plt.scatter(group['longitude'],group['latitude'],label=name,alpha=0.5, edgecolors='k')\n",
    "plt.xlabel('Longitude')\n",
    "plt.ylabel('Latitude')\n",
    "plt.legend()"
   ]
  },
  {
   "cell_type": "code",
   "execution_count": null,
   "metadata": {},
   "outputs": [],
   "source": [
    "import folium\n",
    "from folium.plugins import HeatMap\n",
    "map_folium = folium.Map([1.35255,103.82580],zoom_start=11.4)\n",
    "HeatMap(airbnb2[['latitude','longitude']].dropna(),radius=8,gradient={0.2:'blue',0.4:'purple',0.6:'orange',1.0:'red'}).add_to(map_folium)\n",
    "display(map_folium)"
   ]
  },
  {
   "cell_type": "markdown",
   "metadata": {},
   "source": [
    "---"
   ]
  },
  {
   "cell_type": "markdown",
   "metadata": {},
   "source": [
    "## Part 2 - Executive Briefing"
   ]
  },
  {
   "cell_type": "markdown",
   "metadata": {},
   "source": [
    "---"
   ]
  },
  {
   "cell_type": "markdown",
   "metadata": {},
   "source": [
    "### 1 Executive Summary"
   ]
  },
  {
   "cell_type": "markdown",
   "metadata": {},
   "source": [
    "This report provides an analysis of Airbnb activity in London based on data sourced from the Inside Airbnb website for the month of August 2019 – the last summer month prior to the COVID-19 pandemic. Through exploratory data analysis, we define what a ‘ghost hotel’ is and then set out to answer four main questions:\n",
    "1. How many Airbnb listings in London are not the primary residence of the host?\n",
    "2. How many Airbnb listings in London can be attributed to hosts with multiple listings?\n",
    "3. How many Airbnb listings in London are operated by management companies?\n",
    "4. Is the problem of ‘ghost hotels’ concentrated in certain areas of London or spread throughout?"
   ]
  },
  {
   "cell_type": "markdown",
   "metadata": {},
   "source": [
    "#### Key Findings"
   ]
  },
  {
   "cell_type": "raw",
   "metadata": {},
   "source": [
    "1.\tOne\n",
    "2.\tTwo\n",
    "3.\tThree\n",
    "4.\tFour\n",
    "5.\tFive"
   ]
  },
  {
   "cell_type": "markdown",
   "metadata": {},
   "source": [
    "#### Recommendations"
   ]
  },
  {
   "cell_type": "raw",
   "metadata": {},
   "source": [
    "1.\tOne\n",
    "2.\tTwo\n",
    "3.\tThree\n",
    "4.\tFour\n",
    "5.\tFive"
   ]
  },
  {
   "cell_type": "markdown",
   "metadata": {},
   "source": [
    "---"
   ]
  },
  {
   "cell_type": "markdown",
   "metadata": {},
   "source": [
    "### 2 Background"
   ]
  },
  {
   "cell_type": "markdown",
   "metadata": {},
   "source": [
    "#### Airbnb"
   ]
  },
  {
   "cell_type": "raw",
   "metadata": {},
   "source": [
    "•Platform that facilitates homeowners to make extra money by offering their extra rooms at a nightly rate and/or their entire home for when they are away\n",
    "•Simple concept on the surface, extra money for the little guy\n",
    "•Airbnb does not"
   ]
  },
  {
   "cell_type": "markdown",
   "metadata": {},
   "source": [
    "#### 'Ghost Hotels'"
   ]
  },
  {
   "cell_type": "raw",
   "metadata": {},
   "source": [
    "•To understand what a ghost hotel is, we must understand the following\n",
    "•Not the primary residence of the owner, but rather used solely for the purpose of renting at a nightly rate – like a hotel room \n",
    "•Multiple units/rooms – like a hotel; and\n",
    "•Buy virtue of using the Airbnb platform, there are no hotel staff – ghosts"
   ]
  },
  {
   "cell_type": "markdown",
   "metadata": {},
   "source": [
    "#### Inside Airbnb"
   ]
  },
  {
   "cell_type": "raw",
   "metadata": {},
   "source": [
    "•Scrapes data from Airbnb website\n",
    "•Airbnb does not provide owner information so not possible to verify\n",
    "•Using scraped data can assist in answering some questions though"
   ]
  },
  {
   "cell_type": "markdown",
   "metadata": {},
   "source": [
    "---"
   ]
  },
  {
   "cell_type": "markdown",
   "metadata": {},
   "source": [
    "### 3 Analysis"
   ]
  },
  {
   "cell_type": "markdown",
   "metadata": {},
   "source": [
    "#### How many Airbnb listings in London are not the primary residence of the host?"
   ]
  },
  {
   "cell_type": "raw",
   "metadata": {},
   "source": []
  },
  {
   "cell_type": "code",
   "execution_count": null,
   "metadata": {},
   "outputs": [],
   "source": []
  },
  {
   "cell_type": "markdown",
   "metadata": {},
   "source": [
    "#### How many Airbnb listings in London can be attributed to hosts with multiple listings? "
   ]
  },
  {
   "cell_type": "raw",
   "metadata": {},
   "source": []
  },
  {
   "cell_type": "code",
   "execution_count": null,
   "metadata": {},
   "outputs": [],
   "source": []
  },
  {
   "cell_type": "markdown",
   "metadata": {},
   "source": [
    "#### How many Airbnb listings in London are operated by management companies? "
   ]
  },
  {
   "cell_type": "raw",
   "metadata": {},
   "source": []
  },
  {
   "cell_type": "code",
   "execution_count": null,
   "metadata": {},
   "outputs": [],
   "source": []
  },
  {
   "cell_type": "markdown",
   "metadata": {},
   "source": [
    "#### Is the problem of 'ghost hotels' concentrated in certain areas of London or spread throughout?"
   ]
  },
  {
   "cell_type": "raw",
   "metadata": {},
   "source": []
  },
  {
   "cell_type": "code",
   "execution_count": null,
   "metadata": {},
   "outputs": [],
   "source": []
  },
  {
   "cell_type": "markdown",
   "metadata": {},
   "source": [
    "---"
   ]
  },
  {
   "cell_type": "markdown",
   "metadata": {},
   "source": [
    "### 4 Conclusion"
   ]
  },
  {
   "cell_type": "raw",
   "metadata": {},
   "source": []
  },
  {
   "cell_type": "markdown",
   "metadata": {},
   "source": [
    "---"
   ]
  },
  {
   "cell_type": "markdown",
   "metadata": {},
   "source": [
    "### 5 References"
   ]
  },
  {
   "cell_type": "raw",
   "metadata": {},
   "source": []
  }
 ],
 "metadata": {
  "kernelspec": {
   "display_name": "Python 3",
   "language": "python",
   "name": "python3"
  },
  "language_info": {
   "codemirror_mode": {
    "name": "ipython",
    "version": 3
   },
   "file_extension": ".py",
   "mimetype": "text/x-python",
   "name": "python",
   "nbconvert_exporter": "python",
   "pygments_lexer": "ipython3",
   "version": "3.7.8"
  },
  "toc-autonumbering": false,
  "toc-showcode": false,
  "toc-showmarkdowntxt": false,
  "toc-showtags": false
 },
 "nbformat": 4,
 "nbformat_minor": 4
}
