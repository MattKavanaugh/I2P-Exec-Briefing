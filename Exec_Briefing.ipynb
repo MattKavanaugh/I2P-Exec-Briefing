{
 "cells": [
  {
   "cell_type": "markdown",
   "metadata": {},
   "source": [
    "<h1 style=\"width:750px\">Airbnb and the Prevalence of Ghost Hotels in London</h1>"
   ]
  },
  {
   "cell_type": "markdown",
   "metadata": {},
   "source": [
    "---"
   ]
  },
  {
   "cell_type": "markdown",
   "metadata": {},
   "source": [
    "| CASA0013 | Introduction to Programming for Spatial Analysts | \n",
    "|----|----|\n",
    "| Programme | MSc Smart Cities and Urban Analytics |\n",
    "| Bartlett | Centre for Advanced Spatial Analytics |\n",
    "| Word Count | 2,500 |\n",
    "| Student ID | 19140941 |\n",
    "| Date | 21-01-13 |"
   ]
  },
  {
   "cell_type": "markdown",
   "metadata": {},
   "source": [
    "---"
   ]
  },
  {
   "cell_type": "markdown",
   "metadata": {},
   "source": [
    "## Part 1 - Reproducible Analysis"
   ]
  },
  {
   "cell_type": "markdown",
   "metadata": {},
   "source": [
    "Data for this analysis was downloaded from the Inside Airbnb website at http://insideairbnb.com/get-the-data.html."
   ]
  },
  {
   "cell_type": "markdown",
   "metadata": {},
   "source": [
    "| Data Downloaded | |  | |\n",
    "|----|----|----|----|\n",
    "|  09 August, 2019  |  London  |  listings.csv.gz  |  Detailed Listings data for London  |\n",
    "|  N/A  |  London  |  neighbourhoods.csv  |  Neighbourhood list for geo filtering  |\n",
    "|  N/A  |  London  |  neighbourhoods.geojson  |  GeoJSON file of city neighbourhoods  |"
   ]
  },
  {
   "cell_type": "markdown",
   "metadata": {},
   "source": [
    "**Note:** \n",
    "- With a filesize of 318 MB, the original .csv file was too large for GitHub to accept. \n",
    "- The original data set contained 106 columns.\n",
    "- 97 columns were removed and the remaining 9 columns were saved to a new .csv to be uploaded to GitHub.\n",
    "- These steps were completed in Excel, but the python the code below could be run instead."
   ]
  },
  {
   "cell_type": "markdown",
   "metadata": {},
   "source": [
    "**Steps:**\n",
    "- Load original .csv\n",
    "- Create a new dataframe containing only the 9 columns needed for analysis\n",
    "- Save the new datframe as a .csv file"
   ]
  },
  {
   "cell_type": "markdown",
   "metadata": {},
   "source": [
    "**Code:**"
   ]
  },
  {
   "cell_type": "code",
   "execution_count": null,
   "metadata": {},
   "outputs": [],
   "source": [
    "# original = pd.read_csv('listings.csv')\n",
    "# airbnb = original.loc[:, ['id', 'host_id', 'host_about', 'host_neighbourhood', 'neighbourhood_cleansed', 'latitude', 'longitude', 'property_type', 'room_type']]\n",
    "# airbnb.to_csv('<Path>\\19-08_ab_london.csv', header=True)"
   ]
  },
  {
   "cell_type": "markdown",
   "metadata": {},
   "source": [
    "- The resulting .csv file is used in the reproducible analysis below.\n",
    "- The .csv file can be downloaded from GitHub at https://github.com/MattKavanaugh/I2P-Exec-Briefing. "
   ]
  },
  {
   "cell_type": "markdown",
   "metadata": {},
   "source": [
    "### Load"
   ]
  },
  {
   "cell_type": "code",
   "execution_count": null,
   "metadata": {},
   "outputs": [],
   "source": [
    "# Load libraries\n",
    "\n",
    "import pandas as pd\n",
    "import geopandas as gpd\n",
    "import json\n",
    "import numpy as np\n",
    "import matplotlib\n",
    "import matplotlib.pyplot as plt\n",
    "import matplotlib.image as mpimg\n",
    "%matplotlib inline\n",
    "import seaborn as sns"
   ]
  },
  {
   "cell_type": "code",
   "execution_count": null,
   "metadata": {},
   "outputs": [],
   "source": [
    "# Load dataframe\n",
    "\n",
    "airbnb = pd.read_csv('19-08_ab_london.csv',encoding = \"Latin-1\")\n",
    "airbnb.head()"
   ]
  },
  {
   "cell_type": "markdown",
   "metadata": {},
   "source": [
    "#### Review"
   ]
  },
  {
   "cell_type": "code",
   "execution_count": null,
   "metadata": {},
   "outputs": [],
   "source": [
    "# Check number of rows and number of columns\n",
    "# Check column names\n",
    "# Check counts\n",
    "# Check data types\n",
    "\n",
    "airbnb.info() "
   ]
  },
  {
   "cell_type": "code",
   "execution_count": null,
   "metadata": {},
   "outputs": [],
   "source": [
    "airbnb.describe()"
   ]
  },
  {
   "cell_type": "markdown",
   "metadata": {},
   "source": [
    "### Clean"
   ]
  },
  {
   "cell_type": "code",
   "execution_count": null,
   "metadata": {},
   "outputs": [],
   "source": [
    "# We want to change the data type of the 'id' and 'host_id' columns from int64 to object\n",
    "cols =[\"id\", \"host_id\"]\n",
    "airbnb[cols] = airbnb[cols].astype(object)"
   ]
  },
  {
   "cell_type": "code",
   "execution_count": null,
   "metadata": {},
   "outputs": [],
   "source": [
    "# Confirm that the data type of the 'id' and 'host_id' columns has changed to object\n",
    "airbnb.info()"
   ]
  },
  {
   "cell_type": "code",
   "execution_count": null,
   "metadata": {},
   "outputs": [],
   "source": [
    "# Check for missing values and compare to counts\n",
    "airbnb.isnull().sum()"
   ]
  },
  {
   "cell_type": "code",
   "execution_count": null,
   "metadata": {},
   "outputs": [],
   "source": [
    "# Replace missing values in 'host_about' column with \"Unknown\"\n",
    "airbnb.host_about.fillna(\"Unknown\")"
   ]
  },
  {
   "cell_type": "code",
   "execution_count": null,
   "metadata": {},
   "outputs": [],
   "source": [
    "# Replace missing values in 'host_neighbourhood' column with \"Unknown\"\n",
    "airbnb.host_neighbourhood.fillna(\"Unknown\")"
   ]
  },
  {
   "cell_type": "markdown",
   "metadata": {},
   "source": [
    "### Explore"
   ]
  },
  {
   "cell_type": "code",
   "execution_count": null,
   "metadata": {},
   "outputs": [],
   "source": [
    "# Check how many unique values are there in every column?\n",
    "airbnb.nunique()"
   ]
  },
  {
   "cell_type": "code",
   "execution_count": null,
   "metadata": {},
   "outputs": [],
   "source": [
    "# What are the 41 different property types?\n",
    "airbnb['property_type'].unique()"
   ]
  },
  {
   "cell_type": "code",
   "execution_count": null,
   "metadata": {},
   "outputs": [],
   "source": [
    "# What are the 4 different room types?\n",
    "airbnb['room_type'].unique()"
   ]
  },
  {
   "cell_type": "code",
   "execution_count": null,
   "metadata": {},
   "outputs": [],
   "source": [
    "# What are the 33 different neighbourhoods?\n",
    "airbnb['neighbourhood_cleansed'].unique()"
   ]
  },
  {
   "cell_type": "markdown",
   "metadata": {},
   "source": [
    "### Analyze"
   ]
  },
  {
   "cell_type": "code",
   "execution_count": null,
   "metadata": {},
   "outputs": [],
   "source": [
    "# Read in once\n",
    "nbhoods = gpd.read_file('neighbourhoods.geojson')"
   ]
  },
  {
   "cell_type": "code",
   "execution_count": null,
   "metadata": {},
   "outputs": [],
   "source": [
    "nbhoods['geometry']"
   ]
  },
  {
   "cell_type": "code",
   "execution_count": null,
   "metadata": {},
   "outputs": [],
   "source": [
    "nbhoods.plot()"
   ]
  },
  {
   "cell_type": "markdown",
   "metadata": {},
   "source": [
    "##### How many Airbnb listings in London are not the primary residence of the host?"
   ]
  },
  {
   "cell_type": "code",
   "execution_count": null,
   "metadata": {},
   "outputs": [],
   "source": [
    "tot_listings = airbnb.id.count()\n",
    "tot_hosts = airbnb.host_id.nunique()\n",
    "percent_diff_hvl = ((tot_listings-tot_hosts)/tot_listings)*100\n",
    "list_diff_hvl = tot_listings-total_hosts\n",
    "print(f\"There were {tot_listings} total listings in London during August 2019.\")\n",
    "print(f\"There were {tot_hosts} total hosts in London during August 2019.\")\n",
    "print(f\"There were {list_diff_hvl} more listings than hosts in London during August 2019, or {round(percent_diff_hvl)} percent of total listings.\")"
   ]
  },
  {
   "cell_type": "code",
   "execution_count": null,
   "metadata": {},
   "outputs": [],
   "source": [
    "ent_home = airbnb.room_type == 'Entire home/apt'\n",
    "tot_ent_home = ent_home.sum()\n",
    "percent_diff_ehvl = ((tot_listings-tot_ent_home)/tot_listings)*100\n",
    "print(f\"There were {tot_ent_home} listings offering the entire home or apartment in London during August 2019, or {round(percent_diff_ehvl)} percent of total listings.\")"
   ]
  },
  {
   "cell_type": "code",
   "execution_count": null,
   "metadata": {},
   "outputs": [],
   "source": [
    "for n in ent_home:\n",
    "    print(airbnb.host_id.nunique.sum())"
   ]
  },
  {
   "cell_type": "markdown",
   "metadata": {},
   "source": [
    "##### How many Airbnb listings in London can be attributed to hosts with multiple listings?"
   ]
  },
  {
   "cell_type": "code",
   "execution_count": 210,
   "metadata": {},
   "outputs": [
    {
     "name": "stdout",
     "output_type": "stream",
     "text": [
      "33889201     1175\n",
      "156158778     243\n",
      "28820321      223\n",
      "48165024      180\n",
      "137094377     163\n",
      "1432477       162\n",
      "224866971     157\n",
      "27572615      138\n",
      "13557337      118\n",
      "50291093      113\n",
      "Name: host_id, dtype: int64\n"
     ]
    },
    {
     "data": {
      "text/plain": [
       "85918"
      ]
     },
     "execution_count": 210,
     "metadata": {},
     "output_type": "execute_result"
    }
   ],
   "source": [
    "top_hosts = airbnb['host_id'].value_counts().head(10)\n",
    "print(top_hosts)\n",
    "\n",
    "airbnb.host_id.count()\n",
    "\n",
    "#len(airbnb.host_id)\n",
    "\n",
    "#avg = sum(airbnb.host_id)/len(airbnb.host_id)\n",
    "#print(\"The average is \", round(avg, 2))"
   ]
  },
  {
   "cell_type": "code",
   "execution_count": 195,
   "metadata": {},
   "outputs": [
    {
     "data": {
      "text/plain": [
       "[Text(0, 0, '33889201'),\n",
       " Text(1, 0, '156158778'),\n",
       " Text(2, 0, '28820321'),\n",
       " Text(3, 0, '48165024'),\n",
       " Text(4, 0, '137094377'),\n",
       " Text(5, 0, '1432477'),\n",
       " Text(6, 0, '224866971'),\n",
       " Text(7, 0, '27572615'),\n",
       " Text(8, 0, '13557337'),\n",
       " Text(9, 0, '50291093')]"
      ]
     },
     "execution_count": 195,
     "metadata": {},
     "output_type": "execute_result"
    },
    {
     "data": {
      "image/png": "[encoded data removed]",
      "text/plain": [
       "<Figure size 720x576 with 1 Axes>"
      ]
     },
     "metadata": {},
     "output_type": "display_data"
    }
   ],
   "source": [
    "top_hosts = airbnb['host_id'].value_counts().head(10)\n",
    "\n",
    "sns.set(rc={'figure.figsize':(10,8)})\n",
    "\n",
    "viz_bar = top_hosts.plot(kind='bar')\n",
    "viz_bar.set_title('Hosts with the most listings in London')\n",
    "viz_bar.set_xlabel('Host IDs')\n",
    "viz_bar.set_ylabel('Count of listings')\n",
    "viz_bar.set_xticklabels(viz_bar.get_xticklabels(), rotation=45)"
   ]
  },
  {
   "cell_type": "markdown",
   "metadata": {},
   "source": [
    "##### How many Airbnb listings in London are operated by management companies?"
   ]
  },
  {
   "cell_type": "code",
   "execution_count": null,
   "metadata": {},
   "outputs": [],
   "source": [
    "pip install nltk\n",
    "python -m nltk.downloader all"
   ]
  },
  {
   "cell_type": "code",
   "execution_count": 153,
   "metadata": {},
   "outputs": [
    {
     "ename": "SyntaxError",
     "evalue": "invalid syntax (<ipython-input-153-21e8c8037306>, line 1)",
     "output_type": "error",
     "traceback": [
      "\u001b[0;36m  File \u001b[0;32m\"<ipython-input-153-21e8c8037306>\"\u001b[0;36m, line \u001b[0;32m1\u001b[0m\n\u001b[0;31m    pip install nltk\u001b[0m\n\u001b[0m              ^\u001b[0m\n\u001b[0;31mSyntaxError\u001b[0m\u001b[0;31m:\u001b[0m invalid syntax\n"
     ]
    }
   ],
   "source": [
    "#pre-processing\n",
    "\n",
    "import nltk\n",
    "from nltk import word_tokenize\n",
    "from nltk.corpus import stopwords\n",
    "from unidecode import unidecode\n",
    "import string\n",
    "\n",
    "def pre_process(corpus):\n",
    "    # convert input corpus to lower case.\n",
    "    corpus = corpus.lower()\n",
    "    # collecting a list of stop words from nltk and punctuation form\n",
    "    # string class and create single array.\n",
    "    stopset = stopwords.words('english') + list(string.punctuation)\n",
    "    # remove stop words and punctuations from string.\n",
    "    # word_tokenize is used to tokenize the input corpus in word tokens.\n",
    "   corpus = \" \".join([i for i in word_tokenize(corpus) if i not in stopset])\n",
    "    # remove non-ascii characters\n",
    "    corpus = unidecode(corpus)\n",
    "    return corpus\n",
    "\n",
    "pre_process(\"Sample of non ASCII: Ceñía. How to remove stopwords and punctuations?\")"
   ]
  },
  {
   "cell_type": "code",
   "execution_count": null,
   "metadata": {},
   "outputs": [],
   "source": [
    "#Lemmatization\n",
    "\n",
    "from nltk.stem import WordNetLemmatizer\n",
    "from nltk.tokenize import word_tokenize\n",
    "lemmatizer = WordNetLemmatizer()\n",
    "sentence = \"The striped bats are hanging on their feet for best\"\n",
    "words = word_tokenize(sentence)\n",
    "for w in words:\n",
    "    print(w, \" : \", lemmatizer.lemmatize(w)"
   ]
  },
  {
   "cell_type": "code",
   "execution_count": null,
   "metadata": {},
   "outputs": [],
   "source": [
    "#TF-IDF\n",
    "\n",
    "from sklearn.feature_extraction.text import TfidfVectorizer\n",
    "# sentence pair\n",
    "corpus = [\"A girl is styling her hair.\", \"A girl is brushing her hair.\"]\n",
    "for c in range(len(corpus)):\n",
    "    corpus[c] = pre_process(corpus[c])\n",
    "# creating vocabulary using uni-gram and bi-gram\n",
    "tfidf_vectorizer = TfidfVectorizer(ngram_range=(1,2))\n",
    "tfidf_vectorizer.fit(corpus)\n",
    "feature_vectors = tfidf_vectorizer.transform(corpus)"
   ]
  },
  {
   "cell_type": "code",
   "execution_count": null,
   "metadata": {},
   "outputs": [],
   "source": [
    "#g. Top listing words example from London – but in host_about\n",
    "\n",
    "#Crete empty list where we are going to put the name strings\n",
    "names=[]\n",
    "#Getting name string from 'name' column and appending it to the empty list\n",
    "for name in airbnb.name:\n",
    "    names.append(name)\n",
    "\n",
    "#Setting a function to split name strings into seperate words\n",
    "def split_name(name):\n",
    "    s = str(name).split()\n",
    "    return s\n",
    "\n",
    "#Create empty list where we are going to count the words\n",
    "names_count = []\n",
    "#Getting name string to appending it to the names_count list\n",
    "for n in names:\n",
    "    for word in split_name(n):\n",
    "        word = word.lower()\n",
    "        names_count.append(word)\n",
    "\n",
    "        \n",
    "from collections import Counter\n",
    "top_25 = Counter(names_count).most_common()\n",
    "top_25 = top_25[:25]\n",
    "\n",
    "word_count_data = pd.DataFrame(top_25)\n",
    "word_count_data.rename(columns={0:'Words',1:'Counts'},inplace=True)\n",
    "viz_count = sns.barplot(x='Words',y='Counts', data = word_count_data)\n",
    "viz_count.set_title('Top 25 used words for listing names')\n",
    "viz_count.set_ylabel('Count of words')\n",
    "viz_count.set_xlabel('Words')\n",
    "viz_count.set_xticklabels(viz_count.get_xticklabels(),rotation = 90)"
   ]
  },
  {
   "cell_type": "markdown",
   "metadata": {},
   "source": [
    "##### Is the problem of 'ghost hotels' concentrated in certain areas of London or spread throughout?"
   ]
  },
  {
   "cell_type": "code",
   "execution_count": 162,
   "metadata": {},
   "outputs": [
    {
     "name": "stdout",
     "output_type": "stream",
     "text": [
      "Westminster               9757\n",
      "Tower Hamlets             8299\n",
      "Hackney                   6244\n",
      "Camden                    6090\n",
      "Kensington and Chelsea    5961\n",
      "Islington                 5240\n",
      "Southwark                 4953\n",
      "Lambeth                   4890\n",
      "Wandsworth                4328\n",
      "Hammersmith and Fulham    4320\n",
      "Name: neighbourhood_cleansed, dtype: int64\n"
     ]
    }
   ],
   "source": [
    "top_nbhoods = airbnb['neighbourhood_cleansed'].value_counts().head(10)\n",
    "print(top_nbhoods)"
   ]
  },
  {
   "cell_type": "raw",
   "metadata": {},
   "source": [
    "#Top Region Area\n",
    "\n",
    "labels = airbnb['neighbourhood_cleansed'].value_counts().head(10).index\n",
    "\n",
    "shape = airbnb['neighbourhood_cleansed'].value_counts().head(10).values\n",
    "\n",
    "plt.figure(figsize=(11,11))\n",
    "plt.pie(shape, labels=shape, colors= colors, autopct = '%1.1f%%', startangle=90)\n",
    "plt.legend(labels)\n",
    "plt.title('Neighbourhoods')\n",
    "plt.show()"
   ]
  },
  {
   "cell_type": "code",
   "execution_count": 194,
   "metadata": {},
   "outputs": [
    {
     "data": {
      "text/plain": [
       "[Text(0, 0, 'Westminster'),\n",
       " Text(1, 0, 'Tower Hamlets'),\n",
       " Text(2, 0, 'Hackney'),\n",
       " Text(3, 0, 'Camden'),\n",
       " Text(4, 0, 'Kensington and Chelsea'),\n",
       " Text(5, 0, 'Islington'),\n",
       " Text(6, 0, 'Southwark'),\n",
       " Text(7, 0, 'Lambeth'),\n",
       " Text(8, 0, 'Wandsworth'),\n",
       " Text(9, 0, 'Hammersmith and Fulham')]"
      ]
     },
     "execution_count": 194,
     "metadata": {},
     "output_type": "execute_result"
    },
    {
     "data": {
      "image/png": "[encoded data removed]",
      "text/plain": [
       "<Figure size 720x576 with 1 Axes>"
      ]
     },
     "metadata": {},
     "output_type": "display_data"
    }
   ],
   "source": [
    "top_nbhoods= airbnb['neighbourhood_cleansed'].value_counts().head(10)\n",
    "\n",
    "sns.set(rc={'figure.figsize':(10,8)})\n",
    "\n",
    "viz_bar = top_nbhoods.plot(kind='bar')\n",
    "viz_bar.set_title('Neighbourhoods with the most listings in London')\n",
    "viz_bar.set_xlabel('Neighbourhoods')\n",
    "viz_bar.set_ylabel('Count of listings')\n",
    "viz_bar.set_xticklabels(viz_bar.get_xticklabels(), rotation=45)"
   ]
  },
  {
   "cell_type": "code",
   "execution_count": 65,
   "metadata": {},
   "outputs": [
    {
     "data": {
      "text/html": [
       "<div>\n",
       "<style scoped>\n",
       "    .dataframe tbody tr th:only-of-type {\n",
       "        vertical-align: middle;\n",
       "    }\n",
       "\n",
       "    .dataframe tbody tr th {\n",
       "        vertical-align: top;\n",
       "    }\n",
       "\n",
       "    .dataframe thead th {\n",
       "        text-align: right;\n",
       "    }\n",
       "</style>\n",
       "<table border=\"1\" class=\"dataframe\">\n",
       "  <thead>\n",
       "    <tr style=\"text-align: right;\">\n",
       "      <th></th>\n",
       "      <th>longitude</th>\n",
       "      <th>latitude</th>\n",
       "    </tr>\n",
       "  </thead>\n",
       "  <tbody>\n",
       "    <tr>\n",
       "      <th>count</th>\n",
       "      <td>85918.000000</td>\n",
       "      <td>85918.000000</td>\n",
       "    </tr>\n",
       "    <tr>\n",
       "      <th>mean</th>\n",
       "      <td>-0.127892</td>\n",
       "      <td>51.509576</td>\n",
       "    </tr>\n",
       "    <tr>\n",
       "      <th>std</th>\n",
       "      <td>0.092198</td>\n",
       "      <td>0.046265</td>\n",
       "    </tr>\n",
       "    <tr>\n",
       "      <th>min</th>\n",
       "      <td>-0.495820</td>\n",
       "      <td>51.294790</td>\n",
       "    </tr>\n",
       "    <tr>\n",
       "      <th>25%</th>\n",
       "      <td>-0.188020</td>\n",
       "      <td>51.485450</td>\n",
       "    </tr>\n",
       "    <tr>\n",
       "      <th>50%</th>\n",
       "      <td>-0.125660</td>\n",
       "      <td>51.514040</td>\n",
       "    </tr>\n",
       "    <tr>\n",
       "      <th>75%</th>\n",
       "      <td>-0.070000</td>\n",
       "      <td>51.537330</td>\n",
       "    </tr>\n",
       "    <tr>\n",
       "      <th>max</th>\n",
       "      <td>0.296570</td>\n",
       "      <td>51.681690</td>\n",
       "    </tr>\n",
       "  </tbody>\n",
       "</table>\n",
       "</div>"
      ],
      "text/plain": [
       "          longitude      latitude\n",
       "count  85918.000000  85918.000000\n",
       "mean      -0.127892     51.509576\n",
       "std        0.092198      0.046265\n",
       "min       -0.495820     51.294790\n",
       "25%       -0.188020     51.485450\n",
       "50%       -0.125660     51.514040\n",
       "75%       -0.070000     51.537330\n",
       "max        0.296570     51.681690"
      ]
     },
     "execution_count": 65,
     "metadata": {},
     "output_type": "execute_result"
    }
   ],
   "source": [
    "coord = airbnb.loc[:,['longitude','latitude']]\n",
    "coord.describe()"
   ]
  },
  {
   "cell_type": "code",
   "execution_count": 192,
   "metadata": {},
   "outputs": [
    {
     "ename": "TypeError",
     "evalue": "'module' object is not callable",
     "output_type": "error",
     "traceback": [
      "\u001b[0;31m---------------------------------------------------------------------------\u001b[0m",
      "\u001b[0;31mTypeError\u001b[0m                                 Traceback (most recent call last)",
      "\u001b[0;32m<ipython-input-192-9ab58fe3b25c>\u001b[0m in \u001b[0;36m<module>\u001b[0;34m\u001b[0m\n\u001b[1;32m      2\u001b[0m \u001b[0mplt\u001b[0m\u001b[0;34m.\u001b[0m\u001b[0mstyle\u001b[0m\u001b[0;34m.\u001b[0m\u001b[0muse\u001b[0m\u001b[0;34m(\u001b[0m\u001b[0;34m'fivethirtyeight'\u001b[0m\u001b[0;34m)\u001b[0m\u001b[0;34m\u001b[0m\u001b[0;34m\u001b[0m\u001b[0m\n\u001b[1;32m      3\u001b[0m \u001b[0mBBox\u001b[0m \u001b[0;34m=\u001b[0m \u001b[0;34m(\u001b[0m\u001b[0;34m-\u001b[0m\u001b[0;36m0.4958\u001b[0m\u001b[0;34m,\u001b[0m \u001b[0;36m0.2966\u001b[0m\u001b[0;34m,\u001b[0m \u001b[0;36m51.2948\u001b[0m\u001b[0;34m,\u001b[0m \u001b[0;36m51.6817\u001b[0m\u001b[0;34m)\u001b[0m\u001b[0;34m\u001b[0m\u001b[0;34m\u001b[0m\u001b[0m\n\u001b[0;32m----> 4\u001b[0;31m \u001b[0mldn_map\u001b[0m \u001b[0;34m=\u001b[0m \u001b[0mjson\u001b[0m\u001b[0;34m(\u001b[0m\u001b[0;34m'neighbourhoods.geojson'\u001b[0m\u001b[0;34m)\u001b[0m\u001b[0;34m\u001b[0m\u001b[0;34m\u001b[0m\u001b[0m\n\u001b[0m\u001b[1;32m      5\u001b[0m \u001b[0mplt\u001b[0m\u001b[0;34m.\u001b[0m\u001b[0mimshow\u001b[0m\u001b[0;34m(\u001b[0m\u001b[0mldn_map\u001b[0m\u001b[0;34m,\u001b[0m\u001b[0mzorder\u001b[0m\u001b[0;34m=\u001b[0m\u001b[0;36m0\u001b[0m\u001b[0;34m,\u001b[0m\u001b[0mextent\u001b[0m\u001b[0;34m=\u001b[0m\u001b[0mBBox\u001b[0m\u001b[0;34m)\u001b[0m\u001b[0;34m\u001b[0m\u001b[0;34m\u001b[0m\u001b[0m\n\u001b[1;32m      6\u001b[0m \u001b[0max\u001b[0m \u001b[0;34m=\u001b[0m \u001b[0mplt\u001b[0m\u001b[0;34m.\u001b[0m\u001b[0mgca\u001b[0m\u001b[0;34m(\u001b[0m\u001b[0;34m)\u001b[0m\u001b[0;34m\u001b[0m\u001b[0;34m\u001b[0m\u001b[0m\n",
      "\u001b[0;31mTypeError\u001b[0m: 'module' object is not callable"
     ]
    },
    {
     "data": {
      "text/plain": [
       "<Figure size 1296x864 with 0 Axes>"
      ]
     },
     "metadata": {},
     "output_type": "display_data"
    }
   ],
   "source": [
    "plt.figure(figsize=(18,12))\n",
    "plt.style.use('fivethirtyeight')\n",
    "BBox = (-0.4958, 0.2966, 51.2948, 51.6817)\n",
    "ldn_map = json('neighbourhoods.geojson')\n",
    "plt.imshow(ldn_map,zorder=0,extent=BBox)\n",
    "ax = plt.gca()\n",
    "groups = airbnb.groupby('neighbourhood_cleansed')\n",
    "for name,group in groups :\n",
    "    plt.scatter(group['longitude'],group['latitude'],label=name,alpha=0.5, edgecolors='k')\n",
    "plt.xlabel('Longitude')\n",
    "plt.ylabel('Latitude')\n",
    "plt.legend()"
   ]
  },
  {
   "cell_type": "code",
   "execution_count": 191,
   "metadata": {},
   "outputs": [
    {
     "name": "stderr",
     "output_type": "stream",
     "text": [
      "*c* argument looks like a single numeric RGB or RGBA sequence, which should be avoided as value-mapping will have precedence in case its length matches with *x* & *y*.  Please use the *color* keyword-argument or provide a 2-D array with a single row if you intend to specify the same RGB or RGBA value for all points.\n",
      "No handles with labels found to put in legend.\n"
     ]
    },
    {
     "data": {
      "text/plain": [
       "<Figure size 2160x1800 with 0 Axes>"
      ]
     },
     "metadata": {},
     "output_type": "display_data"
    },
    {
     "data": {
      "image/png": "[encoded data removed]",
      "text/plain": [
       "<Figure size 432x288 with 1 Axes>"
      ]
     },
     "metadata": {},
     "output_type": "display_data"
    }
   ],
   "source": [
    "plt.figure(figsize=(30,25))\n",
    "#plt.title(\"Map of Price Distribution\")\n",
    "ax=airbnb.plot(kind='scatter', x='longitude',y='latitude')\n",
    "ax.legend()\n",
    "plt.ioff()\n",
    "plt.show()"
   ]
  },
  {
   "cell_type": "raw",
   "metadata": {},
   "source": [
    "import folium\n",
    "from folium.plugins import HeatMap\n",
    "map_folium = folium.Map([1.35255,103.82580],zoom_start=11.4)\n",
    "HeatMap(airbnb[['latitude','longitude']].dropna(),radius=8,gradient={0.2:'blue',0.4:'purple',0.6:'orange',1.0:'red'}).add_to(map_folium)\n",
    "display(map_folium)"
   ]
  },
  {
   "cell_type": "markdown",
   "metadata": {},
   "source": [
    "---"
   ]
  },
  {
   "cell_type": "markdown",
   "metadata": {},
   "source": [
    "## Part 2 - Executive Briefing"
   ]
  },
  {
   "cell_type": "markdown",
   "metadata": {},
   "source": [
    "---"
   ]
  },
  {
   "cell_type": "markdown",
   "metadata": {},
   "source": [
    "### 1 Executive Summary"
   ]
  },
  {
   "cell_type": "markdown",
   "metadata": {},
   "source": [
    "This report provides an analysis of Airbnb activity in London based on data sourced from the Inside Airbnb website for the month of August 2019 – the last summer month prior to the COVID-19 pandemic. Through exploratory data analysis, we define what a ‘ghost hotel’ is and then set out to answer four main questions:\n",
    "1. How many Airbnb listings in London are not the primary residence of the host?\n",
    "2. How many Airbnb listings in London can be attributed to hosts with multiple listings?\n",
    "3. How many Airbnb listings in London are operated by management companies?\n",
    "4. Is the problem of ‘ghost hotels’ concentrated in certain areas of London or spread throughout?"
   ]
  },
  {
   "cell_type": "markdown",
   "metadata": {},
   "source": [
    "#### Key Findings"
   ]
  },
  {
   "cell_type": "raw",
   "metadata": {},
   "source": [
    "1.\tOne\n",
    "2.\tTwo\n",
    "3.\tThree\n",
    "4.\tFour\n",
    "5.\tFive"
   ]
  },
  {
   "cell_type": "markdown",
   "metadata": {},
   "source": [
    "#### Recommendations"
   ]
  },
  {
   "cell_type": "raw",
   "metadata": {},
   "source": [
    "1.\tOne\n",
    "2.\tTwo\n",
    "3.\tThree\n",
    "4.\tFour\n",
    "5.\tFive"
   ]
  },
  {
   "cell_type": "markdown",
   "metadata": {},
   "source": [
    "---"
   ]
  },
  {
   "cell_type": "markdown",
   "metadata": {},
   "source": [
    "### 2 Background"
   ]
  },
  {
   "cell_type": "markdown",
   "metadata": {},
   "source": [
    "#### Airbnb"
   ]
  },
  {
   "cell_type": "raw",
   "metadata": {},
   "source": [
    "•Platform that facilitates homeowners to make extra money by offering their extra rooms at a nightly rate and/or their entire home for when they are away\n",
    "•Simple concept on the surface, extra money for the little guy\n",
    "•Airbnb does not"
   ]
  },
  {
   "cell_type": "markdown",
   "metadata": {},
   "source": [
    "#### 'Ghost Hotels'"
   ]
  },
  {
   "cell_type": "raw",
   "metadata": {},
   "source": [
    "•To understand what a ghost hotel is, we must understand the following\n",
    "•Not the primary residence of the owner, but rather used solely for the purpose of renting at a nightly rate – like a hotel room \n",
    "•Multiple units/rooms – like a hotel; and\n",
    "•Buy virtue of using the Airbnb platform, there are no hotel staff – ghosts"
   ]
  },
  {
   "cell_type": "markdown",
   "metadata": {},
   "source": [
    "#### Inside Airbnb"
   ]
  },
  {
   "cell_type": "raw",
   "metadata": {},
   "source": [
    "•Scrapes data from Airbnb website\n",
    "•Airbnb does not provide owner information so not possible to verify\n",
    "•Using scraped data can assist in answering some questions though"
   ]
  },
  {
   "cell_type": "markdown",
   "metadata": {},
   "source": [
    "---"
   ]
  },
  {
   "cell_type": "markdown",
   "metadata": {},
   "source": [
    "### 3 Analysis"
   ]
  },
  {
   "cell_type": "markdown",
   "metadata": {},
   "source": [
    "#### How many Airbnb listings in London are not the primary residence of the host?"
   ]
  },
  {
   "cell_type": "raw",
   "metadata": {},
   "source": []
  },
  {
   "cell_type": "code",
   "execution_count": null,
   "metadata": {},
   "outputs": [],
   "source": []
  },
  {
   "cell_type": "markdown",
   "metadata": {},
   "source": [
    "#### How many Airbnb listings in London can be attributed to hosts with multiple listings? "
   ]
  },
  {
   "cell_type": "raw",
   "metadata": {},
   "source": []
  },
  {
   "cell_type": "code",
   "execution_count": null,
   "metadata": {},
   "outputs": [],
   "source": []
  },
  {
   "cell_type": "markdown",
   "metadata": {},
   "source": [
    "#### How many Airbnb listings in London are operated by management companies? "
   ]
  },
  {
   "cell_type": "raw",
   "metadata": {},
   "source": []
  },
  {
   "cell_type": "code",
   "execution_count": null,
   "metadata": {},
   "outputs": [],
   "source": []
  },
  {
   "cell_type": "markdown",
   "metadata": {},
   "source": [
    "#### Is the problem of 'ghost hotels' concentrated in certain areas of London or spread throughout?"
   ]
  },
  {
   "cell_type": "raw",
   "metadata": {},
   "source": []
  },
  {
   "cell_type": "code",
   "execution_count": null,
   "metadata": {},
   "outputs": [],
   "source": []
  },
  {
   "cell_type": "markdown",
   "metadata": {},
   "source": [
    "---"
   ]
  },
  {
   "cell_type": "markdown",
   "metadata": {},
   "source": [
    "### 4 Conclusion"
   ]
  },
  {
   "cell_type": "raw",
   "metadata": {},
   "source": []
  },
  {
   "cell_type": "markdown",
   "metadata": {},
   "source": [
    "---"
   ]
  },
  {
   "cell_type": "markdown",
   "metadata": {},
   "source": [
    "### 5 References"
   ]
  },
  {
   "cell_type": "raw",
   "metadata": {},
   "source": []
  }
 ],
 "metadata": {
  "kernelspec": {
   "display_name": "Python 3",
   "language": "python",
   "name": "python3"
  },
  "language_info": {
   "codemirror_mode": {
    "name": "ipython",
    "version": 3
   },
   "file_extension": ".py",
   "mimetype": "text/x-python",
   "name": "python",
   "nbconvert_exporter": "python",
   "pygments_lexer": "ipython3",
   "version": "3.7.8"
  },
  "toc-autonumbering": false,
  "toc-showcode": false,
  "toc-showmarkdowntxt": false,
  "toc-showtags": false
 },
 "nbformat": 4,
 "nbformat_minor": 4
}
