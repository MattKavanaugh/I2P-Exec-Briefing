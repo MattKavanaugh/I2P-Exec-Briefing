{
 "cells": [
  {
   "cell_type": "markdown",
   "metadata": {},
   "source": [
    "<h1 style=\"width:750px\">Airbnb and the Prevalence of Ghost Hotels in London</h1>"
   ]
  },
  {
   "cell_type": "markdown",
   "metadata": {},
   "source": [
    "---"
   ]
  },
  {
   "cell_type": "markdown",
   "metadata": {},
   "source": [
    "| CASA0013 | Introduction to Programming for Spatial Analysts | \n",
    "|----|----|\n",
    "| Programme | MSc Smart Cities and Urban Analytics |\n",
    "| Bartlett | Centre for Advanced Spatial Analytics |\n",
    "| Word Count | 2,500 |\n",
    "| Student ID | 19140941 |\n",
    "| Date | 21-01-13 |"
   ]
  },
  {
   "cell_type": "markdown",
   "metadata": {},
   "source": [
    "---"
   ]
  },
  {
   "cell_type": "markdown",
   "metadata": {},
   "source": [
    "## Part 1 - Reproducible Analysis"
   ]
  },
  {
   "cell_type": "markdown",
   "metadata": {},
   "source": [
    "Data for this analysis was downloaded from the Inside Airbnb website at http://insideairbnb.com/get-the-data.html."
   ]
  },
  {
   "cell_type": "markdown",
   "metadata": {},
   "source": [
    "| Data Downloaded | |  | |\n",
    "|----|----|----|----|\n",
    "|  09 August, 2019  |  London  |  listings.csv.gz  |  Detailed Listings data for London  |\n",
    "|  N/A  |  London  |  neighbourhoods.csv  |  Neighbourhood list for geo filtering  |\n",
    "|  N/A  |  London  |  neighbourhoods.geojson  |  GeoJSON file of city neighbourhoods  |"
   ]
  },
  {
   "cell_type": "markdown",
   "metadata": {},
   "source": [
    "**Note:** \n",
    "- With a file size of 318 MB, the original .csv file was too large for GitHub to accept. \n",
    "- The original data set contained 106 columns.\n",
    "- 97 columns were removed and the remaining 9 columns were saved to a new .csv to be uploaded to GitHub.\n",
    "- These steps were completed in Excel, but the python the code below could be run instead."
   ]
  },
  {
   "cell_type": "markdown",
   "metadata": {},
   "source": [
    "**Steps:**\n",
    "- Load original .csv\n",
    "- Create a new dataframe containing only the 9 columns needed for analysis\n",
    "- Save the new datframe as a .csv file"
   ]
  },
  {
   "cell_type": "markdown",
   "metadata": {},
   "source": [
    "**Code:**"
   ]
  },
  {
   "cell_type": "code",
   "execution_count": 5,
   "metadata": {},
   "outputs": [],
   "source": [
    "# original = pd.read_csv('listings.csv')\n",
    "# airbnb = original.loc[:, ['id', 'host_id', 'host_about', 'host_neighbourhood', 'neighbourhood_cleansed', 'latitude', 'longitude', 'property_type', 'room_type']]\n",
    "# airbnb.to_csv('<Path>\\19-08_ab_london.csv', header=True)"
   ]
  },
  {
   "cell_type": "markdown",
   "metadata": {},
   "source": [
    "- The resulting .csv file is used in the reproducible analysis below.\n",
    "- The .csv file can be downloaded from GitHub at https://github.com/MattKavanaugh/I2P-Exec-Briefing. "
   ]
  },
  {
   "cell_type": "markdown",
   "metadata": {},
   "source": [
    "### Load"
   ]
  },
  {
   "cell_type": "code",
   "execution_count": 6,
   "metadata": {},
   "outputs": [
    {
     "name": "stderr",
     "output_type": "stream",
     "text": [
      "[nltk_data] Downloading package punkt to /home/jovyan/nltk_data...\n",
      "[nltk_data]   Package punkt is already up-to-date!\n",
      "[nltk_data] Downloading package wordnet to /home/jovyan/nltk_data...\n",
      "[nltk_data]   Package wordnet is already up-to-date!\n"
     ]
    }
   ],
   "source": [
    "# Load libraries\n",
    "\n",
    "import pandas as pd\n",
    "import geopandas as gpd\n",
    "import json\n",
    "import numpy as np\n",
    "import matplotlib\n",
    "import matplotlib.pyplot as plt\n",
    "import matplotlib.image as mpimg\n",
    "%matplotlib inline\n",
    "import seaborn as sns\n",
    "import nltk\n",
    "nltk.download('punkt')\n",
    "nltk.download('wordnet')\n",
    "from nltk import sent_tokenize, word_tokenize\n",
    "from nltk.stem.snowball import SnowballStemmer\n",
    "from nltk.stem.wordnet import WordNetLemmatizer\n",
    "from nltk.corpus import stopwords\n",
    "import re\n",
    "import sklearn"
   ]
  },
  {
   "cell_type": "code",
   "execution_count": 7,
   "metadata": {},
   "outputs": [
    {
     "data": {
      "text/html": [
       "<div>\n",
       "<style scoped>\n",
       "    .dataframe tbody tr th:only-of-type {\n",
       "        vertical-align: middle;\n",
       "    }\n",
       "\n",
       "    .dataframe tbody tr th {\n",
       "        vertical-align: top;\n",
       "    }\n",
       "\n",
       "    .dataframe thead th {\n",
       "        text-align: right;\n",
       "    }\n",
       "</style>\n",
       "<table border=\"1\" class=\"dataframe\">\n",
       "  <thead>\n",
       "    <tr style=\"text-align: right;\">\n",
       "      <th></th>\n",
       "      <th>id</th>\n",
       "      <th>host_id</th>\n",
       "      <th>host_about</th>\n",
       "      <th>host_neighbourhood</th>\n",
       "      <th>neighbourhood_cleansed</th>\n",
       "      <th>latitude</th>\n",
       "      <th>longitude</th>\n",
       "      <th>property_type</th>\n",
       "      <th>room_type</th>\n",
       "    </tr>\n",
       "  </thead>\n",
       "  <tbody>\n",
       "    <tr>\n",
       "      <th>0</th>\n",
       "      <td>32722203</td>\n",
       "      <td>2697</td>\n",
       "      <td>37 years old from France. Living with my wife,...</td>\n",
       "      <td>LB of Islington</td>\n",
       "      <td>Islington</td>\n",
       "      <td>51.55416</td>\n",
       "      <td>-0.10358</td>\n",
       "      <td>Apartment</td>\n",
       "      <td>Entire home/apt</td>\n",
       "    </tr>\n",
       "    <tr>\n",
       "      <th>1</th>\n",
       "      <td>32722192</td>\n",
       "      <td>4775</td>\n",
       "      <td>Hi\\r\\n\\r\\nI expect you'd like to know somethin...</td>\n",
       "      <td>St. Luke's</td>\n",
       "      <td>Islington</td>\n",
       "      <td>51.52603</td>\n",
       "      <td>-0.08835</td>\n",
       "      <td>Apartment</td>\n",
       "      <td>Private room</td>\n",
       "    </tr>\n",
       "    <tr>\n",
       "      <th>2</th>\n",
       "      <td>35913421</td>\n",
       "      <td>4775</td>\n",
       "      <td>Hi\\r\\n\\r\\nI expect you'd like to know somethin...</td>\n",
       "      <td>St. Luke's</td>\n",
       "      <td>Islington</td>\n",
       "      <td>51.52605</td>\n",
       "      <td>-0.08856</td>\n",
       "      <td>Apartment</td>\n",
       "      <td>Private room</td>\n",
       "    </tr>\n",
       "    <tr>\n",
       "      <th>3</th>\n",
       "      <td>32191740</td>\n",
       "      <td>4775</td>\n",
       "      <td>Hi\\r\\n\\r\\nI expect you'd like to know somethin...</td>\n",
       "      <td>St. Luke's</td>\n",
       "      <td>Islington</td>\n",
       "      <td>51.52517</td>\n",
       "      <td>-0.08842</td>\n",
       "      <td>Apartment</td>\n",
       "      <td>Private room</td>\n",
       "    </tr>\n",
       "    <tr>\n",
       "      <th>4</th>\n",
       "      <td>15267243</td>\n",
       "      <td>4775</td>\n",
       "      <td>Hi\\r\\n\\r\\nI expect you'd like to know somethin...</td>\n",
       "      <td>St. Luke's</td>\n",
       "      <td>Islington</td>\n",
       "      <td>51.52603</td>\n",
       "      <td>-0.08909</td>\n",
       "      <td>Apartment</td>\n",
       "      <td>Entire home/apt</td>\n",
       "    </tr>\n",
       "  </tbody>\n",
       "</table>\n",
       "</div>"
      ],
      "text/plain": [
       "         id  host_id                                         host_about  \\\n",
       "0  32722203     2697  37 years old from France. Living with my wife,...   \n",
       "1  32722192     4775  Hi\\r\\n\\r\\nI expect you'd like to know somethin...   \n",
       "2  35913421     4775  Hi\\r\\n\\r\\nI expect you'd like to know somethin...   \n",
       "3  32191740     4775  Hi\\r\\n\\r\\nI expect you'd like to know somethin...   \n",
       "4  15267243     4775  Hi\\r\\n\\r\\nI expect you'd like to know somethin...   \n",
       "\n",
       "  host_neighbourhood neighbourhood_cleansed  latitude  longitude  \\\n",
       "0    LB of Islington              Islington  51.55416   -0.10358   \n",
       "1         St. Luke's              Islington  51.52603   -0.08835   \n",
       "2         St. Luke's              Islington  51.52605   -0.08856   \n",
       "3         St. Luke's              Islington  51.52517   -0.08842   \n",
       "4         St. Luke's              Islington  51.52603   -0.08909   \n",
       "\n",
       "  property_type        room_type  \n",
       "0     Apartment  Entire home/apt  \n",
       "1     Apartment     Private room  \n",
       "2     Apartment     Private room  \n",
       "3     Apartment     Private room  \n",
       "4     Apartment  Entire home/apt  "
      ]
     },
     "execution_count": 7,
     "metadata": {},
     "output_type": "execute_result"
    }
   ],
   "source": [
    "# Load dataframe\n",
    "\n",
    "airbnb = pd.read_csv('19-08_ab_london.csv',encoding = \"Latin-1\")\n",
    "airbnb.head()"
   ]
  },
  {
   "cell_type": "markdown",
   "metadata": {},
   "source": [
    "#### Review"
   ]
  },
  {
   "cell_type": "code",
   "execution_count": 8,
   "metadata": {},
   "outputs": [
    {
     "name": "stdout",
     "output_type": "stream",
     "text": [
      "<class 'pandas.core.frame.DataFrame'>\n",
      "RangeIndex: 85918 entries, 0 to 85917\n",
      "Data columns (total 9 columns):\n",
      " #   Column                  Non-Null Count  Dtype  \n",
      "---  ------                  --------------  -----  \n",
      " 0   id                      85918 non-null  int64  \n",
      " 1   host_id                 85918 non-null  int64  \n",
      " 2   host_about              49399 non-null  object \n",
      " 3   host_neighbourhood      66720 non-null  object \n",
      " 4   neighbourhood_cleansed  85918 non-null  object \n",
      " 5   latitude                85918 non-null  float64\n",
      " 6   longitude               85918 non-null  float64\n",
      " 7   property_type           85918 non-null  object \n",
      " 8   room_type               85918 non-null  object \n",
      "dtypes: float64(2), int64(2), object(5)\n",
      "memory usage: 5.9+ MB\n"
     ]
    }
   ],
   "source": [
    "# Check number of rows and number of columns\n",
    "# Check column names\n",
    "# Check counts\n",
    "# Check data types\n",
    "airbnb.info() "
   ]
  },
  {
   "cell_type": "code",
   "execution_count": 9,
   "metadata": {},
   "outputs": [
    {
     "data": {
      "text/html": [
       "<div>\n",
       "<style scoped>\n",
       "    .dataframe tbody tr th:only-of-type {\n",
       "        vertical-align: middle;\n",
       "    }\n",
       "\n",
       "    .dataframe tbody tr th {\n",
       "        vertical-align: top;\n",
       "    }\n",
       "\n",
       "    .dataframe thead th {\n",
       "        text-align: right;\n",
       "    }\n",
       "</style>\n",
       "<table border=\"1\" class=\"dataframe\">\n",
       "  <thead>\n",
       "    <tr style=\"text-align: right;\">\n",
       "      <th></th>\n",
       "      <th>id</th>\n",
       "      <th>host_id</th>\n",
       "      <th>latitude</th>\n",
       "      <th>longitude</th>\n",
       "    </tr>\n",
       "  </thead>\n",
       "  <tbody>\n",
       "    <tr>\n",
       "      <th>count</th>\n",
       "      <td>8.591800e+04</td>\n",
       "      <td>8.591800e+04</td>\n",
       "      <td>85918.000000</td>\n",
       "      <td>85918.000000</td>\n",
       "    </tr>\n",
       "    <tr>\n",
       "      <th>mean</th>\n",
       "      <td>2.202063e+07</td>\n",
       "      <td>8.145636e+07</td>\n",
       "      <td>51.509576</td>\n",
       "      <td>-0.127892</td>\n",
       "    </tr>\n",
       "    <tr>\n",
       "      <th>std</th>\n",
       "      <td>1.063342e+07</td>\n",
       "      <td>8.157314e+07</td>\n",
       "      <td>0.046265</td>\n",
       "      <td>0.092198</td>\n",
       "    </tr>\n",
       "    <tr>\n",
       "      <th>min</th>\n",
       "      <td>1.391300e+04</td>\n",
       "      <td>2.697000e+03</td>\n",
       "      <td>51.294790</td>\n",
       "      <td>-0.495820</td>\n",
       "    </tr>\n",
       "    <tr>\n",
       "      <th>25%</th>\n",
       "      <td>1.391292e+07</td>\n",
       "      <td>1.494246e+07</td>\n",
       "      <td>51.485450</td>\n",
       "      <td>-0.188020</td>\n",
       "    </tr>\n",
       "    <tr>\n",
       "      <th>50%</th>\n",
       "      <td>2.261328e+07</td>\n",
       "      <td>4.622586e+07</td>\n",
       "      <td>51.514040</td>\n",
       "      <td>-0.125660</td>\n",
       "    </tr>\n",
       "    <tr>\n",
       "      <th>75%</th>\n",
       "      <td>3.152753e+07</td>\n",
       "      <td>1.367858e+08</td>\n",
       "      <td>51.537330</td>\n",
       "      <td>-0.070000</td>\n",
       "    </tr>\n",
       "    <tr>\n",
       "      <th>max</th>\n",
       "      <td>3.760090e+07</td>\n",
       "      <td>2.840826e+08</td>\n",
       "      <td>51.681690</td>\n",
       "      <td>0.296570</td>\n",
       "    </tr>\n",
       "  </tbody>\n",
       "</table>\n",
       "</div>"
      ],
      "text/plain": [
       "                 id       host_id      latitude     longitude\n",
       "count  8.591800e+04  8.591800e+04  85918.000000  85918.000000\n",
       "mean   2.202063e+07  8.145636e+07     51.509576     -0.127892\n",
       "std    1.063342e+07  8.157314e+07      0.046265      0.092198\n",
       "min    1.391300e+04  2.697000e+03     51.294790     -0.495820\n",
       "25%    1.391292e+07  1.494246e+07     51.485450     -0.188020\n",
       "50%    2.261328e+07  4.622586e+07     51.514040     -0.125660\n",
       "75%    3.152753e+07  1.367858e+08     51.537330     -0.070000\n",
       "max    3.760090e+07  2.840826e+08     51.681690      0.296570"
      ]
     },
     "execution_count": 9,
     "metadata": {},
     "output_type": "execute_result"
    }
   ],
   "source": [
    "# check distribution\n",
    "airbnb.describe()"
   ]
  },
  {
   "cell_type": "markdown",
   "metadata": {},
   "source": [
    "### Clean"
   ]
  },
  {
   "cell_type": "code",
   "execution_count": 10,
   "metadata": {},
   "outputs": [],
   "source": [
    "# We want to change some column data types from int64 to str and ensure others are also str\n",
    "cols =[\"id\", \"host_id\", \"host_about\", \"host_neighbourhood\", \"neighbourhood_cleansed\", \"property_type\", \"room_type\"]\n",
    "airbnb[cols] = airbnb[cols].astype(str)"
   ]
  },
  {
   "cell_type": "code",
   "execution_count": 12,
   "metadata": {},
   "outputs": [
    {
     "name": "stdout",
     "output_type": "stream",
     "text": [
      "<class 'pandas.core.frame.DataFrame'>\n",
      "RangeIndex: 85918 entries, 0 to 85917\n",
      "Data columns (total 9 columns):\n",
      " #   Column                  Non-Null Count  Dtype  \n",
      "---  ------                  --------------  -----  \n",
      " 0   id                      85918 non-null  object \n",
      " 1   host_id                 85918 non-null  object \n",
      " 2   host_about              85918 non-null  object \n",
      " 3   host_neighbourhood      85918 non-null  object \n",
      " 4   neighbourhood_cleansed  85918 non-null  object \n",
      " 5   latitude                85918 non-null  float64\n",
      " 6   longitude               85918 non-null  float64\n",
      " 7   property_type           85918 non-null  object \n",
      " 8   room_type               85918 non-null  object \n",
      "dtypes: float64(2), object(7)\n",
      "memory usage: 5.9+ MB\n"
     ]
    }
   ],
   "source": [
    "# Confirm that the data type of the columns have changed\n",
    "airbnb.info()"
   ]
  },
  {
   "cell_type": "code",
   "execution_count": 13,
   "metadata": {},
   "outputs": [
    {
     "data": {
      "text/html": [
       "<div>\n",
       "<style scoped>\n",
       "    .dataframe tbody tr th:only-of-type {\n",
       "        vertical-align: middle;\n",
       "    }\n",
       "\n",
       "    .dataframe tbody tr th {\n",
       "        vertical-align: top;\n",
       "    }\n",
       "\n",
       "    .dataframe thead th {\n",
       "        text-align: right;\n",
       "    }\n",
       "</style>\n",
       "<table border=\"1\" class=\"dataframe\">\n",
       "  <thead>\n",
       "    <tr style=\"text-align: right;\">\n",
       "      <th></th>\n",
       "      <th>latitude</th>\n",
       "      <th>longitude</th>\n",
       "    </tr>\n",
       "  </thead>\n",
       "  <tbody>\n",
       "    <tr>\n",
       "      <th>count</th>\n",
       "      <td>85918.000000</td>\n",
       "      <td>85918.000000</td>\n",
       "    </tr>\n",
       "    <tr>\n",
       "      <th>mean</th>\n",
       "      <td>51.509576</td>\n",
       "      <td>-0.127892</td>\n",
       "    </tr>\n",
       "    <tr>\n",
       "      <th>std</th>\n",
       "      <td>0.046265</td>\n",
       "      <td>0.092198</td>\n",
       "    </tr>\n",
       "    <tr>\n",
       "      <th>min</th>\n",
       "      <td>51.294790</td>\n",
       "      <td>-0.495820</td>\n",
       "    </tr>\n",
       "    <tr>\n",
       "      <th>25%</th>\n",
       "      <td>51.485450</td>\n",
       "      <td>-0.188020</td>\n",
       "    </tr>\n",
       "    <tr>\n",
       "      <th>50%</th>\n",
       "      <td>51.514040</td>\n",
       "      <td>-0.125660</td>\n",
       "    </tr>\n",
       "    <tr>\n",
       "      <th>75%</th>\n",
       "      <td>51.537330</td>\n",
       "      <td>-0.070000</td>\n",
       "    </tr>\n",
       "    <tr>\n",
       "      <th>max</th>\n",
       "      <td>51.681690</td>\n",
       "      <td>0.296570</td>\n",
       "    </tr>\n",
       "  </tbody>\n",
       "</table>\n",
       "</div>"
      ],
      "text/plain": [
       "           latitude     longitude\n",
       "count  85918.000000  85918.000000\n",
       "mean      51.509576     -0.127892\n",
       "std        0.046265      0.092198\n",
       "min       51.294790     -0.495820\n",
       "25%       51.485450     -0.188020\n",
       "50%       51.514040     -0.125660\n",
       "75%       51.537330     -0.070000\n",
       "max       51.681690      0.296570"
      ]
     },
     "execution_count": 13,
     "metadata": {},
     "output_type": "execute_result"
    }
   ],
   "source": [
    "# Confirm that the data type of the columns have changed\n",
    "airbnb.describe()"
   ]
  },
  {
   "cell_type": "code",
   "execution_count": 14,
   "metadata": {},
   "outputs": [
    {
     "data": {
      "text/plain": [
       "id                        0\n",
       "host_id                   0\n",
       "host_about                0\n",
       "host_neighbourhood        0\n",
       "neighbourhood_cleansed    0\n",
       "latitude                  0\n",
       "longitude                 0\n",
       "property_type             0\n",
       "room_type                 0\n",
       "dtype: int64"
      ]
     },
     "execution_count": 14,
     "metadata": {},
     "output_type": "execute_result"
    }
   ],
   "source": [
    "# Check for missing values and compare to counts\n",
    "airbnb.isnull().sum()"
   ]
  },
  {
   "cell_type": "code",
   "execution_count": 15,
   "metadata": {},
   "outputs": [
    {
     "data": {
      "text/plain": [
       "0        37 years old from France. Living with my wife,...\n",
       "1        Hi\\r\\n\\r\\nI expect you'd like to know somethin...\n",
       "2        Hi\\r\\n\\r\\nI expect you'd like to know somethin...\n",
       "3        Hi\\r\\n\\r\\nI expect you'd like to know somethin...\n",
       "4        Hi\\r\\n\\r\\nI expect you'd like to know somethin...\n",
       "                               ...                        \n",
       "85913                                                  nan\n",
       "85914                                                  nan\n",
       "85915                                                  nan\n",
       "85916    Hi I'm Rosi! \\nI've grown up in sunny Brasil, ...\n",
       "85917                                                  nan\n",
       "Name: host_about, Length: 85918, dtype: object"
      ]
     },
     "execution_count": 15,
     "metadata": {},
     "output_type": "execute_result"
    }
   ],
   "source": [
    "# Replace missing values in 'host_about' column with \"Unknown\"\n",
    "airbnb.host_about.fillna(\"Unknown\")"
   ]
  },
  {
   "cell_type": "code",
   "execution_count": 16,
   "metadata": {},
   "outputs": [
    {
     "data": {
      "text/plain": [
       "0        LB of Islington\n",
       "1             St. Luke's\n",
       "2             St. Luke's\n",
       "3             St. Luke's\n",
       "4             St. Luke's\n",
       "              ...       \n",
       "85913       Canning Town\n",
       "85914     LB of Haringey\n",
       "85915         Grove Park\n",
       "85916             Putney\n",
       "85917      LB of Croydon\n",
       "Name: host_neighbourhood, Length: 85918, dtype: object"
      ]
     },
     "execution_count": 16,
     "metadata": {},
     "output_type": "execute_result"
    }
   ],
   "source": [
    "# Replace missing values in 'host_neighbourhood' column with \"Unknown\"\n",
    "airbnb.host_neighbourhood.fillna(\"Unknown\")"
   ]
  },
  {
   "cell_type": "markdown",
   "metadata": {},
   "source": [
    "### Explore"
   ]
  },
  {
   "cell_type": "code",
   "execution_count": 141,
   "metadata": {},
   "outputs": [
    {
     "data": {
      "text/plain": [
       "id                        85918\n",
       "host_id                   54438\n",
       "host_about                27675\n",
       "host_neighbourhood          435\n",
       "neighbourhood_cleansed       33\n",
       "latitude                  20732\n",
       "longitude                 31996\n",
       "property_type                41\n",
       "room_type                     4\n",
       "dtype: int64"
      ]
     },
     "execution_count": 141,
     "metadata": {},
     "output_type": "execute_result"
    }
   ],
   "source": [
    "# Check how many unique values are there in every column?\n",
    "airbnb.nunique()"
   ]
  },
  {
   "cell_type": "code",
   "execution_count": 142,
   "metadata": {},
   "outputs": [
    {
     "data": {
      "text/plain": [
       "array(['Apartment', 'Townhouse', 'Serviced apartment', 'House', 'Loft',\n",
       "       'Condominium', 'Bed and breakfast', 'Cottage', 'Other',\n",
       "       'Guest suite', 'Aparthotel', 'Cabin', 'Villa', 'Guesthouse',\n",
       "       'Boat', 'Tiny house', 'Bungalow', 'Camper/RV', 'Hotel', 'Barn',\n",
       "       'Boutique hotel', 'Hostel', 'Chalet', 'Houseboat', 'Hut', 'Yurt',\n",
       "       'Parking Space', 'Nature lodge', 'Treehouse',\n",
       "       'Casa particular (Cuba)', 'Plane', 'Tent', 'Earth house',\n",
       "       'Lighthouse', 'Minsu (Taiwan)', 'Ryokan (Japan)', 'Island',\n",
       "       'Farm stay', 'Bus', 'Campsite', 'Dome house'], dtype=object)"
      ]
     },
     "execution_count": 142,
     "metadata": {},
     "output_type": "execute_result"
    }
   ],
   "source": [
    "# What are the 41 different property types?\n",
    "airbnb['property_type'].unique()"
   ]
  },
  {
   "cell_type": "code",
   "execution_count": 64,
   "metadata": {},
   "outputs": [
    {
     "data": {
      "text/plain": [
       "array(['Entire home/apt', 'Private room', 'Shared room', 'Hotel room'],\n",
       "      dtype=object)"
      ]
     },
     "execution_count": 64,
     "metadata": {},
     "output_type": "execute_result"
    }
   ],
   "source": [
    "# What are the 4 different room types?\n",
    "airbnb['room_type'].unique()"
   ]
  },
  {
   "cell_type": "code",
   "execution_count": 65,
   "metadata": {},
   "outputs": [
    {
     "data": {
      "text/plain": [
       "array(['Islington', 'Kensington and Chelsea', 'Tower Hamlets', 'Hackney',\n",
       "       'Camden', 'Lambeth', 'Haringey', 'Wandsworth', 'Ealing',\n",
       "       'Waltham Forest', 'Westminster', 'Southwark', 'Redbridge',\n",
       "       'Enfield', 'Barnet', 'City of London', 'Hounslow', 'Newham',\n",
       "       'Croydon', 'Lewisham', 'Hammersmith and Fulham', 'Merton', 'Brent',\n",
       "       'Kingston upon Thames', 'Richmond upon Thames', 'Greenwich',\n",
       "       'Sutton', 'Barking and Dagenham', 'Hillingdon', 'Bromley',\n",
       "       'Havering', 'Harrow', 'Bexley'], dtype=object)"
      ]
     },
     "execution_count": 65,
     "metadata": {},
     "output_type": "execute_result"
    }
   ],
   "source": [
    "# What are the 33 different neighbourhoods?\n",
    "airbnb['neighbourhood_cleansed'].unique()"
   ]
  },
  {
   "cell_type": "code",
   "execution_count": 66,
   "metadata": {},
   "outputs": [],
   "source": [
    "# Read in once\n",
    "nbhoods = gpd.read_file('neighbourhoods.geojson')"
   ]
  },
  {
   "cell_type": "code",
   "execution_count": 67,
   "metadata": {},
   "outputs": [
    {
     "data": {
      "text/plain": [
       "0     MULTIPOLYGON (((-0.33068 51.32901, -0.33059 51...\n",
       "1     MULTIPOLYGON (((-0.06402 51.31864, -0.06407 51...\n",
       "2     MULTIPOLYGON (((0.01213 51.29960, 0.01196 51.2...\n",
       "3     MULTIPOLYGON (((-0.24456 51.48870, -0.24468 51...\n",
       "4     MULTIPOLYGON (((-0.41183 51.53408, -0.41188 51...\n",
       "5     MULTIPOLYGON (((0.15869 51.51219, 0.15871 51.5...\n",
       "6     MULTIPOLYGON (((-0.40407 51.61318, -0.40388 51...\n",
       "7     MULTIPOLYGON (((-0.40407 51.61318, -0.40320 51...\n",
       "8     MULTIPOLYGON (((-0.19657 51.52765, -0.19685 51...\n",
       "9     MULTIPOLYGON (((-0.19990 51.67017, -0.19970 51...\n",
       "10    MULTIPOLYGON (((-0.10580 51.69187, -0.10557 51...\n",
       "11    MULTIPOLYGON (((0.01924 51.60822, 0.01931 51.6...\n",
       "12    MULTIPOLYGON (((0.06937 51.54413, 0.06910 51.5...\n",
       "13    MULTIPOLYGON (((-0.15657 51.32151, -0.15866 51...\n",
       "14    MULTIPOLYGON (((-0.12846 51.48505, -0.12843 51...\n",
       "15    MULTIPOLYGON (((-0.10892 51.50844, -0.10889 51...\n",
       "16    MULTIPOLYGON (((-0.03241 51.49305, -0.03240 51...\n",
       "17    MULTIPOLYGON (((-0.02485 51.48555, -0.02479 51...\n",
       "18    MULTIPOLYGON (((0.12021 51.51145, 0.12159 51.5...\n",
       "19    MULTIPOLYGON (((-0.32173 51.46541, -0.32172 51...\n",
       "20    MULTIPOLYGON (((-0.13432 51.39093, -0.13438 51...\n",
       "21    MULTIPOLYGON (((-0.22343 51.47152, -0.22327 51...\n",
       "22    MULTIPOLYGON (((-0.24456 51.48870, -0.24460 51...\n",
       "23    MULTIPOLYGON (((-0.18388 51.47742, -0.18403 51...\n",
       "24    MULTIPOLYGON (((-0.11157 51.51076, -0.11159 51...\n",
       "25    MULTIPOLYGON (((-0.15000 51.48548, -0.15009 51...\n",
       "26    MULTIPOLYGON (((-0.14242 51.56912, -0.14250 51...\n",
       "27    MULTIPOLYGON (((-0.07938 51.50784, -0.07934 51...\n",
       "28    MULTIPOLYGON (((-0.13839 51.55686, -0.13851 51...\n",
       "29    MULTIPOLYGON (((-0.09767 51.57365, -0.09756 51...\n",
       "30    MULTIPOLYGON (((-0.09767 51.57365, -0.09780 51...\n",
       "31    MULTIPOLYGON (((0.07549 51.52982, 0.07546 51.5...\n",
       "32    MULTIPOLYGON (((0.07317 51.52937, 0.07316 51.5...\n",
       "Name: geometry, dtype: geometry"
      ]
     },
     "execution_count": 67,
     "metadata": {},
     "output_type": "execute_result"
    }
   ],
   "source": [
    "nbhoods['geometry']"
   ]
  },
  {
   "cell_type": "code",
   "execution_count": 68,
   "metadata": {},
   "outputs": [
    {
     "data": {
      "text/plain": [
       "<AxesSubplot:>"
      ]
     },
     "execution_count": 68,
     "metadata": {},
     "output_type": "execute_result"
    },
    {
     "data": {
      "image/png": "[encoded data removed]",
      "text/plain": [
       "<Figure size 432x288 with 1 Axes>"
      ]
     },
     "metadata": {
      "needs_background": "light"
     },
     "output_type": "display_data"
    }
   ],
   "source": [
    "nbhoods.plot()"
   ]
  },
  {
   "cell_type": "markdown",
   "metadata": {},
   "source": [
    "### Analyze"
   ]
  },
  {
   "cell_type": "markdown",
   "metadata": {},
   "source": [
    "##### QUESTION ONE"
   ]
  },
  {
   "cell_type": "markdown",
   "metadata": {},
   "source": [
    "##### How many Airbnb listings in London are not the primary residence of the host?"
   ]
  },
  {
   "cell_type": "code",
   "execution_count": 69,
   "metadata": {},
   "outputs": [
    {
     "name": "stdout",
     "output_type": "stream",
     "text": [
      "85918 total listings were offered during August 2019.\n",
      "54438 total hosts were active during August 2019.\n",
      "There were 31480 more listings (37%) than hosts during August 2019.\n"
     ]
    }
   ],
   "source": [
    "total_listings = airbnb['id'].count()\n",
    "total_hosts = airbnb['host_id'].nunique()\n",
    "percent_diff_h = ((total_listings-total_hosts)/total_listings)*100\n",
    "list_diff_h = total_listings-total_hosts\n",
    "print(f\"{total_listings} total listings were offered during August 2019.\")\n",
    "print(f\"{total_hosts} total hosts were active during August 2019.\")\n",
    "print(f\"There were {list_diff_h} more listings ({round(percent_diff_h)}%) than hosts during August 2019.\")"
   ]
  },
  {
   "cell_type": "code",
   "execution_count": 70,
   "metadata": {},
   "outputs": [
    {
     "name": "stdout",
     "output_type": "stream",
     "text": [
      "48253 listings (56%) offered an entire home or apartment during August 2019.\n"
     ]
    }
   ],
   "source": [
    "total_eh = ((airbnb['room_type'] == 'Entire home/apt').sum())\n",
    "percent_diff_eh = (total_eh/total_listings)*100\n",
    "print(f\"{total_eh} listings ({round(percent_diff_eh)}%) offered an entire home or apartment during August 2019.\")"
   ]
  },
  {
   "cell_type": "code",
   "execution_count": 71,
   "metadata": {},
   "outputs": [
    {
     "name": "stdout",
     "output_type": "stream",
     "text": [
      "room_type\n",
      "Entire home/apt    30212\n",
      "Hotel room             6\n",
      "Private room       27186\n",
      "Shared room          471\n",
      "Name: host_id, dtype: int64\n"
     ]
    }
   ],
   "source": [
    "print(airbnb.groupby('room_type').host_id.nunique())"
   ]
  },
  {
   "cell_type": "code",
   "execution_count": 72,
   "metadata": {},
   "outputs": [
    {
     "name": "stdout",
     "output_type": "stream",
     "text": [
      "18041 listings (21%) during August 2019 were for an entire home or apartment and offered by hosts with multiple listings.\n"
     ]
    }
   ],
   "source": [
    "# We see that there were 30212 listings where the entire home or apartment were listed with unique host ids\n",
    "# Now through elimination, we can calculate home many entire homes or apartments were listed by hosts with more than one listing\n",
    "multi_list_host_eh = total_eh-30212\n",
    "percent_multi_list_host_eh = ((multi_list_host_eh)/total_listings)*100\n",
    "print(f\"{multi_list_host_eh} listings ({round(percent_multi_list_host_eh)}%) during August 2019 were for an entire home or apartment and offered by hosts with multiple listings.\")"
   ]
  },
  {
   "cell_type": "markdown",
   "metadata": {},
   "source": [
    "##### QUESTION TWO"
   ]
  },
  {
   "cell_type": "markdown",
   "metadata": {},
   "source": [
    "##### How many Airbnb listings in London can be attributed to hosts with multiple listings?"
   ]
  },
  {
   "cell_type": "code",
   "execution_count": 73,
   "metadata": {},
   "outputs": [
    {
     "name": "stdout",
     "output_type": "stream",
     "text": [
      "36934 listings (43%) offered a private room during August 2019.\n",
      "8 listings (0%) offered a hotel room during August 2019.\n",
      "723 listings (1%) offered a shared room during August 2019.\n"
     ]
    }
   ],
   "source": [
    "# let's do the same analysis for the remaining room types\n",
    "total_pr = ((airbnb['room_type'] == 'Private room').sum())\n",
    "total_hr = ((airbnb['room_type'] == 'Hotel room').sum())\n",
    "total_sr = ((airbnb['room_type'] == 'Shared room').sum())\n",
    "percent_diff_pr = (total_pr/total_listings)*100\n",
    "percent_diff_hr = (total_hr/total_listings)*100\n",
    "percent_diff_sr = (total_sr/total_listings)*100\n",
    "print(f\"{total_pr} listings ({round(percent_diff_pr)}%) offered a private room during August 2019.\")\n",
    "print(f\"{total_hr} listings ({round(percent_diff_hr)}%) offered a hotel room during August 2019.\")\n",
    "print(f\"{total_sr} listings ({round(percent_diff_sr)}%) offered a shared room during August 2019.\")"
   ]
  },
  {
   "cell_type": "code",
   "execution_count": 74,
   "metadata": {},
   "outputs": [
    {
     "name": "stdout",
     "output_type": "stream",
     "text": [
      "room_type\n",
      "Entire home/apt    30212\n",
      "Hotel room             6\n",
      "Private room       27186\n",
      "Shared room          471\n",
      "Name: host_id, dtype: int64\n"
     ]
    }
   ],
   "source": [
    "print(airbnb.groupby('room_type').host_id.nunique())"
   ]
  },
  {
   "cell_type": "code",
   "execution_count": 75,
   "metadata": {},
   "outputs": [
    {
     "name": "stdout",
     "output_type": "stream",
     "text": [
      "9748 listings (11%) during August 2019 were for a private room and offered by hosts with multiple listings.\n",
      "2 listings (0%) during August 2019 were for a hotel room and offered by hosts with multiple listings.\n",
      "252 listings (0%) during August 2019 were for a shared room and offered by hosts with multiple listings.\n"
     ]
    }
   ],
   "source": [
    "# From above, we see that there were:\n",
    "    # 27186 listings where a private room was listed with unique host ids\n",
    "    # 6 listings where a hotel room was listed with unique host ids\n",
    "    # 471 listings where a shared room was listed with unique host ids\n",
    "# Now through elimination, we can calculate home many private, hotel, and shared rooms were listed by hosts with more than one listing\n",
    "multi_list_host_pr = total_pr-27186\n",
    "multi_list_host_hr = total_hr-6\n",
    "multi_list_host_sr = total_sr-471\n",
    "percent_multi_list_host_pr = ((multi_list_host_pr)/total_listings)*100\n",
    "percent_multi_list_host_hr = ((multi_list_host_hr)/total_listings)*100\n",
    "percent_multi_list_host_sr = ((multi_list_host_sr)/total_listings)*100\n",
    "print(f\"{multi_list_host_pr} listings ({round(percent_multi_list_host_pr)}%) during August 2019 were for a private room and offered by hosts with multiple listings.\")\n",
    "print(f\"{multi_list_host_hr} listings ({round(percent_multi_list_host_hr)}%) during August 2019 were for a hotel room and offered by hosts with multiple listings.\")\n",
    "print(f\"{multi_list_host_sr} listings ({round(percent_multi_list_host_sr)}%) during August 2019 were for a shared room and offered by hosts with multiple listings.\")"
   ]
  },
  {
   "cell_type": "code",
   "execution_count": 76,
   "metadata": {},
   "outputs": [
    {
     "name": "stdout",
     "output_type": "stream",
     "text": [
      "A total of 28043 listings (33%) were offered by hosts with multiple listings.\n"
     ]
    }
   ],
   "source": [
    "# How many total listings were from host with multiple listings?\n",
    "print(f\"A total of {multi_list_host_eh + multi_list_host_pr + multi_list_host_hr + multi_list_host_sr} listings ({round(percent_multi_list_host_eh + percent_multi_list_host_pr + percent_multi_list_host_hr + percent_multi_list_host_sr)}%) were offered by hosts with multiple listings.\")"
   ]
  },
  {
   "cell_type": "code",
   "execution_count": 77,
   "metadata": {},
   "outputs": [
    {
     "name": "stdout",
     "output_type": "stream",
     "text": [
      "33889201     1175\n",
      "156158778     243\n",
      "28820321      223\n",
      "48165024      180\n",
      "137094377     163\n",
      "1432477       162\n",
      "224866971     157\n",
      "27572615      138\n",
      "13557337      118\n",
      "50291093      113\n",
      "Name: host_id, dtype: int64\n"
     ]
    },
    {
     "data": {
      "text/plain": [
       "[Text(0, 0, '33889201'),\n",
       " Text(1, 0, '156158778'),\n",
       " Text(2, 0, '28820321'),\n",
       " Text(3, 0, '48165024'),\n",
       " Text(4, 0, '137094377'),\n",
       " Text(5, 0, '1432477'),\n",
       " Text(6, 0, '224866971'),\n",
       " Text(7, 0, '27572615'),\n",
       " Text(8, 0, '13557337'),\n",
       " Text(9, 0, '50291093')]"
      ]
     },
     "execution_count": 77,
     "metadata": {},
     "output_type": "execute_result"
    },
    {
     "data": {
      "image/png": "[encoded data removed]",
      "text/plain": [
       "<Figure size 720x576 with 1 Axes>"
      ]
     },
     "metadata": {},
     "output_type": "display_data"
    }
   ],
   "source": [
    "# What about the hosts with the most listings?\n",
    "top_hosts = airbnb['host_id'].value_counts().head(10)\n",
    "print(top_hosts)\n",
    "\n",
    "sns.set(rc={'figure.figsize':(10,8)})\n",
    "\n",
    "viz_bar = top_hosts.plot(kind='bar')\n",
    "viz_bar.set_title('Hosts with the most listings in London')\n",
    "viz_bar.set_xlabel('Host IDs')\n",
    "viz_bar.set_ylabel('Count of listings')\n",
    "viz_bar.set_xticklabels(viz_bar.get_xticklabels(), rotation=45)"
   ]
  },
  {
   "cell_type": "code",
   "execution_count": 78,
   "metadata": {},
   "outputs": [
    {
     "name": "stdout",
     "output_type": "stream",
     "text": [
      "host_id\n",
      "33889201    Greetings from the Veeve team!\\r\\n\\r\\nMy name ...\n",
      "33889201    Greetings from the Veeve team!\\r\\n\\r\\nMy name ...\n",
      "33889201    Greetings from the Veeve team!\\r\\n\\r\\nMy name ...\n",
      "33889201    Greetings from the Veeve team!\\r\\n\\r\\nMy name ...\n",
      "33889201    Greetings from the Veeve team!\\r\\n\\r\\nMy name ...\n",
      "                                  ...                        \n",
      "33889201    Greetings from the Veeve team!\\r\\n\\r\\nMy name ...\n",
      "33889201    Greetings from the Veeve team!\\r\\n\\r\\nMy name ...\n",
      "33889201    Greetings from the Veeve team!\\r\\n\\r\\nMy name ...\n",
      "33889201    Greetings from the Veeve team!\\r\\n\\r\\nMy name ...\n",
      "33889201    Greetings from the Veeve team!\\r\\n\\r\\nMy name ...\n",
      "Name: host_about, Length: 1175, dtype: object\n"
     ]
    }
   ],
   "source": [
    "# Look up host information for host 33889201\n",
    "airbnb.set_index('host_id', inplace=True)\n",
    "print(airbnb.loc['33889201', 'host_about'])"
   ]
  },
  {
   "cell_type": "code",
   "execution_count": 79,
   "metadata": {},
   "outputs": [],
   "source": [
    "# It seems that host 33889201 is a management company called Veeve.\n",
    "# Google search confirms this -> https://www.veeve.com/en-gb/ "
   ]
  },
  {
   "cell_type": "markdown",
   "metadata": {},
   "source": [
    "##### QUESTION THREE"
   ]
  },
  {
   "cell_type": "markdown",
   "metadata": {},
   "source": [
    "##### How many Airbnb listings in London are operated by management companies?"
   ]
  },
  {
   "cell_type": "code",
   "execution_count": 17,
   "metadata": {},
   "outputs": [
    {
     "name": "stdout",
     "output_type": "stream",
     "text": [
      "0        37 years old from France. Living with my wife,...\n",
      "1        Hi\\r\\n\\r\\nI expect you'd like to know somethin...\n",
      "2        Hi\\r\\n\\r\\nI expect you'd like to know somethin...\n",
      "3        Hi\\r\\n\\r\\nI expect you'd like to know somethin...\n",
      "4        Hi\\r\\n\\r\\nI expect you'd like to know somethin...\n",
      "                               ...                        \n",
      "85913                                                  nan\n",
      "85914                                                  nan\n",
      "85915                                                  nan\n",
      "85916    Hi I'm Rosi! \\nI've grown up in sunny Brasil, ...\n",
      "85917                                                  nan\n",
      "Name: host_about, Length: 85918, dtype: object\n"
     ]
    }
   ],
   "source": [
    "ha = airbnb.host_about\n",
    "print(ha)"
   ]
  },
  {
   "cell_type": "code",
   "execution_count": 18,
   "metadata": {},
   "outputs": [],
   "source": [
    "# Regular Expressions\n",
    "def preprocess(ha):\n",
    "    clean_data = []\n",
    "    for x in (ha[:]): #this is Df_pd for Df_np (text[:])\n",
    "        new_ha = re.sub('<.*?>', '', x)   # remove HTML tags\n",
    "        new_ha = re.sub(r'[^\\w\\s]', '', new_ha) # remove punc.\n",
    "        new_ha = re.sub(r'\\d+','',new_ha)# remove numbers\n",
    "        new_ha = new_ha.lower() # lower case, .upper() for upper          \n",
    "        if new_ha != '':\n",
    "            clean_data.append(new_ha)\n",
    "    return clean_data"
   ]
  },
  {
   "cell_type": "code",
   "execution_count": 19,
   "metadata": {},
   "outputs": [],
   "source": [
    "# Word Tokenization\n",
    "def tokenization_w(words):\n",
    "    w_new = []\n",
    "    for w in (words[:]):  # for NumPy = words[:]\n",
    "        w_token = word_tokenize(w)\n",
    "        if w_token != '':\n",
    "            w_new.append(w_token)\n",
    "    return w_new"
   ]
  },
  {
   "cell_type": "code",
   "execution_count": 20,
   "metadata": {},
   "outputs": [],
   "source": [
    "# Stemming\n",
    "snowball = SnowballStemmer(language = 'english')\n",
    "def stemming(words):\n",
    "    new = []\n",
    "    stem_words = [snowball.stem(x) for x in (words[:])]\n",
    "    new.append(stem_words)\n",
    "    return new"
   ]
  },
  {
   "cell_type": "code",
   "execution_count": 21,
   "metadata": {},
   "outputs": [],
   "source": [
    "# Lemmatization\n",
    "lemmatizer = WordNetLemmatizer()\n",
    "def lemmatization(words):\n",
    "    new = []\n",
    "    lem_words = [lemmatizer.lemmatize(x) for x in (words[:])]\n",
    "    new.append(lem_words)\n",
    "    return new"
   ]
  },
  {
   "cell_type": "code",
   "execution_count": 23,
   "metadata": {},
   "outputs": [
    {
     "name": "stderr",
     "output_type": "stream",
     "text": [
      "IOPub data rate exceeded.\n",
      "The notebook server will temporarily stop sending output\n",
      "to the client in order to avoid crashing it.\n",
      "To change this limit, set the config variable\n",
      "`--NotebookApp.iopub_data_rate_limit`.\n",
      "\n",
      "Current values:\n",
      "NotebookApp.iopub_data_rate_limit=1000000.0 (bytes/sec)\n",
      "NotebookApp.rate_limit_window=3.0 (secs)\n",
      "\n"
     ]
    }
   ],
   "source": [
    "# Test\n",
    "\n",
    "#ha_pd = pd.DataFrame(ha) #makes this into a panda data frame\n",
    "#print(ha_pd)\n",
    "clean_ha = preprocess(ha) #removes punctuation, see above\n",
    "print(clean_ha)"
   ]
  },
  {
   "cell_type": "code",
   "execution_count": null,
   "metadata": {},
   "outputs": [],
   "source": [
    "clean_words = tokenization_w(clean_ha) # word tokenization\n",
    "print(clean_words)"
   ]
  },
  {
   "cell_type": "code",
   "execution_count": null,
   "metadata": {},
   "outputs": [],
   "source": [
    "stem_ha = stemming(clean_words) # stemming similar words\n",
    "print(stem_ha)"
   ]
  },
  {
   "cell_type": "code",
   "execution_count": null,
   "metadata": {},
   "outputs": [],
   "source": [
    "lemha = lemmatization(clean_words)\n",
    "print(lemha)"
   ]
  },
  {
   "cell_type": "code",
   "execution_count": null,
   "metadata": {},
   "outputs": [],
   "source": []
  },
  {
   "cell_type": "code",
   "execution_count": null,
   "metadata": {},
   "outputs": [],
   "source": []
  },
  {
   "cell_type": "code",
   "execution_count": 143,
   "metadata": {},
   "outputs": [
    {
     "data": {
      "text/plain": [
       "0    37 years old from France. Living with my wife,...\n",
       "1    Hi\\r\\n\\r\\nI expect you'd like to know somethin...\n",
       "2    Hi\\r\\n\\r\\nI expect you'd like to know somethin...\n",
       "3    Hi\\r\\n\\r\\nI expect you'd like to know somethin...\n",
       "4    Hi\\r\\n\\r\\nI expect you'd like to know somethin...\n",
       "Name: host_about, dtype: object"
      ]
     },
     "execution_count": 143,
     "metadata": {},
     "output_type": "execute_result"
    }
   ],
   "source": [
    "# Original\n",
    "airbnb['host_about'].head()"
   ]
  },
  {
   "cell_type": "code",
   "execution_count": 144,
   "metadata": {},
   "outputs": [],
   "source": [
    "# Ensure all values in the column are string\n",
    "airbnb['host_about'] = airbnb['host_about'].apply(str)"
   ]
  },
  {
   "cell_type": "code",
   "execution_count": 145,
   "metadata": {},
   "outputs": [
    {
     "data": {
      "text/plain": [
       "0    37 years old from france. living with my wife,...\n",
       "1    hi i expect you'd like to know something about...\n",
       "2    hi i expect you'd like to know something about...\n",
       "3    hi i expect you'd like to know something about...\n",
       "4    hi i expect you'd like to know something about...\n",
       "Name: host_about, dtype: object"
      ]
     },
     "execution_count": 145,
     "metadata": {},
     "output_type": "execute_result"
    }
   ],
   "source": [
    "# Convert all to lower case\n",
    "airbnb['host_about'] = airbnb['host_about'].apply(lambda x: \" \".join(x.lower() for x in x.split()))\n",
    "airbnb['host_about'].head()"
   ]
  },
  {
   "cell_type": "code",
   "execution_count": 146,
   "metadata": {},
   "outputs": [
    {
     "data": {
      "text/plain": [
       "0    37 years old from france living with my wife a...\n",
       "1    hi i expect youd like to know something about ...\n",
       "2    hi i expect youd like to know something about ...\n",
       "3    hi i expect youd like to know something about ...\n",
       "4    hi i expect youd like to know something about ...\n",
       "Name: host_about, dtype: object"
      ]
     },
     "execution_count": 146,
     "metadata": {},
     "output_type": "execute_result"
    }
   ],
   "source": [
    "# Remove punctuation\n",
    "airbnb['host_about'] = airbnb['host_about'].str.replace('[^\\w\\s]','')\n",
    "airbnb['host_about'].head()"
   ]
  },
  {
   "cell_type": "code",
   "execution_count": 147,
   "metadata": {},
   "outputs": [
    {
     "data": {
      "text/plain": [
       "0    37 years old france living wife working london...\n",
       "1    hi expect youd like know something youre comin...\n",
       "2    hi expect youd like know something youre comin...\n",
       "3    hi expect youd like know something youre comin...\n",
       "4    hi expect youd like know something youre comin...\n",
       "Name: host_about, dtype: object"
      ]
     },
     "execution_count": 147,
     "metadata": {},
     "output_type": "execute_result"
    }
   ],
   "source": [
    "# Remove stopwords\n",
    "from nltk.corpus import stopwords\n",
    "stop = stopwords.words('english')\n",
    "airbnb['host_about'] = airbnb['host_about'].apply(lambda x: \" \".join(x for x in x.split() if x not in stop))\n",
    "airbnb['host_about'].head()"
   ]
  },
  {
   "cell_type": "code",
   "execution_count": 148,
   "metadata": {},
   "outputs": [
    {
     "data": {
      "text/plain": [
       "london      41005\n",
       "nan         36521\n",
       "love        25149\n",
       "stay        14024\n",
       "people      13252\n",
       "im          12430\n",
       "travel      12257\n",
       "new         12231\n",
       "guests      11931\n",
       "property    11406\n",
       "dtype: int64"
      ]
     },
     "execution_count": 148,
     "metadata": {},
     "output_type": "execute_result"
    }
   ],
   "source": [
    "# Look at 10 most frequent words\n",
    "freq = pd.Series(' '.join(airbnb['host_about']).split()).value_counts()[:10]\n",
    "freq"
   ]
  },
  {
   "cell_type": "code",
   "execution_count": 149,
   "metadata": {},
   "outputs": [
    {
     "data": {
      "text/plain": [
       "0     37 years old france living wife working designer\n",
       "1    hi expect youd like know something youre comin...\n",
       "2    hi expect youd like know something youre comin...\n",
       "3    hi expect youd like know something youre comin...\n",
       "4    hi expect youd like know something youre comin...\n",
       "Name: host_about, dtype: object"
      ]
     },
     "execution_count": 149,
     "metadata": {},
     "output_type": "execute_result"
    }
   ],
   "source": [
    "# These words do not help in our analysis\n",
    "# Remove 10 most frequent words\n",
    "freq = list(freq.index)\n",
    "airbnb['host_about'] = airbnb['host_about'].apply(lambda x: \" \".join(x for x in x.split() if x not in freq))\n",
    "airbnb['host_about'].head()"
   ]
  },
  {
   "cell_type": "code",
   "execution_count": 150,
   "metadata": {},
   "outputs": [
    {
     "data": {
      "text/plain": [
       "expatriation          1\n",
       "dellâesperienza       1\n",
       "sculpting             1\n",
       "heena                 1\n",
       "conan                 1\n",
       "exhibitionslooking    1\n",
       "driverwho             1\n",
       "swaying               1\n",
       "cliches               1\n",
       "coraãão               1\n",
       "dtype: int64"
      ]
     },
     "execution_count": 150,
     "metadata": {},
     "output_type": "execute_result"
    }
   ],
   "source": [
    "# Look at 10 least frequent words\n",
    "freq = pd.Series(' '.join(airbnb['host_about']).split()).value_counts()[-10:]\n",
    "freq"
   ]
  },
  {
   "cell_type": "code",
   "execution_count": 151,
   "metadata": {},
   "outputs": [
    {
     "data": {
      "text/plain": [
       "0     37 years old france living wife working designer\n",
       "1    hi expect youd like know something youre comin...\n",
       "2    hi expect youd like know something youre comin...\n",
       "3    hi expect youd like know something youre comin...\n",
       "4    hi expect youd like know something youre comin...\n",
       "Name: host_about, dtype: object"
      ]
     },
     "execution_count": 151,
     "metadata": {},
     "output_type": "execute_result"
    }
   ],
   "source": [
    "# These words do not help in our analysis\n",
    "# Remove 10 least frequent words\n",
    "freq = list(freq.index)\n",
    "airbnb['host_about'] = airbnb['host_about'].apply(lambda x: \" \".join(x for x in x.split() if x not in freq))\n",
    "airbnb['host_about'].head()"
   ]
  },
  {
   "cell_type": "code",
   "execution_count": null,
   "metadata": {},
   "outputs": [],
   "source": [
    "# Tokenization\n",
    "nltk.word_tokenize(airbnb['host_about'])"
   ]
  },
  {
   "cell_type": "code",
   "execution_count": 127,
   "metadata": {},
   "outputs": [
    {
     "data": {
      "text/plain": [
       "0              37 year old franc live wife work design\n",
       "1    hi expect youd like know someth your come ive ...\n",
       "2    hi expect youd like know someth your come ive ...\n",
       "3    hi expect youd like know someth your come ive ...\n",
       "4    hi expect youd like know someth your come ive ...\n",
       "Name: host_about, dtype: object"
      ]
     },
     "execution_count": 127,
     "metadata": {},
     "output_type": "execute_result"
    }
   ],
   "source": [
    "# Stemming\n",
    "from nltk.stem import PorterStemmer\n",
    "st = PorterStemmer()\n",
    "airbnb['host_about'][:5].apply(lambda x: \" \".join([st.stem(word) for word in x.split()]))"
   ]
  },
  {
   "cell_type": "code",
   "execution_count": null,
   "metadata": {},
   "outputs": [],
   "source": [
    "# Lemmatization\n",
    "from textblob import Word\n",
    "airbnb['host_about'] = airbnb['host_about'].apply(lambda x: \" \".join([Word(word).lemmatize() for word in x.split()]))\n",
    "airbnb['host_about'].head()"
   ]
  },
  {
   "cell_type": "code",
   "execution_count": null,
   "metadata": {},
   "outputs": [],
   "source": []
  },
  {
   "cell_type": "code",
   "execution_count": null,
   "metadata": {},
   "outputs": [],
   "source": []
  },
  {
   "cell_type": "code",
   "execution_count": 46,
   "metadata": {},
   "outputs": [],
   "source": [
    "# We will perfomrm an NLP to identify common words within the 'host_about' column\n",
    "# Let's make sure all values in the column are string\n",
    "airbnb['host_about'] = airbnb['host_about'].apply(str)"
   ]
  },
  {
   "cell_type": "code",
   "execution_count": 47,
   "metadata": {},
   "outputs": [
    {
     "name": "stdout",
     "output_type": "stream",
     "text": [
      "37 years old from france. living with my wife, and working in london as a designer.\n"
     ]
    }
   ],
   "source": [
    "# Check first row to see original record\n",
    "print(airbnb['host_about'][0])"
   ]
  },
  {
   "cell_type": "code",
   "execution_count": 48,
   "metadata": {},
   "outputs": [],
   "source": [
    "# STEP 1 - convert all text to lower case\n",
    "airbnb['host_about'] = airbnb['host_about'].str.lower()"
   ]
  },
  {
   "cell_type": "code",
   "execution_count": 49,
   "metadata": {},
   "outputs": [],
   "source": [
    "# STEP 2 - tokenize records and remove non alphanumeric words or characters\n",
    "def identify_tokens(row):\n",
    "    host_about = row['host_about']\n",
    "    tokens = nltk.word_tokenize(host_about)\n",
    "    token_words = [w for w in tokens if w.isalpha()]\n",
    "    return token_words\n",
    "\n",
    "airbnb['words'] = airbnb.apply(identify_tokens, axis=1)"
   ]
  },
  {
   "cell_type": "code",
   "execution_count": 50,
   "metadata": {},
   "outputs": [],
   "source": [
    "# STEP 3 - remove all stopwords\n",
    "from nltk.corpus import stopwords\n",
    "stops = set(stopwords.words(\"english\"))\n",
    "\n",
    "def remove_stops(row):\n",
    "    my_list = row['stemmed_words']\n",
    "    meaningful_words = [w for w in my_list if not w in stops]\n",
    "    return (meaningful_words)\n",
    "\n",
    "airbnb['stem_meaningful'] = airbnb.apply(remove_stops, axis=1)"
   ]
  },
  {
   "cell_type": "code",
   "execution_count": 51,
   "metadata": {},
   "outputs": [],
   "source": [
    "# STEP 4 - stem records to reduce related words\n",
    "from nltk.stem import PorterStemmer\n",
    "stemming = PorterStemmer()\n",
    "\n",
    "def stem_list(row):\n",
    "    my_list = row['words']\n",
    "    stemmed_list = [stemming.stem(word) for word in my_list]\n",
    "    return (stemmed_list)\n",
    "\n",
    "airbnb['stemmed_words'] = airbnb.apply(stem_list, axis=1)"
   ]
  },
  {
   "cell_type": "markdown",
   "metadata": {},
   "source": [
    "##### QUESTION FOUR"
   ]
  },
  {
   "cell_type": "markdown",
   "metadata": {},
   "source": [
    "##### Is the problem of 'ghost hotels' concentrated in certain areas of London or spread throughout?"
   ]
  },
  {
   "cell_type": "code",
   "execution_count": null,
   "metadata": {},
   "outputs": [],
   "source": []
  },
  {
   "cell_type": "code",
   "execution_count": null,
   "metadata": {},
   "outputs": [],
   "source": []
  },
  {
   "cell_type": "markdown",
   "metadata": {},
   "source": [
    "---"
   ]
  },
  {
   "cell_type": "markdown",
   "metadata": {},
   "source": [
    "## Part 2 - Executive Briefing"
   ]
  },
  {
   "cell_type": "markdown",
   "metadata": {},
   "source": [
    "---"
   ]
  },
  {
   "cell_type": "markdown",
   "metadata": {},
   "source": [
    "### 1 Executive Summary"
   ]
  },
  {
   "cell_type": "markdown",
   "metadata": {},
   "source": [
    "This report provides an analysis of Airbnb activity in London based on data sourced from the Inside Airbnb website for the month of August 2019 – the last summer month prior to the COVID-19 pandemic. Through exploratory data analysis, we define what a ‘ghost hotel’ is and then set out to answer four main questions:\n",
    "1. How many Airbnb listings in London are not the primary residence of the host?\n",
    "2. How many Airbnb listings in London can be attributed to hosts with multiple listings?\n",
    "3. How many Airbnb listings in London are operated by management companies?\n",
    "4. Is the problem of ‘ghost hotels’ concentrated in certain areas of London or spread throughout?"
   ]
  },
  {
   "cell_type": "markdown",
   "metadata": {},
   "source": [
    "#### Key Findings"
   ]
  },
  {
   "cell_type": "raw",
   "metadata": {},
   "source": [
    "1.\tOne\n",
    "2.\tTwo\n",
    "3.\tThree\n",
    "4.\tFour\n",
    "5.\tFive"
   ]
  },
  {
   "cell_type": "markdown",
   "metadata": {},
   "source": [
    "#### Recommendations"
   ]
  },
  {
   "cell_type": "raw",
   "metadata": {},
   "source": [
    "1.\tOne\n",
    "2.\tTwo\n",
    "3.\tThree\n",
    "4.\tFour\n",
    "5.\tFive"
   ]
  },
  {
   "cell_type": "markdown",
   "metadata": {},
   "source": [
    "---"
   ]
  },
  {
   "cell_type": "markdown",
   "metadata": {},
   "source": [
    "### 2 Background"
   ]
  },
  {
   "cell_type": "markdown",
   "metadata": {},
   "source": [
    "#### Airbnb"
   ]
  },
  {
   "cell_type": "raw",
   "metadata": {},
   "source": [
    "•Platform that facilitates homeowners to make extra money by offering their extra rooms at a nightly rate and/or their entire home for when they are away\n",
    "•Simple concept on the surface, extra money for the little guy\n",
    "•Airbnb does not"
   ]
  },
  {
   "cell_type": "markdown",
   "metadata": {},
   "source": [
    "#### 'Ghost Hotels'"
   ]
  },
  {
   "cell_type": "raw",
   "metadata": {},
   "source": [
    "•To understand what a ghost hotel is, we must understand the following\n",
    "•Not the primary residence of the owner, but rather used solely for the purpose of renting at a nightly rate – like a hotel room \n",
    "•Multiple units/rooms – like a hotel; and\n",
    "•Buy virtue of using the Airbnb platform, there are no hotel staff – ghosts"
   ]
  },
  {
   "cell_type": "markdown",
   "metadata": {},
   "source": [
    "#### Inside Airbnb"
   ]
  },
  {
   "cell_type": "raw",
   "metadata": {},
   "source": [
    "•Scrapes data from Airbnb website\n",
    "•Airbnb does not provide owner information so not possible to verify\n",
    "•Using scraped data can assist in answering some questions though"
   ]
  },
  {
   "cell_type": "markdown",
   "metadata": {},
   "source": [
    "---"
   ]
  },
  {
   "cell_type": "markdown",
   "metadata": {},
   "source": [
    "### 3 Analysis"
   ]
  },
  {
   "cell_type": "markdown",
   "metadata": {},
   "source": [
    "#### How many Airbnb listings in London are not the primary residence of the host?"
   ]
  },
  {
   "cell_type": "raw",
   "metadata": {},
   "source": []
  },
  {
   "cell_type": "code",
   "execution_count": null,
   "metadata": {},
   "outputs": [],
   "source": []
  },
  {
   "cell_type": "markdown",
   "metadata": {},
   "source": [
    "#### How many Airbnb listings in London can be attributed to hosts with multiple listings? "
   ]
  },
  {
   "cell_type": "raw",
   "metadata": {},
   "source": []
  },
  {
   "cell_type": "code",
   "execution_count": null,
   "metadata": {},
   "outputs": [],
   "source": []
  },
  {
   "cell_type": "markdown",
   "metadata": {},
   "source": [
    "#### How many Airbnb listings in London are operated by management companies? "
   ]
  },
  {
   "cell_type": "raw",
   "metadata": {},
   "source": []
  },
  {
   "cell_type": "code",
   "execution_count": null,
   "metadata": {},
   "outputs": [],
   "source": []
  },
  {
   "cell_type": "markdown",
   "metadata": {},
   "source": [
    "#### Is the problem of 'ghost hotels' concentrated in certain areas of London or spread throughout?"
   ]
  },
  {
   "cell_type": "raw",
   "metadata": {},
   "source": []
  },
  {
   "cell_type": "code",
   "execution_count": null,
   "metadata": {},
   "outputs": [],
   "source": []
  },
  {
   "cell_type": "markdown",
   "metadata": {},
   "source": [
    "---"
   ]
  },
  {
   "cell_type": "markdown",
   "metadata": {},
   "source": [
    "### 4 Conclusion"
   ]
  },
  {
   "cell_type": "raw",
   "metadata": {},
   "source": []
  },
  {
   "cell_type": "markdown",
   "metadata": {},
   "source": [
    "---"
   ]
  },
  {
   "cell_type": "markdown",
   "metadata": {},
   "source": [
    "### 5 References"
   ]
  },
  {
   "cell_type": "raw",
   "metadata": {},
   "source": []
  }
 ],
 "metadata": {
  "kernelspec": {
   "display_name": "Python 3",
   "language": "python",
   "name": "python3"
  },
  "language_info": {
   "codemirror_mode": {
    "name": "ipython",
    "version": 3
   },
   "file_extension": ".py",
   "mimetype": "text/x-python",
   "name": "python",
   "nbconvert_exporter": "python",
   "pygments_lexer": "ipython3",
   "version": "3.7.8"
  },
  "toc-autonumbering": false,
  "toc-showcode": false,
  "toc-showmarkdowntxt": false,
  "toc-showtags": false
 },
 "nbformat": 4,
 "nbformat_minor": 4
}
