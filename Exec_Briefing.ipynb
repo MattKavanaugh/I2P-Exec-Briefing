{
 "cells": [
  {
   "cell_type": "markdown",
   "metadata": {},
   "source": [
    "<h1 style=\"width:750px\">Airbnb and the Prevalence of Ghost Hotels in London</h1>"
   ]
  },
  {
   "cell_type": "markdown",
   "metadata": {},
   "source": [
    "---"
   ]
  },
  {
   "cell_type": "markdown",
   "metadata": {},
   "source": [
    "| CASA0013 | Introduction to Programming for Spatial Analysts | \n",
    "|----|----|\n",
    "| Programme | MSc Smart Cities and Urban Analytics |\n",
    "| Bartlett | Centre for Advanced Spatial Analytics |\n",
    "| Word Count | 2,500 |\n",
    "| Student ID | 19140941 |\n",
    "| Date | 21-01-13 |"
   ]
  },
  {
   "cell_type": "markdown",
   "metadata": {},
   "source": [
    "---"
   ]
  },
  {
   "cell_type": "markdown",
   "metadata": {},
   "source": [
    "## Part 1 - Reproducible Analysis"
   ]
  },
  {
   "cell_type": "markdown",
   "metadata": {},
   "source": [
    "Data for this analysis was downloaded from the Inside Airbnb website at http://insideairbnb.com/get-the-data.html."
   ]
  },
  {
   "cell_type": "markdown",
   "metadata": {},
   "source": [
    "| Data Downloaded | |  | |\n",
    "|----|----|----|----|\n",
    "|  09 August, 2019  |  London  |  listings.csv.gz  |  Detailed Listings data for London  |\n",
    "|  N/A  |  London  |  neighbourhoods.csv  |  Neighbourhood list for geo filtering  |\n",
    "|  N/A  |  London  |  neighbourhoods.geojson  |  GeoJSON file of city neighbourhoods  |"
   ]
  },
  {
   "cell_type": "markdown",
   "metadata": {},
   "source": [
    "**Note:** \n",
    "- With a file size of 318 MB, the original .csv file was too large for GitHub to accept. \n",
    "- The original data set contained 106 columns.\n",
    "- 97 columns were removed and the remaining 9 columns were saved to a new .csv to be uploaded to GitHub.\n",
    "- These steps were completed in Excel, but the python the code below could be run instead."
   ]
  },
  {
   "cell_type": "markdown",
   "metadata": {},
   "source": [
    "**Steps:**\n",
    "- Load original .csv\n",
    "- Create a new dataframe containing only the 9 columns needed for analysis\n",
    "- Save the new datframe as a .csv file"
   ]
  },
  {
   "cell_type": "markdown",
   "metadata": {},
   "source": [
    "**Code:**"
   ]
  },
  {
   "cell_type": "code",
   "execution_count": 367,
   "metadata": {},
   "outputs": [],
   "source": [
    "# original = pd.read_csv('listings.csv')\n",
    "# airbnb = original.loc[:, ['id', 'host_id', 'host_about', 'host_neighbourhood', 'neighbourhood_cleansed', 'latitude', 'longitude', 'property_type', 'room_type']]\n",
    "# airbnb.to_csv('<Path>\\19-08_ab_london.csv', header=True)"
   ]
  },
  {
   "cell_type": "markdown",
   "metadata": {},
   "source": [
    "- The resulting .csv file is used in the reproducible analysis below.\n",
    "- The .csv file can be downloaded from GitHub at https://github.com/MattKavanaugh/I2P-Exec-Briefing. "
   ]
  },
  {
   "cell_type": "markdown",
   "metadata": {},
   "source": [
    "### Load"
   ]
  },
  {
   "cell_type": "code",
   "execution_count": 368,
   "metadata": {},
   "outputs": [],
   "source": [
    "# Load libraries\n",
    "\n",
    "import pandas as pd\n",
    "import geopandas as gpd\n",
    "import json\n",
    "import numpy as np\n",
    "import matplotlib\n",
    "import matplotlib.pyplot as plt\n",
    "import matplotlib.image as mpimg\n",
    "%matplotlib inline\n",
    "import seaborn as sns"
   ]
  },
  {
   "cell_type": "code",
   "execution_count": 369,
   "metadata": {},
   "outputs": [
    {
     "data": {
      "text/html": [
       "<div>\n",
       "<style scoped>\n",
       "    .dataframe tbody tr th:only-of-type {\n",
       "        vertical-align: middle;\n",
       "    }\n",
       "\n",
       "    .dataframe tbody tr th {\n",
       "        vertical-align: top;\n",
       "    }\n",
       "\n",
       "    .dataframe thead th {\n",
       "        text-align: right;\n",
       "    }\n",
       "</style>\n",
       "<table border=\"1\" class=\"dataframe\">\n",
       "  <thead>\n",
       "    <tr style=\"text-align: right;\">\n",
       "      <th></th>\n",
       "      <th>id</th>\n",
       "      <th>host_id</th>\n",
       "      <th>host_about</th>\n",
       "      <th>host_neighbourhood</th>\n",
       "      <th>neighbourhood_cleansed</th>\n",
       "      <th>latitude</th>\n",
       "      <th>longitude</th>\n",
       "      <th>property_type</th>\n",
       "      <th>room_type</th>\n",
       "    </tr>\n",
       "  </thead>\n",
       "  <tbody>\n",
       "    <tr>\n",
       "      <th>0</th>\n",
       "      <td>32722203</td>\n",
       "      <td>2697</td>\n",
       "      <td>37 years old from France. Living with my wife,...</td>\n",
       "      <td>LB of Islington</td>\n",
       "      <td>Islington</td>\n",
       "      <td>51.55416</td>\n",
       "      <td>-0.10358</td>\n",
       "      <td>Apartment</td>\n",
       "      <td>Entire home/apt</td>\n",
       "    </tr>\n",
       "    <tr>\n",
       "      <th>1</th>\n",
       "      <td>32722192</td>\n",
       "      <td>4775</td>\n",
       "      <td>Hi\\r\\n\\r\\nI expect you'd like to know somethin...</td>\n",
       "      <td>St. Luke's</td>\n",
       "      <td>Islington</td>\n",
       "      <td>51.52603</td>\n",
       "      <td>-0.08835</td>\n",
       "      <td>Apartment</td>\n",
       "      <td>Private room</td>\n",
       "    </tr>\n",
       "    <tr>\n",
       "      <th>2</th>\n",
       "      <td>35913421</td>\n",
       "      <td>4775</td>\n",
       "      <td>Hi\\r\\n\\r\\nI expect you'd like to know somethin...</td>\n",
       "      <td>St. Luke's</td>\n",
       "      <td>Islington</td>\n",
       "      <td>51.52605</td>\n",
       "      <td>-0.08856</td>\n",
       "      <td>Apartment</td>\n",
       "      <td>Private room</td>\n",
       "    </tr>\n",
       "    <tr>\n",
       "      <th>3</th>\n",
       "      <td>32191740</td>\n",
       "      <td>4775</td>\n",
       "      <td>Hi\\r\\n\\r\\nI expect you'd like to know somethin...</td>\n",
       "      <td>St. Luke's</td>\n",
       "      <td>Islington</td>\n",
       "      <td>51.52517</td>\n",
       "      <td>-0.08842</td>\n",
       "      <td>Apartment</td>\n",
       "      <td>Private room</td>\n",
       "    </tr>\n",
       "    <tr>\n",
       "      <th>4</th>\n",
       "      <td>15267243</td>\n",
       "      <td>4775</td>\n",
       "      <td>Hi\\r\\n\\r\\nI expect you'd like to know somethin...</td>\n",
       "      <td>St. Luke's</td>\n",
       "      <td>Islington</td>\n",
       "      <td>51.52603</td>\n",
       "      <td>-0.08909</td>\n",
       "      <td>Apartment</td>\n",
       "      <td>Entire home/apt</td>\n",
       "    </tr>\n",
       "  </tbody>\n",
       "</table>\n",
       "</div>"
      ],
      "text/plain": [
       "         id  host_id                                         host_about  \\\n",
       "0  32722203     2697  37 years old from France. Living with my wife,...   \n",
       "1  32722192     4775  Hi\\r\\n\\r\\nI expect you'd like to know somethin...   \n",
       "2  35913421     4775  Hi\\r\\n\\r\\nI expect you'd like to know somethin...   \n",
       "3  32191740     4775  Hi\\r\\n\\r\\nI expect you'd like to know somethin...   \n",
       "4  15267243     4775  Hi\\r\\n\\r\\nI expect you'd like to know somethin...   \n",
       "\n",
       "  host_neighbourhood neighbourhood_cleansed  latitude  longitude  \\\n",
       "0    LB of Islington              Islington  51.55416   -0.10358   \n",
       "1         St. Luke's              Islington  51.52603   -0.08835   \n",
       "2         St. Luke's              Islington  51.52605   -0.08856   \n",
       "3         St. Luke's              Islington  51.52517   -0.08842   \n",
       "4         St. Luke's              Islington  51.52603   -0.08909   \n",
       "\n",
       "  property_type        room_type  \n",
       "0     Apartment  Entire home/apt  \n",
       "1     Apartment     Private room  \n",
       "2     Apartment     Private room  \n",
       "3     Apartment     Private room  \n",
       "4     Apartment  Entire home/apt  "
      ]
     },
     "execution_count": 369,
     "metadata": {},
     "output_type": "execute_result"
    }
   ],
   "source": [
    "# Load dataframe\n",
    "\n",
    "airbnb = pd.read_csv('19-08_ab_london.csv',encoding = \"Latin-1\")\n",
    "airbnb.head()"
   ]
  },
  {
   "cell_type": "markdown",
   "metadata": {},
   "source": [
    "#### Review"
   ]
  },
  {
   "cell_type": "code",
   "execution_count": 370,
   "metadata": {},
   "outputs": [
    {
     "name": "stdout",
     "output_type": "stream",
     "text": [
      "<class 'pandas.core.frame.DataFrame'>\n",
      "RangeIndex: 85918 entries, 0 to 85917\n",
      "Data columns (total 9 columns):\n",
      " #   Column                  Non-Null Count  Dtype  \n",
      "---  ------                  --------------  -----  \n",
      " 0   id                      85918 non-null  int64  \n",
      " 1   host_id                 85918 non-null  int64  \n",
      " 2   host_about              49399 non-null  object \n",
      " 3   host_neighbourhood      66720 non-null  object \n",
      " 4   neighbourhood_cleansed  85918 non-null  object \n",
      " 5   latitude                85918 non-null  float64\n",
      " 6   longitude               85918 non-null  float64\n",
      " 7   property_type           85918 non-null  object \n",
      " 8   room_type               85918 non-null  object \n",
      "dtypes: float64(2), int64(2), object(5)\n",
      "memory usage: 5.9+ MB\n"
     ]
    }
   ],
   "source": [
    "# Check number of rows and number of columns\n",
    "# Check column names\n",
    "# Check counts\n",
    "# Check data types\n",
    "airbnb.info() "
   ]
  },
  {
   "cell_type": "code",
   "execution_count": 372,
   "metadata": {},
   "outputs": [
    {
     "data": {
      "text/html": [
       "<div>\n",
       "<style scoped>\n",
       "    .dataframe tbody tr th:only-of-type {\n",
       "        vertical-align: middle;\n",
       "    }\n",
       "\n",
       "    .dataframe tbody tr th {\n",
       "        vertical-align: top;\n",
       "    }\n",
       "\n",
       "    .dataframe thead th {\n",
       "        text-align: right;\n",
       "    }\n",
       "</style>\n",
       "<table border=\"1\" class=\"dataframe\">\n",
       "  <thead>\n",
       "    <tr style=\"text-align: right;\">\n",
       "      <th></th>\n",
       "      <th>id</th>\n",
       "      <th>host_id</th>\n",
       "      <th>latitude</th>\n",
       "      <th>longitude</th>\n",
       "    </tr>\n",
       "  </thead>\n",
       "  <tbody>\n",
       "    <tr>\n",
       "      <th>count</th>\n",
       "      <td>8.591800e+04</td>\n",
       "      <td>8.591800e+04</td>\n",
       "      <td>85918.000000</td>\n",
       "      <td>85918.000000</td>\n",
       "    </tr>\n",
       "    <tr>\n",
       "      <th>mean</th>\n",
       "      <td>2.202063e+07</td>\n",
       "      <td>8.145636e+07</td>\n",
       "      <td>51.509576</td>\n",
       "      <td>-0.127892</td>\n",
       "    </tr>\n",
       "    <tr>\n",
       "      <th>std</th>\n",
       "      <td>1.063342e+07</td>\n",
       "      <td>8.157314e+07</td>\n",
       "      <td>0.046265</td>\n",
       "      <td>0.092198</td>\n",
       "    </tr>\n",
       "    <tr>\n",
       "      <th>min</th>\n",
       "      <td>1.391300e+04</td>\n",
       "      <td>2.697000e+03</td>\n",
       "      <td>51.294790</td>\n",
       "      <td>-0.495820</td>\n",
       "    </tr>\n",
       "    <tr>\n",
       "      <th>25%</th>\n",
       "      <td>1.391292e+07</td>\n",
       "      <td>1.494246e+07</td>\n",
       "      <td>51.485450</td>\n",
       "      <td>-0.188020</td>\n",
       "    </tr>\n",
       "    <tr>\n",
       "      <th>50%</th>\n",
       "      <td>2.261328e+07</td>\n",
       "      <td>4.622586e+07</td>\n",
       "      <td>51.514040</td>\n",
       "      <td>-0.125660</td>\n",
       "    </tr>\n",
       "    <tr>\n",
       "      <th>75%</th>\n",
       "      <td>3.152753e+07</td>\n",
       "      <td>1.367858e+08</td>\n",
       "      <td>51.537330</td>\n",
       "      <td>-0.070000</td>\n",
       "    </tr>\n",
       "    <tr>\n",
       "      <th>max</th>\n",
       "      <td>3.760090e+07</td>\n",
       "      <td>2.840826e+08</td>\n",
       "      <td>51.681690</td>\n",
       "      <td>0.296570</td>\n",
       "    </tr>\n",
       "  </tbody>\n",
       "</table>\n",
       "</div>"
      ],
      "text/plain": [
       "                 id       host_id      latitude     longitude\n",
       "count  8.591800e+04  8.591800e+04  85918.000000  85918.000000\n",
       "mean   2.202063e+07  8.145636e+07     51.509576     -0.127892\n",
       "std    1.063342e+07  8.157314e+07      0.046265      0.092198\n",
       "min    1.391300e+04  2.697000e+03     51.294790     -0.495820\n",
       "25%    1.391292e+07  1.494246e+07     51.485450     -0.188020\n",
       "50%    2.261328e+07  4.622586e+07     51.514040     -0.125660\n",
       "75%    3.152753e+07  1.367858e+08     51.537330     -0.070000\n",
       "max    3.760090e+07  2.840826e+08     51.681690      0.296570"
      ]
     },
     "execution_count": 372,
     "metadata": {},
     "output_type": "execute_result"
    }
   ],
   "source": [
    "# check distribution\n",
    "airbnb.describe()"
   ]
  },
  {
   "cell_type": "markdown",
   "metadata": {},
   "source": [
    "### Clean"
   ]
  },
  {
   "cell_type": "code",
   "execution_count": 373,
   "metadata": {},
   "outputs": [],
   "source": [
    "# We want to change the data type of the 'id' and 'host_id' columns from int64 to object\n",
    "cols =[\"id\", \"host_id\"]\n",
    "airbnb[cols] = airbnb[cols].astype(object)"
   ]
  },
  {
   "cell_type": "code",
   "execution_count": 374,
   "metadata": {},
   "outputs": [
    {
     "name": "stdout",
     "output_type": "stream",
     "text": [
      "<class 'pandas.core.frame.DataFrame'>\n",
      "RangeIndex: 85918 entries, 0 to 85917\n",
      "Data columns (total 9 columns):\n",
      " #   Column                  Non-Null Count  Dtype  \n",
      "---  ------                  --------------  -----  \n",
      " 0   id                      85918 non-null  object \n",
      " 1   host_id                 85918 non-null  object \n",
      " 2   host_about              49399 non-null  object \n",
      " 3   host_neighbourhood      66720 non-null  object \n",
      " 4   neighbourhood_cleansed  85918 non-null  object \n",
      " 5   latitude                85918 non-null  float64\n",
      " 6   longitude               85918 non-null  float64\n",
      " 7   property_type           85918 non-null  object \n",
      " 8   room_type               85918 non-null  object \n",
      "dtypes: float64(2), object(7)\n",
      "memory usage: 5.9+ MB\n"
     ]
    }
   ],
   "source": [
    "# Confirm that the data type of the 'id' and 'host_id' columns has changed to object\n",
    "airbnb.info()"
   ]
  },
  {
   "cell_type": "code",
   "execution_count": 375,
   "metadata": {},
   "outputs": [
    {
     "data": {
      "text/plain": [
       "id                            0\n",
       "host_id                       0\n",
       "host_about                36519\n",
       "host_neighbourhood        19198\n",
       "neighbourhood_cleansed        0\n",
       "latitude                      0\n",
       "longitude                     0\n",
       "property_type                 0\n",
       "room_type                     0\n",
       "dtype: int64"
      ]
     },
     "execution_count": 375,
     "metadata": {},
     "output_type": "execute_result"
    }
   ],
   "source": [
    "# Check for missing values and compare to counts\n",
    "airbnb.isnull().sum()"
   ]
  },
  {
   "cell_type": "code",
   "execution_count": 376,
   "metadata": {},
   "outputs": [
    {
     "data": {
      "text/plain": [
       "0        37 years old from France. Living with my wife,...\n",
       "1        Hi\\r\\n\\r\\nI expect you'd like to know somethin...\n",
       "2        Hi\\r\\n\\r\\nI expect you'd like to know somethin...\n",
       "3        Hi\\r\\n\\r\\nI expect you'd like to know somethin...\n",
       "4        Hi\\r\\n\\r\\nI expect you'd like to know somethin...\n",
       "                               ...                        \n",
       "85913                                              Unknown\n",
       "85914                                              Unknown\n",
       "85915                                              Unknown\n",
       "85916    Hi I'm Rosi! \\nI've grown up in sunny Brasil, ...\n",
       "85917                                              Unknown\n",
       "Name: host_about, Length: 85918, dtype: object"
      ]
     },
     "execution_count": 376,
     "metadata": {},
     "output_type": "execute_result"
    }
   ],
   "source": [
    "# Replace missing values in 'host_about' column with \"Unknown\"\n",
    "airbnb.host_about.fillna(\"Unknown\")"
   ]
  },
  {
   "cell_type": "code",
   "execution_count": 377,
   "metadata": {},
   "outputs": [
    {
     "data": {
      "text/plain": [
       "0        LB of Islington\n",
       "1             St. Luke's\n",
       "2             St. Luke's\n",
       "3             St. Luke's\n",
       "4             St. Luke's\n",
       "              ...       \n",
       "85913       Canning Town\n",
       "85914     LB of Haringey\n",
       "85915         Grove Park\n",
       "85916             Putney\n",
       "85917      LB of Croydon\n",
       "Name: host_neighbourhood, Length: 85918, dtype: object"
      ]
     },
     "execution_count": 377,
     "metadata": {},
     "output_type": "execute_result"
    }
   ],
   "source": [
    "# Replace missing values in 'host_neighbourhood' column with \"Unknown\"\n",
    "airbnb.host_neighbourhood.fillna(\"Unknown\")"
   ]
  },
  {
   "cell_type": "markdown",
   "metadata": {},
   "source": [
    "### Explore"
   ]
  },
  {
   "cell_type": "code",
   "execution_count": 378,
   "metadata": {},
   "outputs": [
    {
     "data": {
      "text/plain": [
       "id                        85918\n",
       "host_id                   54438\n",
       "host_about                27674\n",
       "host_neighbourhood          434\n",
       "neighbourhood_cleansed       33\n",
       "latitude                  20732\n",
       "longitude                 31996\n",
       "property_type                41\n",
       "room_type                     4\n",
       "dtype: int64"
      ]
     },
     "execution_count": 378,
     "metadata": {},
     "output_type": "execute_result"
    }
   ],
   "source": [
    "# Check how many unique values are there in every column?\n",
    "airbnb.nunique()"
   ]
  },
  {
   "cell_type": "code",
   "execution_count": 379,
   "metadata": {},
   "outputs": [
    {
     "data": {
      "text/plain": [
       "array(['Apartment', 'Townhouse', 'Serviced apartment', 'House', 'Loft',\n",
       "       'Condominium', 'Bed and breakfast', 'Cottage', 'Other',\n",
       "       'Guest suite', 'Aparthotel', 'Cabin', 'Villa', 'Guesthouse',\n",
       "       'Boat', 'Tiny house', 'Bungalow', 'Camper/RV', 'Hotel', 'Barn',\n",
       "       'Boutique hotel', 'Hostel', 'Chalet', 'Houseboat', 'Hut', 'Yurt',\n",
       "       'Parking Space', 'Nature lodge', 'Treehouse',\n",
       "       'Casa particular (Cuba)', 'Plane', 'Tent', 'Earth house',\n",
       "       'Lighthouse', 'Minsu (Taiwan)', 'Ryokan (Japan)', 'Island',\n",
       "       'Farm stay', 'Bus', 'Campsite', 'Dome house'], dtype=object)"
      ]
     },
     "execution_count": 379,
     "metadata": {},
     "output_type": "execute_result"
    }
   ],
   "source": [
    "# What are the 41 different property types?\n",
    "airbnb['property_type'].unique()"
   ]
  },
  {
   "cell_type": "code",
   "execution_count": 380,
   "metadata": {},
   "outputs": [
    {
     "data": {
      "text/plain": [
       "array(['Entire home/apt', 'Private room', 'Shared room', 'Hotel room'],\n",
       "      dtype=object)"
      ]
     },
     "execution_count": 380,
     "metadata": {},
     "output_type": "execute_result"
    }
   ],
   "source": [
    "# What are the 4 different room types?\n",
    "airbnb['room_type'].unique()"
   ]
  },
  {
   "cell_type": "code",
   "execution_count": 381,
   "metadata": {},
   "outputs": [
    {
     "data": {
      "text/plain": [
       "array(['Islington', 'Kensington and Chelsea', 'Tower Hamlets', 'Hackney',\n",
       "       'Camden', 'Lambeth', 'Haringey', 'Wandsworth', 'Ealing',\n",
       "       'Waltham Forest', 'Westminster', 'Southwark', 'Redbridge',\n",
       "       'Enfield', 'Barnet', 'City of London', 'Hounslow', 'Newham',\n",
       "       'Croydon', 'Lewisham', 'Hammersmith and Fulham', 'Merton', 'Brent',\n",
       "       'Kingston upon Thames', 'Richmond upon Thames', 'Greenwich',\n",
       "       'Sutton', 'Barking and Dagenham', 'Hillingdon', 'Bromley',\n",
       "       'Havering', 'Harrow', 'Bexley'], dtype=object)"
      ]
     },
     "execution_count": 381,
     "metadata": {},
     "output_type": "execute_result"
    }
   ],
   "source": [
    "# What are the 33 different neighbourhoods?\n",
    "airbnb['neighbourhood_cleansed'].unique()"
   ]
  },
  {
   "cell_type": "code",
   "execution_count": 382,
   "metadata": {},
   "outputs": [],
   "source": [
    "# Read in once\n",
    "nbhoods = gpd.read_file('neighbourhoods.geojson')"
   ]
  },
  {
   "cell_type": "code",
   "execution_count": 383,
   "metadata": {},
   "outputs": [
    {
     "data": {
      "text/plain": [
       "0     MULTIPOLYGON (((-0.33068 51.32901, -0.33059 51...\n",
       "1     MULTIPOLYGON (((-0.06402 51.31864, -0.06407 51...\n",
       "2     MULTIPOLYGON (((0.01213 51.29960, 0.01196 51.2...\n",
       "3     MULTIPOLYGON (((-0.24456 51.48870, -0.24468 51...\n",
       "4     MULTIPOLYGON (((-0.41183 51.53408, -0.41188 51...\n",
       "5     MULTIPOLYGON (((0.15869 51.51219, 0.15871 51.5...\n",
       "6     MULTIPOLYGON (((-0.40407 51.61318, -0.40388 51...\n",
       "7     MULTIPOLYGON (((-0.40407 51.61318, -0.40320 51...\n",
       "8     MULTIPOLYGON (((-0.19657 51.52765, -0.19685 51...\n",
       "9     MULTIPOLYGON (((-0.19990 51.67017, -0.19970 51...\n",
       "10    MULTIPOLYGON (((-0.10580 51.69187, -0.10557 51...\n",
       "11    MULTIPOLYGON (((0.01924 51.60822, 0.01931 51.6...\n",
       "12    MULTIPOLYGON (((0.06937 51.54413, 0.06910 51.5...\n",
       "13    MULTIPOLYGON (((-0.15657 51.32151, -0.15866 51...\n",
       "14    MULTIPOLYGON (((-0.12846 51.48505, -0.12843 51...\n",
       "15    MULTIPOLYGON (((-0.10892 51.50844, -0.10889 51...\n",
       "16    MULTIPOLYGON (((-0.03241 51.49305, -0.03240 51...\n",
       "17    MULTIPOLYGON (((-0.02485 51.48555, -0.02479 51...\n",
       "18    MULTIPOLYGON (((0.12021 51.51145, 0.12159 51.5...\n",
       "19    MULTIPOLYGON (((-0.32173 51.46541, -0.32172 51...\n",
       "20    MULTIPOLYGON (((-0.13432 51.39093, -0.13438 51...\n",
       "21    MULTIPOLYGON (((-0.22343 51.47152, -0.22327 51...\n",
       "22    MULTIPOLYGON (((-0.24456 51.48870, -0.24460 51...\n",
       "23    MULTIPOLYGON (((-0.18388 51.47742, -0.18403 51...\n",
       "24    MULTIPOLYGON (((-0.11157 51.51076, -0.11159 51...\n",
       "25    MULTIPOLYGON (((-0.15000 51.48548, -0.15009 51...\n",
       "26    MULTIPOLYGON (((-0.14242 51.56912, -0.14250 51...\n",
       "27    MULTIPOLYGON (((-0.07938 51.50784, -0.07934 51...\n",
       "28    MULTIPOLYGON (((-0.13839 51.55686, -0.13851 51...\n",
       "29    MULTIPOLYGON (((-0.09767 51.57365, -0.09756 51...\n",
       "30    MULTIPOLYGON (((-0.09767 51.57365, -0.09780 51...\n",
       "31    MULTIPOLYGON (((0.07549 51.52982, 0.07546 51.5...\n",
       "32    MULTIPOLYGON (((0.07317 51.52937, 0.07316 51.5...\n",
       "Name: geometry, dtype: geometry"
      ]
     },
     "execution_count": 383,
     "metadata": {},
     "output_type": "execute_result"
    }
   ],
   "source": [
    "nbhoods['geometry']"
   ]
  },
  {
   "cell_type": "code",
   "execution_count": 384,
   "metadata": {},
   "outputs": [
    {
     "data": {
      "text/plain": [
       "<AxesSubplot:>"
      ]
     },
     "execution_count": 384,
     "metadata": {},
     "output_type": "execute_result"
    },
    {
     "data": {
      "image/png": "[encoded data removed]",
      "text/plain": [
       "<Figure size 432x288 with 1 Axes>"
      ]
     },
     "metadata": {
      "needs_background": "light"
     },
     "output_type": "display_data"
    }
   ],
   "source": [
    "nbhoods.plot()"
   ]
  },
  {
   "cell_type": "markdown",
   "metadata": {},
   "source": [
    "### Analyze"
   ]
  },
  {
   "cell_type": "markdown",
   "metadata": {},
   "source": [
    "##### How many Airbnb listings in London are not the primary residence of the host?"
   ]
  },
  {
   "cell_type": "code",
   "execution_count": 442,
   "metadata": {},
   "outputs": [
    {
     "name": "stdout",
     "output_type": "stream",
     "text": [
      "85918 total listings were offered during August 2019.\n",
      "54438 total hosts were active during August 2019.\n",
      "There were 31480 more listings (37%) than hosts during August 2019.\n"
     ]
    }
   ],
   "source": [
    "total_listings = airbnb['id'].count()\n",
    "total_hosts = airbnb['host_id'].nunique()\n",
    "percent_diff_h = ((total_listings-total_hosts)/total_listings)*100\n",
    "list_diff_h = total_listings-total_hosts\n",
    "print(f\"{total_listings} total listings were offered during August 2019.\")\n",
    "print(f\"{total_hosts} total hosts were active during August 2019.\")\n",
    "print(f\"There were {list_diff_h} more listings ({round(percent_diff_h)}%) than hosts during August 2019.\")"
   ]
  },
  {
   "cell_type": "code",
   "execution_count": 464,
   "metadata": {},
   "outputs": [
    {
     "name": "stdout",
     "output_type": "stream",
     "text": [
      "48253 listings (56%) offered an entire home or apartment during August 2019.\n"
     ]
    }
   ],
   "source": [
    "total_eh = ((airbnb['room_type'] == 'Entire home/apt').sum())\n",
    "percent_diff_eh = (total_eh/total_listings)*100\n",
    "print(f\"{total_eh} listings ({round(percent_diff_eh)}%) offered an entire home or apartment during August 2019.\")"
   ]
  },
  {
   "cell_type": "code",
   "execution_count": 465,
   "metadata": {},
   "outputs": [
    {
     "name": "stdout",
     "output_type": "stream",
     "text": [
      "room_type\n",
      "Entire home/apt    30212\n",
      "Hotel room             6\n",
      "Private room       27186\n",
      "Shared room          471\n",
      "Name: host_id, dtype: int64\n"
     ]
    }
   ],
   "source": [
    "print(airbnb.groupby('room_type').host_id.nunique())"
   ]
  },
  {
   "cell_type": "code",
   "execution_count": 471,
   "metadata": {},
   "outputs": [
    {
     "name": "stdout",
     "output_type": "stream",
     "text": [
      "18041 listings (21%) during August 2019 were for an entire home or apartment and offered by hosts with multiple listings.\n"
     ]
    }
   ],
   "source": [
    "# We see that there were 30212 listings where the entire home or apartment were listed with unique host ids\n",
    "# Now through elimination, we can calculate home many entire homes or apartments were listed by hosts with more than one listing\n",
    "multi_list_host_eh = total_eh-30212\n",
    "percent_multi_list_host_eh = ((multi_list_host_eh)/total_listings)*100\n",
    "print(f\"{multi_list_host_eh} listings ({round(percent_multi_list_host_eh)}%) during August 2019 were for an entire home or apartment and offered by hosts with multiple listings.\")"
   ]
  },
  {
   "cell_type": "markdown",
   "metadata": {},
   "source": [
    "##### How many Airbnb listings in London can be attributed to hosts with multiple listings?"
   ]
  },
  {
   "cell_type": "code",
   "execution_count": 472,
   "metadata": {},
   "outputs": [
    {
     "name": "stdout",
     "output_type": "stream",
     "text": [
      "36934 listings (43%) offered a private room during August 2019.\n",
      "8 listings (0%) offered a hotel room during August 2019.\n",
      "723 listings (1%) offered a shared room during August 2019.\n"
     ]
    }
   ],
   "source": [
    "# let's do the same analysis for the remaining room types\n",
    "total_pr = ((airbnb['room_type'] == 'Private room').sum())\n",
    "total_hr = ((airbnb['room_type'] == 'Hotel room').sum())\n",
    "total_sr = ((airbnb['room_type'] == 'Shared room').sum())\n",
    "percent_diff_pr = (total_pr/total_listings)*100\n",
    "percent_diff_hr = (total_hr/total_listings)*100\n",
    "percent_diff_sr = (total_sr/total_listings)*100\n",
    "print(f\"{total_pr} listings ({round(percent_diff_pr)}%) offered a private room during August 2019.\")\n",
    "print(f\"{total_hr} listings ({round(percent_diff_hr)}%) offered a hotel room during August 2019.\")\n",
    "print(f\"{total_sr} listings ({round(percent_diff_sr)}%) offered a shared room during August 2019.\")"
   ]
  },
  {
   "cell_type": "code",
   "execution_count": 473,
   "metadata": {},
   "outputs": [
    {
     "name": "stdout",
     "output_type": "stream",
     "text": [
      "room_type\n",
      "Entire home/apt    30212\n",
      "Hotel room             6\n",
      "Private room       27186\n",
      "Shared room          471\n",
      "Name: host_id, dtype: int64\n"
     ]
    }
   ],
   "source": [
    "print(airbnb.groupby('room_type').host_id.nunique())"
   ]
  },
  {
   "cell_type": "code",
   "execution_count": 480,
   "metadata": {},
   "outputs": [
    {
     "name": "stdout",
     "output_type": "stream",
     "text": [
      "9748 listings (11%) during August 2019 were for a private room and offered by hosts with multiple listings.\n",
      "2 listings (0%) during August 2019 were for a hotel room and offered by hosts with multiple listings.\n",
      "252 listings (0%) during August 2019 were for a shared room and offered by hosts with multiple listings.\n"
     ]
    }
   ],
   "source": [
    "# From above, we see that there were:\n",
    "    # 27186 listings where a private room was listed with unique host ids\n",
    "    # 6 listings where a hotel room was listed with unique host ids\n",
    "    # 471 listings where a shared room was listed with unique host ids\n",
    "# Now through elimination, we can calculate home many private, hotel, and shared rooms were listed by hosts with more than one listing\n",
    "multi_list_host_pr = total_pr-27186\n",
    "multi_list_host_hr = total_hr-6\n",
    "multi_list_host_sr = total_sr-471\n",
    "percent_multi_list_host_pr = ((multi_list_host_pr)/total_listings)*100\n",
    "percent_multi_list_host_hr = ((multi_list_host_hr)/total_listings)*100\n",
    "percent_multi_list_host_sr = ((multi_list_host_sr)/total_listings)*100\n",
    "print(f\"{multi_list_host_pr} listings ({round(percent_multi_list_host_pr)}%) during August 2019 were for a private room and offered by hosts with multiple listings.\")\n",
    "print(f\"{multi_list_host_hr} listings ({round(percent_multi_list_host_hr)}%) during August 2019 were for a hotel room and offered by hosts with multiple listings.\")\n",
    "print(f\"{multi_list_host_sr} listings ({round(percent_multi_list_host_sr)}%) during August 2019 were for a shared room and offered by hosts with multiple listings.\")"
   ]
  },
  {
   "cell_type": "code",
   "execution_count": 485,
   "metadata": {},
   "outputs": [
    {
     "name": "stdout",
     "output_type": "stream",
     "text": [
      "A total of 28043 listings (33%) were offered by hosts with multiple listings.\n"
     ]
    }
   ],
   "source": [
    "# How many total listings were from host with multiple listings?\n",
    "print(f\"A total of {multi_list_host_eh + multi_list_host_pr + multi_list_host_hr + multi_list_host_sr} listings ({round(percent_multi_list_host_eh + percent_multi_list_host_pr + percent_multi_list_host_hr + percent_multi_list_host_sr)}%) were offered by hosts with multiple listings.\")"
   ]
  },
  {
   "cell_type": "code",
   "execution_count": 486,
   "metadata": {},
   "outputs": [
    {
     "data": {
      "text/plain": [
       "[Text(0, 0, '33889201'),\n",
       " Text(1, 0, '156158778'),\n",
       " Text(2, 0, '28820321'),\n",
       " Text(3, 0, '48165024'),\n",
       " Text(4, 0, '137094377'),\n",
       " Text(5, 0, '1432477'),\n",
       " Text(6, 0, '224866971'),\n",
       " Text(7, 0, '27572615'),\n",
       " Text(8, 0, '13557337'),\n",
       " Text(9, 0, '50291093')]"
      ]
     },
     "execution_count": 486,
     "metadata": {},
     "output_type": "execute_result"
    },
    {
     "data": {
      "image/png": "[encoded data removed]",
      "text/plain": [
       "<Figure size 720x576 with 1 Axes>"
      ]
     },
     "metadata": {},
     "output_type": "display_data"
    }
   ],
   "source": [
    "# What about the hosts with the most listings\n",
    "top_hosts = airbnb['host_id'].value_counts().head(10)\n",
    "\n",
    "sns.set(rc={'figure.figsize':(10,8)})\n",
    "\n",
    "viz_bar = top_hosts.plot(kind='bar')\n",
    "viz_bar.set_title('Hosts with the most listings in London')\n",
    "viz_bar.set_xlabel('Host IDs')\n",
    "viz_bar.set_ylabel('Count of listings')\n",
    "viz_bar.set_xticklabels(viz_bar.get_xticklabels(), rotation=45)"
   ]
  },
  {
   "cell_type": "markdown",
   "metadata": {},
   "source": [
    "##### How many Airbnb listings in London are operated by management companies?"
   ]
  },
  {
   "cell_type": "code",
   "execution_count": null,
   "metadata": {},
   "outputs": [],
   "source": [
    "pip install nltk\n",
    "python -m nltk.downloader all"
   ]
  },
  {
   "cell_type": "code",
   "execution_count": 153,
   "metadata": {},
   "outputs": [
    {
     "ename": "SyntaxError",
     "evalue": "invalid syntax (<ipython-input-153-21e8c8037306>, line 1)",
     "output_type": "error",
     "traceback": [
      "\u001b[0;36m  File \u001b[0;32m\"<ipython-input-153-21e8c8037306>\"\u001b[0;36m, line \u001b[0;32m1\u001b[0m\n\u001b[0;31m    pip install nltk\u001b[0m\n\u001b[0m              ^\u001b[0m\n\u001b[0;31mSyntaxError\u001b[0m\u001b[0;31m:\u001b[0m invalid syntax\n"
     ]
    }
   ],
   "source": [
    "#pre-processing\n",
    "\n",
    "import nltk\n",
    "from nltk import word_tokenize\n",
    "from nltk.corpus import stopwords\n",
    "from unidecode import unidecode\n",
    "import string\n",
    "\n",
    "def pre_process(corpus):\n",
    "    # convert input corpus to lower case.\n",
    "    corpus = corpus.lower()\n",
    "    # collecting a list of stop words from nltk and punctuation form\n",
    "    # string class and create single array.\n",
    "    stopset = stopwords.words('english') + list(string.punctuation)\n",
    "    # remove stop words and punctuations from string.\n",
    "    # word_tokenize is used to tokenize the input corpus in word tokens.\n",
    "   corpus = \" \".join([i for i in word_tokenize(corpus) if i not in stopset])\n",
    "    # remove non-ascii characters\n",
    "    corpus = unidecode(corpus)\n",
    "    return corpus\n",
    "\n",
    "pre_process(\"Sample of non ASCII: Ceñía. How to remove stopwords and punctuations?\")"
   ]
  },
  {
   "cell_type": "code",
   "execution_count": null,
   "metadata": {},
   "outputs": [],
   "source": [
    "#Lemmatization\n",
    "\n",
    "from nltk.stem import WordNetLemmatizer\n",
    "from nltk.tokenize import word_tokenize\n",
    "lemmatizer = WordNetLemmatizer()\n",
    "sentence = \"The striped bats are hanging on their feet for best\"\n",
    "words = word_tokenize(sentence)\n",
    "for w in words:\n",
    "    print(w, \" : \", lemmatizer.lemmatize(w)"
   ]
  },
  {
   "cell_type": "code",
   "execution_count": null,
   "metadata": {},
   "outputs": [],
   "source": [
    "#TF-IDF\n",
    "\n",
    "from sklearn.feature_extraction.text import TfidfVectorizer\n",
    "# sentence pair\n",
    "corpus = [\"A girl is styling her hair.\", \"A girl is brushing her hair.\"]\n",
    "for c in range(len(corpus)):\n",
    "    corpus[c] = pre_process(corpus[c])\n",
    "# creating vocabulary using uni-gram and bi-gram\n",
    "tfidf_vectorizer = TfidfVectorizer(ngram_range=(1,2))\n",
    "tfidf_vectorizer.fit(corpus)\n",
    "feature_vectors = tfidf_vectorizer.transform(corpus)"
   ]
  },
  {
   "cell_type": "code",
   "execution_count": null,
   "metadata": {},
   "outputs": [],
   "source": [
    "#g. Top listing words example from London – but in host_about\n",
    "\n",
    "#Crete empty list where we are going to put the name strings\n",
    "names=[]\n",
    "#Getting name string from 'name' column and appending it to the empty list\n",
    "for name in airbnb.name:\n",
    "    names.append(name)\n",
    "\n",
    "#Setting a function to split name strings into seperate words\n",
    "def split_name(name):\n",
    "    s = str(name).split()\n",
    "    return s\n",
    "\n",
    "#Create empty list where we are going to count the words\n",
    "names_count = []\n",
    "#Getting name string to appending it to the names_count list\n",
    "for n in names:\n",
    "    for word in split_name(n):\n",
    "        word = word.lower()\n",
    "        names_count.append(word)\n",
    "\n",
    "        \n",
    "from collections import Counter\n",
    "top_25 = Counter(names_count).most_common()\n",
    "top_25 = top_25[:25]\n",
    "\n",
    "word_count_data = pd.DataFrame(top_25)\n",
    "word_count_data.rename(columns={0:'Words',1:'Counts'},inplace=True)\n",
    "viz_count = sns.barplot(x='Words',y='Counts', data = word_count_data)\n",
    "viz_count.set_title('Top 25 used words for listing names')\n",
    "viz_count.set_ylabel('Count of words')\n",
    "viz_count.set_xlabel('Words')\n",
    "viz_count.set_xticklabels(viz_count.get_xticklabels(),rotation = 90)"
   ]
  },
  {
   "cell_type": "markdown",
   "metadata": {},
   "source": [
    "##### Is the problem of 'ghost hotels' concentrated in certain areas of London or spread throughout?"
   ]
  },
  {
   "cell_type": "code",
   "execution_count": 162,
   "metadata": {},
   "outputs": [
    {
     "name": "stdout",
     "output_type": "stream",
     "text": [
      "Westminster               9757\n",
      "Tower Hamlets             8299\n",
      "Hackney                   6244\n",
      "Camden                    6090\n",
      "Kensington and Chelsea    5961\n",
      "Islington                 5240\n",
      "Southwark                 4953\n",
      "Lambeth                   4890\n",
      "Wandsworth                4328\n",
      "Hammersmith and Fulham    4320\n",
      "Name: neighbourhood_cleansed, dtype: int64\n"
     ]
    }
   ],
   "source": [
    "top_nbhoods = airbnb['neighbourhood_cleansed'].value_counts().head(10)\n",
    "print(top_nbhoods)"
   ]
  },
  {
   "cell_type": "raw",
   "metadata": {},
   "source": [
    "#Top Region Area\n",
    "\n",
    "labels = airbnb['neighbourhood_cleansed'].value_counts().head(10).index\n",
    "\n",
    "shape = airbnb['neighbourhood_cleansed'].value_counts().head(10).values\n",
    "\n",
    "plt.figure(figsize=(11,11))\n",
    "plt.pie(shape, labels=shape, colors= colors, autopct = '%1.1f%%', startangle=90)\n",
    "plt.legend(labels)\n",
    "plt.title('Neighbourhoods')\n",
    "plt.show()"
   ]
  },
  {
   "cell_type": "code",
   "execution_count": 194,
   "metadata": {},
   "outputs": [
    {
     "data": {
      "text/plain": [
       "[Text(0, 0, 'Westminster'),\n",
       " Text(1, 0, 'Tower Hamlets'),\n",
       " Text(2, 0, 'Hackney'),\n",
       " Text(3, 0, 'Camden'),\n",
       " Text(4, 0, 'Kensington and Chelsea'),\n",
       " Text(5, 0, 'Islington'),\n",
       " Text(6, 0, 'Southwark'),\n",
       " Text(7, 0, 'Lambeth'),\n",
       " Text(8, 0, 'Wandsworth'),\n",
       " Text(9, 0, 'Hammersmith and Fulham')]"
      ]
     },
     "execution_count": 194,
     "metadata": {},
     "output_type": "execute_result"
    },
    {
     "data": {
      "image/png": "[encoded data removed]",
      "text/plain": [
       "<Figure size 720x576 with 1 Axes>"
      ]
     },
     "metadata": {},
     "output_type": "display_data"
    }
   ],
   "source": [
    "top_nbhoods= airbnb['neighbourhood_cleansed'].value_counts().head(10)\n",
    "\n",
    "sns.set(rc={'figure.figsize':(10,8)})\n",
    "\n",
    "viz_bar = top_nbhoods.plot(kind='bar')\n",
    "viz_bar.set_title('Neighbourhoods with the most listings in London')\n",
    "viz_bar.set_xlabel('Neighbourhoods')\n",
    "viz_bar.set_ylabel('Count of listings')\n",
    "viz_bar.set_xticklabels(viz_bar.get_xticklabels(), rotation=45)"
   ]
  },
  {
   "cell_type": "code",
   "execution_count": 65,
   "metadata": {},
   "outputs": [
    {
     "data": {
      "text/html": [
       "<div>\n",
       "<style scoped>\n",
       "    .dataframe tbody tr th:only-of-type {\n",
       "        vertical-align: middle;\n",
       "    }\n",
       "\n",
       "    .dataframe tbody tr th {\n",
       "        vertical-align: top;\n",
       "    }\n",
       "\n",
       "    .dataframe thead th {\n",
       "        text-align: right;\n",
       "    }\n",
       "</style>\n",
       "<table border=\"1\" class=\"dataframe\">\n",
       "  <thead>\n",
       "    <tr style=\"text-align: right;\">\n",
       "      <th></th>\n",
       "      <th>longitude</th>\n",
       "      <th>latitude</th>\n",
       "    </tr>\n",
       "  </thead>\n",
       "  <tbody>\n",
       "    <tr>\n",
       "      <th>count</th>\n",
       "      <td>85918.000000</td>\n",
       "      <td>85918.000000</td>\n",
       "    </tr>\n",
       "    <tr>\n",
       "      <th>mean</th>\n",
       "      <td>-0.127892</td>\n",
       "      <td>51.509576</td>\n",
       "    </tr>\n",
       "    <tr>\n",
       "      <th>std</th>\n",
       "      <td>0.092198</td>\n",
       "      <td>0.046265</td>\n",
       "    </tr>\n",
       "    <tr>\n",
       "      <th>min</th>\n",
       "      <td>-0.495820</td>\n",
       "      <td>51.294790</td>\n",
       "    </tr>\n",
       "    <tr>\n",
       "      <th>25%</th>\n",
       "      <td>-0.188020</td>\n",
       "      <td>51.485450</td>\n",
       "    </tr>\n",
       "    <tr>\n",
       "      <th>50%</th>\n",
       "      <td>-0.125660</td>\n",
       "      <td>51.514040</td>\n",
       "    </tr>\n",
       "    <tr>\n",
       "      <th>75%</th>\n",
       "      <td>-0.070000</td>\n",
       "      <td>51.537330</td>\n",
       "    </tr>\n",
       "    <tr>\n",
       "      <th>max</th>\n",
       "      <td>0.296570</td>\n",
       "      <td>51.681690</td>\n",
       "    </tr>\n",
       "  </tbody>\n",
       "</table>\n",
       "</div>"
      ],
      "text/plain": [
       "          longitude      latitude\n",
       "count  85918.000000  85918.000000\n",
       "mean      -0.127892     51.509576\n",
       "std        0.092198      0.046265\n",
       "min       -0.495820     51.294790\n",
       "25%       -0.188020     51.485450\n",
       "50%       -0.125660     51.514040\n",
       "75%       -0.070000     51.537330\n",
       "max        0.296570     51.681690"
      ]
     },
     "execution_count": 65,
     "metadata": {},
     "output_type": "execute_result"
    }
   ],
   "source": [
    "coord = airbnb.loc[:,['longitude','latitude']]\n",
    "coord.describe()"
   ]
  },
  {
   "cell_type": "code",
   "execution_count": 192,
   "metadata": {},
   "outputs": [
    {
     "ename": "TypeError",
     "evalue": "'module' object is not callable",
     "output_type": "error",
     "traceback": [
      "\u001b[0;31m---------------------------------------------------------------------------\u001b[0m",
      "\u001b[0;31mTypeError\u001b[0m                                 Traceback (most recent call last)",
      "\u001b[0;32m<ipython-input-192-9ab58fe3b25c>\u001b[0m in \u001b[0;36m<module>\u001b[0;34m\u001b[0m\n\u001b[1;32m      2\u001b[0m \u001b[0mplt\u001b[0m\u001b[0;34m.\u001b[0m\u001b[0mstyle\u001b[0m\u001b[0;34m.\u001b[0m\u001b[0muse\u001b[0m\u001b[0;34m(\u001b[0m\u001b[0;34m'fivethirtyeight'\u001b[0m\u001b[0;34m)\u001b[0m\u001b[0;34m\u001b[0m\u001b[0;34m\u001b[0m\u001b[0m\n\u001b[1;32m      3\u001b[0m \u001b[0mBBox\u001b[0m \u001b[0;34m=\u001b[0m \u001b[0;34m(\u001b[0m\u001b[0;34m-\u001b[0m\u001b[0;36m0.4958\u001b[0m\u001b[0;34m,\u001b[0m \u001b[0;36m0.2966\u001b[0m\u001b[0;34m,\u001b[0m \u001b[0;36m51.2948\u001b[0m\u001b[0;34m,\u001b[0m \u001b[0;36m51.6817\u001b[0m\u001b[0;34m)\u001b[0m\u001b[0;34m\u001b[0m\u001b[0;34m\u001b[0m\u001b[0m\n\u001b[0;32m----> 4\u001b[0;31m \u001b[0mldn_map\u001b[0m \u001b[0;34m=\u001b[0m \u001b[0mjson\u001b[0m\u001b[0;34m(\u001b[0m\u001b[0;34m'neighbourhoods.geojson'\u001b[0m\u001b[0;34m)\u001b[0m\u001b[0;34m\u001b[0m\u001b[0;34m\u001b[0m\u001b[0m\n\u001b[0m\u001b[1;32m      5\u001b[0m \u001b[0mplt\u001b[0m\u001b[0;34m.\u001b[0m\u001b[0mimshow\u001b[0m\u001b[0;34m(\u001b[0m\u001b[0mldn_map\u001b[0m\u001b[0;34m,\u001b[0m\u001b[0mzorder\u001b[0m\u001b[0;34m=\u001b[0m\u001b[0;36m0\u001b[0m\u001b[0;34m,\u001b[0m\u001b[0mextent\u001b[0m\u001b[0;34m=\u001b[0m\u001b[0mBBox\u001b[0m\u001b[0;34m)\u001b[0m\u001b[0;34m\u001b[0m\u001b[0;34m\u001b[0m\u001b[0m\n\u001b[1;32m      6\u001b[0m \u001b[0max\u001b[0m \u001b[0;34m=\u001b[0m \u001b[0mplt\u001b[0m\u001b[0;34m.\u001b[0m\u001b[0mgca\u001b[0m\u001b[0;34m(\u001b[0m\u001b[0;34m)\u001b[0m\u001b[0;34m\u001b[0m\u001b[0;34m\u001b[0m\u001b[0m\n",
      "\u001b[0;31mTypeError\u001b[0m: 'module' object is not callable"
     ]
    },
    {
     "data": {
      "text/plain": [
       "<Figure size 1296x864 with 0 Axes>"
      ]
     },
     "metadata": {},
     "output_type": "display_data"
    }
   ],
   "source": [
    "plt.figure(figsize=(18,12))\n",
    "plt.style.use('fivethirtyeight')\n",
    "BBox = (-0.4958, 0.2966, 51.2948, 51.6817)\n",
    "ldn_map = json('neighbourhoods.geojson')\n",
    "plt.imshow(ldn_map,zorder=0,extent=BBox)\n",
    "ax = plt.gca()\n",
    "groups = airbnb.groupby('neighbourhood_cleansed')\n",
    "for name,group in groups :\n",
    "    plt.scatter(group['longitude'],group['latitude'],label=name,alpha=0.5, edgecolors='k')\n",
    "plt.xlabel('Longitude')\n",
    "plt.ylabel('Latitude')\n",
    "plt.legend()"
   ]
  },
  {
   "cell_type": "code",
   "execution_count": 191,
   "metadata": {},
   "outputs": [
    {
     "name": "stderr",
     "output_type": "stream",
     "text": [
      "*c* argument looks like a single numeric RGB or RGBA sequence, which should be avoided as value-mapping will have precedence in case its length matches with *x* & *y*.  Please use the *color* keyword-argument or provide a 2-D array with a single row if you intend to specify the same RGB or RGBA value for all points.\n",
      "No handles with labels found to put in legend.\n"
     ]
    },
    {
     "data": {
      "text/plain": [
       "<Figure size 2160x1800 with 0 Axes>"
      ]
     },
     "metadata": {},
     "output_type": "display_data"
    },
    {
     "data": {
      "image/png": "[encoded data removed]",
      "text/plain": [
       "<Figure size 432x288 with 1 Axes>"
      ]
     },
     "metadata": {},
     "output_type": "display_data"
    }
   ],
   "source": [
    "plt.figure(figsize=(30,25))\n",
    "#plt.title(\"Map of Price Distribution\")\n",
    "ax=airbnb.plot(kind='scatter', x='longitude',y='latitude')\n",
    "ax.legend()\n",
    "plt.ioff()\n",
    "plt.show()"
   ]
  },
  {
   "cell_type": "raw",
   "metadata": {},
   "source": [
    "import folium\n",
    "from folium.plugins import HeatMap\n",
    "map_folium = folium.Map([1.35255,103.82580],zoom_start=11.4)\n",
    "HeatMap(airbnb[['latitude','longitude']].dropna(),radius=8,gradient={0.2:'blue',0.4:'purple',0.6:'orange',1.0:'red'}).add_to(map_folium)\n",
    "display(map_folium)"
   ]
  },
  {
   "cell_type": "markdown",
   "metadata": {},
   "source": [
    "---"
   ]
  },
  {
   "cell_type": "markdown",
   "metadata": {},
   "source": [
    "## Part 2 - Executive Briefing"
   ]
  },
  {
   "cell_type": "markdown",
   "metadata": {},
   "source": [
    "---"
   ]
  },
  {
   "cell_type": "markdown",
   "metadata": {},
   "source": [
    "### 1 Executive Summary"
   ]
  },
  {
   "cell_type": "markdown",
   "metadata": {},
   "source": [
    "This report provides an analysis of Airbnb activity in London based on data sourced from the Inside Airbnb website for the month of August 2019 – the last summer month prior to the COVID-19 pandemic. Through exploratory data analysis, we define what a ‘ghost hotel’ is and then set out to answer four main questions:\n",
    "1. How many Airbnb listings in London are not the primary residence of the host?\n",
    "2. How many Airbnb listings in London can be attributed to hosts with multiple listings?\n",
    "3. How many Airbnb listings in London are operated by management companies?\n",
    "4. Is the problem of ‘ghost hotels’ concentrated in certain areas of London or spread throughout?"
   ]
  },
  {
   "cell_type": "markdown",
   "metadata": {},
   "source": [
    "#### Key Findings"
   ]
  },
  {
   "cell_type": "raw",
   "metadata": {},
   "source": [
    "1.\tOne\n",
    "2.\tTwo\n",
    "3.\tThree\n",
    "4.\tFour\n",
    "5.\tFive"
   ]
  },
  {
   "cell_type": "markdown",
   "metadata": {},
   "source": [
    "#### Recommendations"
   ]
  },
  {
   "cell_type": "raw",
   "metadata": {},
   "source": [
    "1.\tOne\n",
    "2.\tTwo\n",
    "3.\tThree\n",
    "4.\tFour\n",
    "5.\tFive"
   ]
  },
  {
   "cell_type": "markdown",
   "metadata": {},
   "source": [
    "---"
   ]
  },
  {
   "cell_type": "markdown",
   "metadata": {},
   "source": [
    "### 2 Background"
   ]
  },
  {
   "cell_type": "markdown",
   "metadata": {},
   "source": [
    "#### Airbnb"
   ]
  },
  {
   "cell_type": "raw",
   "metadata": {},
   "source": [
    "•Platform that facilitates homeowners to make extra money by offering their extra rooms at a nightly rate and/or their entire home for when they are away\n",
    "•Simple concept on the surface, extra money for the little guy\n",
    "•Airbnb does not"
   ]
  },
  {
   "cell_type": "markdown",
   "metadata": {},
   "source": [
    "#### 'Ghost Hotels'"
   ]
  },
  {
   "cell_type": "raw",
   "metadata": {},
   "source": [
    "•To understand what a ghost hotel is, we must understand the following\n",
    "•Not the primary residence of the owner, but rather used solely for the purpose of renting at a nightly rate – like a hotel room \n",
    "•Multiple units/rooms – like a hotel; and\n",
    "•Buy virtue of using the Airbnb platform, there are no hotel staff – ghosts"
   ]
  },
  {
   "cell_type": "markdown",
   "metadata": {},
   "source": [
    "#### Inside Airbnb"
   ]
  },
  {
   "cell_type": "raw",
   "metadata": {},
   "source": [
    "•Scrapes data from Airbnb website\n",
    "•Airbnb does not provide owner information so not possible to verify\n",
    "•Using scraped data can assist in answering some questions though"
   ]
  },
  {
   "cell_type": "markdown",
   "metadata": {},
   "source": [
    "---"
   ]
  },
  {
   "cell_type": "markdown",
   "metadata": {},
   "source": [
    "### 3 Analysis"
   ]
  },
  {
   "cell_type": "markdown",
   "metadata": {},
   "source": [
    "#### How many Airbnb listings in London are not the primary residence of the host?"
   ]
  },
  {
   "cell_type": "raw",
   "metadata": {},
   "source": []
  },
  {
   "cell_type": "code",
   "execution_count": null,
   "metadata": {},
   "outputs": [],
   "source": []
  },
  {
   "cell_type": "markdown",
   "metadata": {},
   "source": [
    "#### How many Airbnb listings in London can be attributed to hosts with multiple listings? "
   ]
  },
  {
   "cell_type": "raw",
   "metadata": {},
   "source": []
  },
  {
   "cell_type": "code",
   "execution_count": null,
   "metadata": {},
   "outputs": [],
   "source": []
  },
  {
   "cell_type": "markdown",
   "metadata": {},
   "source": [
    "#### How many Airbnb listings in London are operated by management companies? "
   ]
  },
  {
   "cell_type": "raw",
   "metadata": {},
   "source": []
  },
  {
   "cell_type": "code",
   "execution_count": null,
   "metadata": {},
   "outputs": [],
   "source": []
  },
  {
   "cell_type": "markdown",
   "metadata": {},
   "source": [
    "#### Is the problem of 'ghost hotels' concentrated in certain areas of London or spread throughout?"
   ]
  },
  {
   "cell_type": "raw",
   "metadata": {},
   "source": []
  },
  {
   "cell_type": "code",
   "execution_count": null,
   "metadata": {},
   "outputs": [],
   "source": []
  },
  {
   "cell_type": "markdown",
   "metadata": {},
   "source": [
    "---"
   ]
  },
  {
   "cell_type": "markdown",
   "metadata": {},
   "source": [
    "### 4 Conclusion"
   ]
  },
  {
   "cell_type": "raw",
   "metadata": {},
   "source": []
  },
  {
   "cell_type": "markdown",
   "metadata": {},
   "source": [
    "---"
   ]
  },
  {
   "cell_type": "markdown",
   "metadata": {},
   "source": [
    "### 5 References"
   ]
  },
  {
   "cell_type": "raw",
   "metadata": {},
   "source": []
  }
 ],
 "metadata": {
  "kernelspec": {
   "display_name": "Python 3",
   "language": "python",
   "name": "python3"
  },
  "language_info": {
   "codemirror_mode": {
    "name": "ipython",
    "version": 3
   },
   "file_extension": ".py",
   "mimetype": "text/x-python",
   "name": "python",
   "nbconvert_exporter": "python",
   "pygments_lexer": "ipython3",
   "version": "3.7.8"
  },
  "toc-autonumbering": false,
  "toc-showcode": false,
  "toc-showmarkdowntxt": false,
  "toc-showtags": false
 },
 "nbformat": 4,
 "nbformat_minor": 4
}
