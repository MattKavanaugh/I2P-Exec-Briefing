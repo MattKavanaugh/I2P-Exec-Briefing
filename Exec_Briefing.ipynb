{
 "cells": [
  {
   "cell_type": "markdown",
   "metadata": {},
   "source": [
    "<h1 style=\"width:750px\">Airbnb and the Prevalence of Ghost Hotels in London</h1>"
   ]
  },
  {
   "cell_type": "markdown",
   "metadata": {},
   "source": [
    "---"
   ]
  },
  {
   "cell_type": "markdown",
   "metadata": {},
   "source": [
    "| CASA0013 | Introduction to Programming for Spatial Analysts | \n",
    "|----|----|\n",
    "| Programme | MSc Smart Cities and Urban Analytics |\n",
    "| Bartlett | Centre for Advanced Spatial Analytics |\n",
    "| Word Count | 2,500 |\n",
    "| Student ID | 19140941 |\n",
    "| Date | 21-01-13 |"
   ]
  },
  {
   "cell_type": "markdown",
   "metadata": {},
   "source": [
    "---"
   ]
  },
  {
   "cell_type": "markdown",
   "metadata": {},
   "source": [
    "## Part 1 - Reproducible Analysis"
   ]
  },
  {
   "cell_type": "markdown",
   "metadata": {},
   "source": [
    "Data for this analysis was downloaded from the Inside Airbnb website at http://insideairbnb.com/get-the-data.html.\n",
    "\n",
    "| | | | |\n",
    "|----|----|----|----|\n",
    "|  09 August, 2019  |  London  |  listings.csv.gz  |  Detailed Listings data for London  |\n",
    "\n",
    "**Note:** With a filesize of 318 MB, the original .csv file was much too large to upload to GitHub. Consequently, as only 9 of the 106 original columns were used in this analysis, a .csv file (19-08_ab_london.csv) containing only these 9 columns can be downloaded from GitHub at https://github.com/MattKavanaugh/I2P-Exec-Briefing. The original code used to remove the 97 other columns has been left in the reproducible analysis code below (see \"Clean\"), but hashed out so it does not run."
   ]
  },
  {
   "cell_type": "markdown",
   "metadata": {},
   "source": [
    "### Load"
   ]
  },
  {
   "cell_type": "code",
   "execution_count": 3,
   "metadata": {},
   "outputs": [],
   "source": [
    "#Load libraries\n",
    "\n",
    "import pandas as pd\n",
    "import numpy as np\n",
    "import matplotlib\n",
    "import matplotlib.pyplot as plt\n",
    "import matplotlib.image as mpimg\n",
    "import seaborn as sns"
   ]
  },
  {
   "cell_type": "code",
   "execution_count": null,
   "metadata": {},
   "outputs": [],
   "source": [
    "#Load data\n",
    "#The orginal data set had 106 columns, the code below will only read the reduced file containing 9 columns\n",
    "#The original code would have read airbnb1 = pd.read_csv('listings.csv')\n",
    "\n",
    "airbnb2 = pd.read_csv('19-08_ab_london.csv',encoding = \"Latin-1\")\n",
    "airbnb2.head()"
   ]
  },
  {
   "cell_type": "code",
   "execution_count": null,
   "metadata": {},
   "outputs": [],
   "source": [
    "#Review data\n",
    "\n",
    "airbnb2.shape\n",
    "airbnb2.dtypes"
   ]
  },
  {
   "cell_type": "markdown",
   "metadata": {},
   "source": [
    "### Clean"
   ]
  },
  {
   "cell_type": "code",
   "execution_count": null,
   "metadata": {},
   "outputs": [],
   "source": [
    "#Create a new dataframe containing only the columns needed for analysis\n",
    "#The following two lines of code deliberately hashed out - see note at beginning of this section\n",
    "\n",
    "#airbnb1 = pd.read_csv('listings.csv')\n",
    "#airbnb2 = airbnb1.loc[:, ['id', 'host_id', 'host_about', 'host_neighbourhood', 'neighbourhood_cleansed', 'latitude', 'longitude', 'property_type', 'room_type']]\n",
    "airbnb2.head()"
   ]
  },
  {
   "cell_type": "code",
   "execution_count": null,
   "metadata": {},
   "outputs": [],
   "source": [
    "#Check for missing values\n",
    "airbnb2.isnull().sum()\n",
    "print(london_df.isnull().any())"
   ]
  },
  {
   "cell_type": "code",
   "execution_count": null,
   "metadata": {},
   "outputs": [],
   "source": [
    "#Replace missing values\n",
    "airbnb['reviews_per_month'].fillna(0,inplace=True)"
   ]
  },
  {
   "cell_type": "markdown",
   "metadata": {},
   "source": [
    "### Explore and Analyze"
   ]
  },
  {
   "cell_type": "code",
   "execution_count": null,
   "metadata": {},
   "outputs": [],
   "source": [
    "#How many Airbnb listings in London are not the primary residence of the host?\n",
    "Assumption – host = homeowner, listing = primary residence\n",
    "\n",
    "H) Room type details from London FIGURE\n",
    "\n",
    "import plotly.offline as pyo\n",
    "import plotly.graph_objs as go\n",
    "#Setting up the color pallete\n",
    "color_dict = {'Private room': '#cc5a49', 'Entire home/apt' : '#4586ac', 'Shared room' : '#21908d', 'Hotel room' : '#C0C0C0' }\n",
    "#Group the room type using 'neighbourhood_group' as an index\n",
    "airbnb_types=airbnb.groupby(['neighbourhood_group', 'room_type']).size()\n",
    "#Create function to plot room type proportion on all region area\n",
    "for region in airbnb.neighbourhood_group.unique():\n",
    "    \n",
    "    plt.figure(figsize=(24,12))\n",
    "    \n",
    "    airbnb_reg=airbnb_types[region]\n",
    "    labels = airbnb_reg.index\n",
    "    sizes = airbnb_reg.values\n",
    "              \n",
    "    colors = [color_dict[x] for x in labels]\n",
    "    \n",
    "    plot_num = 321\n",
    "    plt.subplot(plot_num)\n",
    "    reg_ch = go.Figure(data = [go.Pie(labels = labels, values = sizes, hole = 0.6)])\n",
    "    reg_ch.update_traces(title = reg, marker=dict(colors=colors))\n",
    "    reg_ch.show()\n",
    "    \n",
    "    plot_num += 1\n",
    "\n",
    "Host_neighbourhood / neighbourhood_cleansed – comparison  – where hosts live vs. listing\n",
    "Of the entire, how many hosts are in the same neighbourhood\n",
    "\n",
    "d. Listing Map London example\n",
    "host_neighoburhood / neighbourhood cleansesd MAP\n",
    "\n",
    "airbnb['neighbourhood'].unique()\n",
    "plt.style.use('fivethirtyeight')\n",
    "plt.figure(figsize=(13,7))\n",
    "plt.title(\"Neighbourhood Group\")\n",
    "g = plt.pie(london_df.neighbourhood_group.value_counts(), labels=london_df.neighbourhood_group.value_counts().index,autopct='%1.1f%%', startangle=180)\n",
    "plt.show()"
   ]
  },
  {
   "cell_type": "code",
   "execution_count": null,
   "metadata": {},
   "outputs": [],
   "source": [
    "#How many Airbnb listings in London can be attributed to hosts with multiple listings?\n",
    "Assumption – host = homeowner, can only have one primary residence\n",
    "\n",
    "A) top listing example from London\n",
    "\n",
    "top_host_id = airbnb['host_id'].value_counts().head(10)\n",
    "sns.set(rc={'figure.figsize':(10,8)})\n",
    "viz_bar = top_host_id.plot(kind='bar')\n",
    "viz_bar.set_title('Hosts with the most listings in London')\n",
    "viz_bar.set_xlabel('Host IDs')\n",
    "viz_bar.set_ylabel('Count of listings')\n",
    "viz_bar.set_xticklabels(viz_bar.get_xticklabels(), rotation=45)\n",
    "\n",
    "\n",
    "D. Differentiate prices among available room types - London\n",
    "\n",
    "Bar chart - entire home, by host id (x), number of listings (y)\n",
    "Show multiple listings that are entire home, but with same host id\n",
    "\n",
    "airbnb['room_type'].unique()\n",
    "\n",
    "# 4 - Bar plot with price to location distribution\n",
    "loc_price = data.groupby(['neighbourhood_group','room_type'])['price'].mean().reset_index()\n",
    "locations = loc_price.neighbourhood_group.unique()\n",
    "x_rooms1 = [0.8, 3.8, 6.8, 9.8, 12.8]\n",
    "x_rooms2 = [1.6, 4.6, 7.6, 10.6, 13.6]\n",
    "x_rooms3 = [2.4, 5.4, 8.4, 11.4, 14.4]\n",
    "y_values1 = loc_price[loc_price['room_type'] == 'Entire home/apt']['price'].values\n",
    "y_values2 = loc_price[loc_price['room_type'] == 'Private room']['price'].values\n",
    "y_values3 = loc_price[loc_price['room_type'] == 'Shared room']['price'].values\n",
    "fig3,ax2 = plt.subplots(figsize=(16,11))\n",
    "fig3.patch.set_facecolor('lightgray')\n",
    "ax2.set_facecolor('lightgray')\n",
    "plt.bar(x_rooms1, y_values1, color='purple', edgecolor='b')\n",
    "plt.bar(x_rooms2, y_values2, color='b', edgecolor='b')\n",
    "plt.bar(x_rooms3, y_values3, color='yellowgreen', edgecolor='b')\n",
    "ax2.set_xticks(range(1,16,3))\n",
    "ax2.set_xticklabels(locations, fontsize='12')\n",
    "for tick in ax2.get_xticklabels():\n",
    "tick.set_rotation(45)\n",
    "plt.xlabel('Location/Room-type',fontsize='15')\n",
    "plt.ylabel('Prices', fontsize='15')\n",
    "plt.legend(labels=loc_price.room_type.unique(), loc='best')\n",
    "plt.title('London Price-Rental Distribution by Location and Room-type',fontsize='15')\n",
    "plt.show()\n",
    "\n",
    "Listing id / unique host id vs. listing id / more than one host id \n",
    "multiple listings vs. unique listings – heat MAP\n",
    "plt.style.use('fivethirtyeight')\n",
    "plt.figure(figsize=(13,7))\n",
    "plt.title(\"Neighbourhood Group\")\n",
    "g = plt.pie(london_df.neighbourhood_group.value_counts(), labels=london_df.neighbourhood_group.value_counts().index,autopct='%1.1f%%', startangle=180)\n",
    "plt.show()"
   ]
  },
  {
   "cell_type": "code",
   "execution_count": null,
   "metadata": {},
   "outputs": [],
   "source": [
    "#How many Airbnb listings in London are operated by management companies?\n",
    "Assumption – host = management company\n",
    "\n",
    "g. Top listing words example from London – but in host_about\n",
    "\n",
    "#Crete empty list where we are going to put the name strings\n",
    "names=[]\n",
    "#Getting name string from 'name' column and appending it to the empty list\n",
    "for name in airbnb.name:\n",
    "    names.append(name)\n",
    "\n",
    "#Setting a function to split name strings into seperate words\n",
    "def split_name(name):\n",
    "    s = str(name).split()\n",
    "    return s\n",
    "\n",
    "#Create empty list where we are going to count the words\n",
    "names_count = []\n",
    "#Getting name string to appending it to the names_count list\n",
    "for n in names:\n",
    "    for word in split_name(n):\n",
    "        word = word.lower()\n",
    "        names_count.append(word)\n",
    "\n",
    "        \n",
    "from collections import Counter\n",
    "top_25 = Counter(names_count).most_common()\n",
    "top_25 = top_25[:25]\n",
    "\n",
    "word_count_data = pd.DataFrame(top_25)\n",
    "word_count_data.rename(columns={0:'Words',1:'Counts'},inplace=True)\n",
    "viz_count = sns.barplot(x='Words',y='Counts', data = word_count_data)\n",
    "viz_count.set_title('Top 25 used words for listing names')\n",
    "viz_count.set_ylabel('Count of words')\n",
    "viz_count.set_xlabel('Words')\n",
    "viz_count.set_xticklabels(viz_count.get_xticklabels(),rotation = 90)"
   ]
  },
  {
   "cell_type": "code",
   "execution_count": null,
   "metadata": {},
   "outputs": [],
   "source": [
    "#Is the problem of 'ghost hotels' concentrated in certain areas of London or spread throughout?\n",
    "\n",
    "coord = airbnb.loc[:,['longitude','latitude']]\n",
    "coord.describe()\n",
    "\n",
    "plt.figure(figsize=(18,12))\n",
    "plt.style.use('fivethirtyeight')\n",
    "BBox = (103.5935, 104.0625, 1.1775, 1.5050)\n",
    "sg_map = plt.imread('map_bnw.png')\n",
    "plt.imshow(sg_map,zorder=0,extent=BBox)\n",
    "ax = plt.gca()\n",
    "groups = airbnb.groupby('neighbourhood_group')\n",
    "for name,group in groups :\n",
    "    plt.scatter(group['longitude'],group['latitude'],label=name,alpha=0.5, edgecolors='k')\n",
    "plt.xlabel('Longitude')\n",
    "plt.ylabel('Latitude')\n",
    "plt.legend()\n",
    "\n",
    "import folium\n",
    "from folium.plugins import HeatMap\n",
    "map_folium = folium.Map([1.35255,103.82580],zoom_start=11.4)\n",
    "HeatMap(airbnb[['latitude','longitude']].dropna(),radius=8,gradient={0.2:'blue',0.4:'purple',0.6:'orange',1.0:'red'}).add_to(map_folium)\n",
    "display(map_folium)\n"
   ]
  },
  {
   "cell_type": "markdown",
   "metadata": {},
   "source": [
    "---"
   ]
  },
  {
   "cell_type": "markdown",
   "metadata": {},
   "source": [
    "## Part 2 - Executive Briefing"
   ]
  },
  {
   "cell_type": "markdown",
   "metadata": {},
   "source": [
    "---"
   ]
  },
  {
   "cell_type": "markdown",
   "metadata": {},
   "source": [
    "### 1 Executive Summary"
   ]
  },
  {
   "cell_type": "markdown",
   "metadata": {},
   "source": [
    "This report provides an analysis of Airbnb activity in London based on data sourced from the Inside Airbnb website for the month of August 2019 – the last summer month prior to the COVID-19 pandemic. Through exploratory data analysis, we define what a ‘ghost hotel’ is and then set out to answer four main questions:\n",
    "1. How many Airbnb listings in London are not the primary residence of the host?\n",
    "2. How many Airbnb listings in London can be attributed to hosts with multiple listings?\n",
    "3. How many Airbnb listings in London are operated by management companies?\n",
    "4. Is the problem of ‘ghost hotels’ concentrated in certain areas of London or spread throughout?"
   ]
  },
  {
   "cell_type": "markdown",
   "metadata": {},
   "source": [
    "#### Key Findings"
   ]
  },
  {
   "cell_type": "raw",
   "metadata": {},
   "source": [
    "1.\tOne\n",
    "2.\tTwo\n",
    "3.\tThree\n",
    "4.\tFour\n",
    "5.\tFive"
   ]
  },
  {
   "cell_type": "markdown",
   "metadata": {},
   "source": [
    "#### Recommendations"
   ]
  },
  {
   "cell_type": "raw",
   "metadata": {},
   "source": [
    "1.\tOne\n",
    "2.\tTwo\n",
    "3.\tThree\n",
    "4.\tFour\n",
    "5.\tFive"
   ]
  },
  {
   "cell_type": "markdown",
   "metadata": {},
   "source": [
    "---"
   ]
  },
  {
   "cell_type": "markdown",
   "metadata": {},
   "source": [
    "### 2 Background"
   ]
  },
  {
   "cell_type": "markdown",
   "metadata": {},
   "source": [
    "#### Airbnb"
   ]
  },
  {
   "cell_type": "raw",
   "metadata": {},
   "source": [
    "•Platform that facilitates homeowners to make extra money by offering their extra rooms at a nightly rate and/or their entire home for when they are away\n",
    "•Simple concept on the surface, extra money for the little guy\n",
    "•Airbnb does not"
   ]
  },
  {
   "cell_type": "markdown",
   "metadata": {},
   "source": [
    "#### 'Ghost Hotels'"
   ]
  },
  {
   "cell_type": "raw",
   "metadata": {},
   "source": [
    "•To understand what a ghost hotel is, we must understand the following\n",
    "•Not the primary residence of the owner, but rather used solely for the purpose of renting at a nightly rate – like a hotel room \n",
    "•Multiple units/rooms – like a hotel; and\n",
    "•Buy virtue of using the Airbnb platform, there are no hotel staff – ghosts"
   ]
  },
  {
   "cell_type": "markdown",
   "metadata": {},
   "source": [
    "#### Inside Airbnb"
   ]
  },
  {
   "cell_type": "raw",
   "metadata": {},
   "source": [
    "•Scrapes data from Airbnb website\n",
    "•Airbnb does not provide owner information so not possible to verify\n",
    "•Using scraped data can assist in answering some questions though"
   ]
  },
  {
   "cell_type": "markdown",
   "metadata": {},
   "source": [
    "---"
   ]
  },
  {
   "cell_type": "markdown",
   "metadata": {},
   "source": [
    "### 3 Analysis"
   ]
  },
  {
   "cell_type": "markdown",
   "metadata": {},
   "source": [
    "#### How many Airbnb listings in London are not the primary residence of the host?"
   ]
  },
  {
   "cell_type": "raw",
   "metadata": {},
   "source": []
  },
  {
   "cell_type": "code",
   "execution_count": null,
   "metadata": {},
   "outputs": [],
   "source": []
  },
  {
   "cell_type": "markdown",
   "metadata": {},
   "source": [
    "#### How many Airbnb listings in London can be attributed to hosts with multiple listings? "
   ]
  },
  {
   "cell_type": "raw",
   "metadata": {},
   "source": []
  },
  {
   "cell_type": "code",
   "execution_count": null,
   "metadata": {},
   "outputs": [],
   "source": []
  },
  {
   "cell_type": "markdown",
   "metadata": {},
   "source": [
    "#### How many Airbnb listings in London are operated by management companies? "
   ]
  },
  {
   "cell_type": "raw",
   "metadata": {},
   "source": []
  },
  {
   "cell_type": "code",
   "execution_count": null,
   "metadata": {},
   "outputs": [],
   "source": []
  },
  {
   "cell_type": "markdown",
   "metadata": {},
   "source": [
    "#### Is the problem of 'ghost hotels' concentrated in certain areas of London or spread throughout?"
   ]
  },
  {
   "cell_type": "raw",
   "metadata": {},
   "source": []
  },
  {
   "cell_type": "code",
   "execution_count": null,
   "metadata": {},
   "outputs": [],
   "source": []
  },
  {
   "cell_type": "markdown",
   "metadata": {},
   "source": [
    "---"
   ]
  },
  {
   "cell_type": "markdown",
   "metadata": {},
   "source": [
    "### 4 Conclusion"
   ]
  },
  {
   "cell_type": "raw",
   "metadata": {},
   "source": []
  },
  {
   "cell_type": "markdown",
   "metadata": {},
   "source": [
    "---"
   ]
  },
  {
   "cell_type": "markdown",
   "metadata": {},
   "source": [
    "### 5 References"
   ]
  },
  {
   "cell_type": "raw",
   "metadata": {},
   "source": []
  }
 ],
 "metadata": {
  "kernelspec": {
   "display_name": "Python 3",
   "language": "python",
   "name": "python3"
  },
  "language_info": {
   "codemirror_mode": {
    "name": "ipython",
    "version": 3
   },
   "file_extension": ".py",
   "mimetype": "text/x-python",
   "name": "python",
   "nbconvert_exporter": "python",
   "pygments_lexer": "ipython3",
   "version": "3.7.8"
  },
  "toc-autonumbering": false,
  "toc-showcode": false,
  "toc-showmarkdowntxt": false,
  "toc-showtags": false
 },
 "nbformat": 4,
 "nbformat_minor": 4
}
